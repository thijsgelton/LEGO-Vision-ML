{
 "cells": [
  {
   "cell_type": "markdown",
   "metadata": {},
   "source": [
    "# Configuration Azure Machine Learning Service"
   ]
  },
  {
   "cell_type": "code",
   "execution_count": 1,
   "metadata": {},
   "outputs": [
    {
     "name": "stdout",
     "output_type": "stream",
     "text": [
      "SDK version: 0.1.65\n"
     ]
    }
   ],
   "source": [
    "# Check core SDK version number\n",
    "import azureml.core\n",
    "\n",
    "print(\"SDK version:\", azureml.core.VERSION)"
   ]
  },
  {
   "cell_type": "code",
   "execution_count": 2,
   "metadata": {
    "scrolled": false
   },
   "outputs": [
    {
     "name": "stdout",
     "output_type": "stream",
     "text": [
      "Found the config file in: C:\\Users\\Thijs\\PycharmProjects\\LEGO Vision\\Notebooks\\aml_config\\config.json\n",
      "Workspace name: LEGO-Vision\n",
      "Azure region: westeurope\n",
      "Subscription id: 2f5c43ac-ac34-401d-bead-2dc43ffdc4b1\n",
      "Resource group: LEGO-Vision\n"
     ]
    }
   ],
   "source": [
    "from azureml.core.workspace import Workspace\n",
    "\n",
    "ws = Workspace.from_config()\n",
    "print('Workspace name: ' + ws.name, \n",
    "      'Azure region: ' + ws.location, \n",
    "      'Subscription id: ' + ws.subscription_id, \n",
    "      'Resource group: ' + ws.resource_group, sep = '\\n')"
   ]
  },
  {
   "cell_type": "code",
   "execution_count": 3,
   "metadata": {
    "scrolled": false
   },
   "outputs": [
    {
     "name": "stdout",
     "output_type": "stream",
     "text": [
      "Found existing compute target.\n"
     ]
    }
   ],
   "source": [
    "from azureml.core.compute import ComputeTarget, BatchAiCompute\n",
    "from azureml.core.compute_target import ComputeTargetException\n",
    "\n",
    "# choose a name for your cluster\n",
    "cluster_name = \"LEGO-Visiongpu-3\"\n",
    "\n",
    "try:\n",
    "    compute_target_three = ComputeTarget(workspace=ws, name=cluster_name)\n",
    "    print('Found existing compute target.')\n",
    "except ComputeTargetException:\n",
    "    print('Creating a new compute target...')\n",
    "    compute_config = BatchAiCompute.provisioning_configuration(vm_size='STANDARD_NC6', \n",
    "                                                                autoscale_enabled=True,\n",
    "                                                                cluster_min_nodes=0, \n",
    "                                                                cluster_max_nodes=4)\n",
    "\n",
    "    # create the cluster\n",
    "    compute_target_three = ComputeTarget.create(ws, cluster_name, compute_config)\n",
    "\n",
    "    compute_target_three.wait_for_completion(show_output=True)\n",
    "\n",
    "    # Use the 'status' property to get a detailed status for the current cluster. \n",
    "    print(compute_target_three.status.serialize())"
   ]
  },
  {
   "cell_type": "code",
   "execution_count": 4,
   "metadata": {
    "scrolled": true
   },
   "outputs": [
    {
     "name": "stdout",
     "output_type": "stream",
     "text": [
      "AzureFile legovision1529597820 azureml-filestore-f0102bff-6d0a-47ad-b50c-4709fd2f206a\n"
     ]
    }
   ],
   "source": [
    "ds = ws.get_default_datastore()\n",
    "print(ds.datastore_type, ds.account_name, ds.container_name)"
   ]
  },
  {
   "cell_type": "code",
   "execution_count": 5,
   "metadata": {},
   "outputs": [
    {
     "data": {
      "text/plain": [
       "$AZUREML_DATAREFERENCE_78722bcbd92844379853f4731f1df55a"
      ]
     },
     "execution_count": 5,
     "metadata": {},
     "output_type": "execute_result"
    }
   ],
   "source": [
    "ds.upload(src_dir=r'D:\\LEGO Vision Datasets\\classification-synthetic-data', target_path='lego-vision-classification-synthetic-data-white-background', overwrite=True, show_progress=True)"
   ]
  },
  {
   "cell_type": "markdown",
   "metadata": {},
   "source": [
    "# Naive Bayes"
   ]
  },
  {
   "cell_type": "markdown",
   "metadata": {},
   "source": [
    "## Natural Data"
   ]
  },
  {
   "cell_type": "code",
   "execution_count": 5,
   "metadata": {},
   "outputs": [
    {
     "name": "stdout",
     "output_type": "stream",
     "text": [
      "$AZUREML_DATAREFERENCE_116bc9565d63408c8de4e90fa28fb1c7\n"
     ]
    }
   ],
   "source": [
    "# ds_data_dir_syn = ds.path('lego-vision-classification')\n",
    "ds_data_dir_nat = ds.path('lego-vision-classification-natural-data-white-background')\n",
    "\n",
    "print(ds_data_dir_nat)"
   ]
  },
  {
   "cell_type": "code",
   "execution_count": 6,
   "metadata": {},
   "outputs": [],
   "source": [
    "import os\n",
    "\n",
    "project_folder = './nb-hog-dom-selfmade-hyperdrive'\n",
    "os.makedirs(project_folder, exist_ok=True)"
   ]
  },
  {
   "cell_type": "code",
   "execution_count": 7,
   "metadata": {},
   "outputs": [
    {
     "data": {
      "text/plain": [
       "'./nb-hog-dom-selfmade-hyperdrive\\\\internal_hyperdrive_natural_data.py'"
      ]
     },
     "execution_count": 7,
     "metadata": {},
     "output_type": "execute_result"
    }
   ],
   "source": [
    "import shutil\n",
    "shutil.copy('internal_hyperdrive_natural_data.py', project_folder)"
   ]
  },
  {
   "cell_type": "code",
   "execution_count": 8,
   "metadata": {},
   "outputs": [
    {
     "data": {
      "text/plain": [
       "'./nb-hog-dom-selfmade-hyperdrive\\\\helpers.py'"
      ]
     },
     "execution_count": 8,
     "metadata": {},
     "output_type": "execute_result"
    }
   ],
   "source": [
    "shutil.copy('helpers.py', project_folder)"
   ]
  },
  {
   "cell_type": "code",
   "execution_count": 9,
   "metadata": {},
   "outputs": [],
   "source": [
    "from azureml.core import Experiment\n",
    "\n",
    "experiment_name = 'nb-hog-dom-selfmade-hyperdrive'\n",
    "experiment_nb_natural_data = Experiment(ws, name=experiment_name)"
   ]
  },
  {
   "cell_type": "code",
   "execution_count": 10,
   "metadata": {},
   "outputs": [],
   "source": [
    "from azureml.train.estimator import Estimator\n",
    "\n",
    "script_params = {\n",
    "    '--data_dir': ds_data_dir_nat,\n",
    "    '--output_dir': './outputs',\n",
    "    '--classifier': 'multinomial',\n",
    "    '--number_of_samples': 3200\n",
    "}\n",
    "\n",
    "estimator_natural_data = Estimator(source_directory=project_folder, \n",
    "                                  script_params=script_params,\n",
    "                                  compute_target=compute_target_three,\n",
    "                                  entry_script='internal_hyperdrive_natural_data.py',\n",
    "                                  use_gpu=True,\n",
    "                                  conda_packages=['scikit-learn', 'matplotlib', 'Pillow', 'scikit-image'])"
   ]
  },
  {
   "cell_type": "code",
   "execution_count": 11,
   "metadata": {
    "scrolled": false
   },
   "outputs": [
    {
     "data": {
      "text/html": [
       "<table style=\"width:100%\"><tr><th>Experiment</th><th>Id</th><th>Type</th><th>Status</th><th>Details Page</th><th>Docs Page</th></tr><tr><td>nb-hog-dom-selfmade-hyperdrive</td><td>nb-hog-dom-selfmade-hyperdrive_1540569161633</td><td>azureml.scriptrun</td><td>Queued</td><td><a href=\"https://mlworkspace.azure.ai/portal/subscriptions/2f5c43ac-ac34-401d-bead-2dc43ffdc4b1/resourceGroups/LEGO-Vision/providers/Microsoft.MachineLearningServices/workspaces/LEGO-Vision/experiments/nb-hog-dom-selfmade-hyperdrive/runs/nb-hog-dom-selfmade-hyperdrive_1540569161633\" target=\"_blank\" rel=\"noopener\">Link to Azure Portal</a></td><td><a href=\"https://docs.microsoft.com/en-us/python/api/azureml-core/azureml.core.script_run.ScriptRun?view=azure-ml-py\" target=\"_blank\" rel=\"noopener\">Link to Documentation</a></td></tr></table>"
      ],
      "text/plain": [
       "Run(Experiment: nb-hog-dom-selfmade-hyperdrive,\n",
       "Id: nb-hog-dom-selfmade-hyperdrive_1540569161633,\n",
       "Type: azureml.scriptrun,\n",
       "Status: Queued)"
      ]
     },
     "execution_count": 11,
     "metadata": {},
     "output_type": "execute_result"
    }
   ],
   "source": [
    "run_natural_data = experiment_nb_natural_data.submit(estimator_natural_data)\n",
    "run_natural_data"
   ]
  },
  {
   "cell_type": "code",
   "execution_count": 28,
   "metadata": {
    "scrolled": false
   },
   "outputs": [
    {
     "data": {
      "application/vnd.jupyter.widget-view+json": {
       "model_id": "d50108c5a2c746f4b02c9ecece0358af",
       "version_major": 2,
       "version_minor": 0
      },
      "text/plain": [
       "_UserRun()"
      ]
     },
     "metadata": {},
     "output_type": "display_data"
    }
   ],
   "source": [
    "from azureml.train.widgets import RunDetails\n",
    "RunDetails(run).show()"
   ]
  },
  {
   "cell_type": "code",
   "execution_count": 32,
   "metadata": {},
   "outputs": [
    {
     "data": {
      "text/plain": [
       "<azureml.train.hyperdrive.runconfig.HyperDriveRunConfig at 0x261deb0bc18>"
      ]
     },
     "execution_count": 32,
     "metadata": {},
     "output_type": "execute_result"
    }
   ],
   "source": [
    "from azureml.train.hyperdrive import *\n",
    "\n",
    "\n",
    "ps = GridParameterSampling(\n",
    "    {\n",
    "        '--number_of_samples': choice(200, 400, 800, 1600, 3200),\n",
    "        '--shape': choice('32', '64', '128', '256'),\n",
    "        '--color_insensitive': choice(0, 1)\n",
    "    }\n",
    ")\n",
    "\n",
    "early_termination_policy = BanditPolicy(slack_factor = 0.3, evaluation_interval=1, delay_evaluation=1)\n",
    "\n",
    "hyperdrive_run_config = HyperDriveRunConfig(estimator=estimator_natural_data,\n",
    "                                            hyperparameter_sampling=ps,\n",
    "                                            policy=early_termination_policy,\n",
    "                                            primary_metric_name=\"f_score\",\n",
    "                                            primary_metric_goal=PrimaryMetricGoal.MAXIMIZE,\n",
    "                                            max_total_runs=100,\n",
    "                                            max_concurrent_runs=4)\n",
    "hyperdrive_run_config"
   ]
  },
  {
   "cell_type": "code",
   "execution_count": 33,
   "metadata": {},
   "outputs": [],
   "source": [
    "hyperdrive_run = experiment_nb.submit(hyperdrive_run_config)"
   ]
  },
  {
   "cell_type": "code",
   "execution_count": 37,
   "metadata": {
    "scrolled": true
   },
   "outputs": [
    {
     "data": {
      "application/vnd.jupyter.widget-view+json": {
       "model_id": "eaf9adc2558f40dc8ab350afd5aaaf01",
       "version_major": 2,
       "version_minor": 0
      },
      "text/plain": [
       "_HyperDrive(widget_settings={'childWidgetDisplay': 'popup'})"
      ]
     },
     "metadata": {},
     "output_type": "display_data"
    }
   ],
   "source": [
    "from azureml.train.widgets import RunDetails\n",
    "RunDetails(hyperdrive_run).show()"
   ]
  },
  {
   "cell_type": "code",
   "execution_count": null,
   "metadata": {},
   "outputs": [
    {
     "name": "stdout",
     "output_type": "stream",
     "text": [
      "RunId: nb-hog-dom-natural-data_1540389673260\n"
     ]
    },
    {
     "name": "stderr",
     "output_type": "stream",
     "text": [
      "Exception ignored in: <bound method ClientBase.__del__ of <azureml._restclient.run_history_client.RunHistoryClient object at 0x00000261DF086240>>\n",
      "Traceback (most recent call last):\n",
      "  File \"c:\\users\\thijs\\appdata\\local\\programs\\python\\python36\\lib\\site-packages\\azureml\\_restclient\\clientbase.py\", line 71, in __del__\n",
      "    self._pool.shutdown()\n",
      "  File \"c:\\users\\thijs\\appdata\\local\\programs\\python\\python36\\lib\\site-packages\\azureml\\_async\\worker_pool.py\", line 29, in shutdown\n",
      "    super(WorkerPool, self).shutdown(*args, **kwargs)\n",
      "  File \"c:\\users\\thijs\\appdata\\local\\programs\\python\\python36\\lib\\concurrent\\futures\\thread.py\", line 152, in shutdown\n",
      "    t.join()\n",
      "  File \"c:\\users\\thijs\\appdata\\local\\programs\\python\\python36\\lib\\threading.py\", line 1053, in join\n",
      "    raise RuntimeError(\"cannot join current thread\")\n",
      "RuntimeError: cannot join current thread\n",
      "Exception ignored in: <bound method ClientBase.__del__ of <azureml._restclient.run_history_client.RunHistoryClient object at 0x00000261D8BFD4A8>>\n",
      "Traceback (most recent call last):\n",
      "  File \"c:\\users\\thijs\\appdata\\local\\programs\\python\\python36\\lib\\site-packages\\azureml\\_restclient\\clientbase.py\", line 71, in __del__\n",
      "    self._pool.shutdown()\n",
      "  File \"c:\\users\\thijs\\appdata\\local\\programs\\python\\python36\\lib\\site-packages\\azureml\\_async\\worker_pool.py\", line 29, in shutdown\n",
      "    super(WorkerPool, self).shutdown(*args, **kwargs)\n",
      "  File \"c:\\users\\thijs\\appdata\\local\\programs\\python\\python36\\lib\\concurrent\\futures\\thread.py\", line 152, in shutdown\n",
      "    t.join()\n",
      "  File \"c:\\users\\thijs\\appdata\\local\\programs\\python\\python36\\lib\\threading.py\", line 1053, in join\n",
      "    raise RuntimeError(\"cannot join current thread\")\n",
      "RuntimeError: cannot join current thread\n",
      "Exception ignored in: <bound method ClientBase.__del__ of <azureml._restclient.run_history_client.RunHistoryClient object at 0x00000261DF052F98>>\n",
      "Traceback (most recent call last):\n",
      "  File \"c:\\users\\thijs\\appdata\\local\\programs\\python\\python36\\lib\\site-packages\\azureml\\_restclient\\clientbase.py\", line 71, in __del__\n",
      "    self._pool.shutdown()\n",
      "  File \"c:\\users\\thijs\\appdata\\local\\programs\\python\\python36\\lib\\site-packages\\azureml\\_async\\worker_pool.py\", line 29, in shutdown\n",
      "    super(WorkerPool, self).shutdown(*args, **kwargs)\n",
      "  File \"c:\\users\\thijs\\appdata\\local\\programs\\python\\python36\\lib\\concurrent\\futures\\thread.py\", line 152, in shutdown\n",
      "    t.join()\n",
      "  File \"c:\\users\\thijs\\appdata\\local\\programs\\python\\python36\\lib\\threading.py\", line 1053, in join\n",
      "    raise RuntimeError(\"cannot join current thread\")\n",
      "RuntimeError: cannot join current thread\n"
     ]
    }
   ],
   "source": [
    "hyperdrive_run.wait_for_completion(show_output=True)"
   ]
  },
  {
   "cell_type": "markdown",
   "metadata": {
    "heading_collapsed": true
   },
   "source": [
    "## Syntetic and Natural Data"
   ]
  },
  {
   "cell_type": "code",
   "execution_count": 6,
   "metadata": {
    "hidden": true
   },
   "outputs": [
    {
     "name": "stdout",
     "output_type": "stream",
     "text": [
      "$AZUREML_DATAREFERENCE_19e2bd49d2524e34bf9976c1d6237b9d\n"
     ]
    }
   ],
   "source": [
    "# ds_data_dir_syn = ds.path('lego-vision-classification')\n",
    "ds_data_dir_nat = ds.path('lego-vision-classification-natural-data-white-background')\n",
    "\n",
    "print(ds_data_dir_nat)"
   ]
  },
  {
   "cell_type": "code",
   "execution_count": 7,
   "metadata": {
    "hidden": true
   },
   "outputs": [
    {
     "name": "stdout",
     "output_type": "stream",
     "text": [
      "$AZUREML_DATAREFERENCE_04f6004ecbf24f02852ebd7a22d19b93\n"
     ]
    }
   ],
   "source": [
    "# ds_data_dir_syn = ds.path('lego-vision-classification')\n",
    "ds_data_dir_syn = ds.path('lego-vision-classification-synthetic-data-white-background')\n",
    "\n",
    "print(ds_data_dir_syn)"
   ]
  },
  {
   "cell_type": "code",
   "execution_count": 9,
   "metadata": {
    "hidden": true
   },
   "outputs": [],
   "source": [
    "import os\n",
    "\n",
    "project_folder = './nb-hog-dom-synthetic-data'\n",
    "os.makedirs(project_folder, exist_ok=True)"
   ]
  },
  {
   "cell_type": "code",
   "execution_count": 10,
   "metadata": {
    "hidden": true
   },
   "outputs": [
    {
     "data": {
      "text/plain": [
       "'./nb-hog-dom-synthetic-data\\\\feature_extraction_experiment.py'"
      ]
     },
     "execution_count": 10,
     "metadata": {},
     "output_type": "execute_result"
    }
   ],
   "source": [
    "import shutil\n",
    "shutil.copy('feature_extraction_experiment.py', project_folder)"
   ]
  },
  {
   "cell_type": "code",
   "execution_count": 11,
   "metadata": {
    "hidden": true
   },
   "outputs": [
    {
     "data": {
      "text/plain": [
       "'./nb-hog-dom-synthetic-data\\\\helpers.py'"
      ]
     },
     "execution_count": 11,
     "metadata": {},
     "output_type": "execute_result"
    }
   ],
   "source": [
    "shutil.copy('helpers.py', project_folder)"
   ]
  },
  {
   "cell_type": "code",
   "execution_count": 12,
   "metadata": {
    "hidden": true
   },
   "outputs": [],
   "source": [
    "from azureml.core import Experiment\n",
    "\n",
    "experiment_name = 'nb-hog-dom-synthetic-data'\n",
    "experiment_nb_synthetic_data = Experiment(ws, name=experiment_name)"
   ]
  },
  {
   "cell_type": "code",
   "execution_count": 19,
   "metadata": {
    "hidden": true
   },
   "outputs": [],
   "source": [
    "from azureml.train.estimator import Estimator\n",
    "\n",
    "script_params = {\n",
    "    '--data_dir': ds_data_dir_syn,\n",
    "    '--test_dir': ds_data_dir_nat,\n",
    "    '--output_dir': './outputs',\n",
    "    '--classifier': 'multinomial',\n",
    "    '--number_of_samples': 5\n",
    "}\n",
    "\n",
    "estimator_synthetic = Estimator(source_directory=project_folder, \n",
    "                      script_params=script_params,\n",
    "                      compute_target=compute_target_three,\n",
    "                      entry_script='feature_extraction_experiment.py',\n",
    "                      use_gpu=True,\n",
    "                      conda_packages=['scikit-learn', 'matplotlib', 'Pillow', 'scikit-image'])"
   ]
  },
  {
   "cell_type": "code",
   "execution_count": 20,
   "metadata": {
    "hidden": true,
    "scrolled": false
   },
   "outputs": [
    {
     "data": {
      "text/html": [
       "<table style=\"width:100%\"><tr><th>Experiment</th><th>Id</th><th>Type</th><th>Status</th><th>Details Page</th><th>Docs Page</th></tr><tr><td>nb-hog-dom-synthetic-data</td><td>nb-hog-dom-synthetic-data_1540466376579</td><td>azureml.scriptrun</td><td>Queued</td><td><a href=\"https://mlworkspace.azure.ai/portal/subscriptions/2f5c43ac-ac34-401d-bead-2dc43ffdc4b1/resourceGroups/LEGO-Vision/providers/Microsoft.MachineLearningServices/workspaces/LEGO-Vision/experiments/nb-hog-dom-synthetic-data/runs/nb-hog-dom-synthetic-data_1540466376579\" target=\"_blank\" rel=\"noopener\">Link to Azure Portal</a></td><td><a href=\"https://docs.microsoft.com/en-us/python/api/azureml-core/azureml.core.script_run.ScriptRun?view=azure-ml-py\" target=\"_blank\" rel=\"noopener\">Link to Documentation</a></td></tr></table>"
      ],
      "text/plain": [
       "Run(Experiment: nb-hog-dom-synthetic-data,\n",
       "Id: nb-hog-dom-synthetic-data_1540466376579,\n",
       "Type: azureml.scriptrun,\n",
       "Status: Queued)"
      ]
     },
     "execution_count": 20,
     "metadata": {},
     "output_type": "execute_result"
    }
   ],
   "source": [
    "run_synthetic = experiment_nb_synthetic_data.submit(estimator_synthetic)"
   ]
  },
  {
   "cell_type": "code",
   "execution_count": 21,
   "metadata": {
    "hidden": true,
    "scrolled": false
   },
   "outputs": [
    {
     "data": {
      "application/vnd.jupyter.widget-view+json": {
       "model_id": "75cc7d7bc6c84076b8970a718e9d3578",
       "version_major": 2,
       "version_minor": 0
      },
      "text/plain": [
       "_UserRun()"
      ]
     },
     "metadata": {},
     "output_type": "display_data"
    }
   ],
   "source": [
    "from azureml.train.widgets import RunDetails\n",
    "RunDetails(run_synthetic).show()"
   ]
  },
  {
   "cell_type": "code",
   "execution_count": 26,
   "metadata": {
    "hidden": true
   },
   "outputs": [
    {
     "data": {
      "text/plain": [
       "<azureml.train.hyperdrive.runconfig.HyperDriveRunConfig at 0x1bc4005f240>"
      ]
     },
     "execution_count": 26,
     "metadata": {},
     "output_type": "execute_result"
    }
   ],
   "source": [
    "from azureml.train.hyperdrive import *\n",
    "\n",
    "\n",
    "ps = GridParameterSampling(\n",
    "    {\n",
    "        '--number_of_samples': choice(200, 400, 800, 1000),\n",
    "        '--shape': choice('32', '64', '128', '256'),\n",
    "        '--color_insensitive': choice(0, 1)\n",
    "    }\n",
    ")\n",
    "\n",
    "early_termination_policy = BanditPolicy(slack_factor = 0.3, evaluation_interval=1, delay_evaluation=1)\n",
    "\n",
    "hyperdrive_run_config = HyperDriveRunConfig(estimator=estimator_synthetic,\n",
    "                                            hyperparameter_sampling=ps,\n",
    "                                            policy=early_termination_policy,\n",
    "                                            primary_metric_name=\"f_score\",\n",
    "                                            primary_metric_goal=PrimaryMetricGoal.MAXIMIZE,\n",
    "                                            max_total_runs=100,\n",
    "                                            max_concurrent_runs=4)\n",
    "hyperdrive_run_config"
   ]
  },
  {
   "cell_type": "code",
   "execution_count": 27,
   "metadata": {
    "hidden": true
   },
   "outputs": [
    {
     "name": "stderr",
     "output_type": "stream",
     "text": [
      "The same input parameter(s) are specified in estimator script params and HyperDrive parameter space. HyperDrive parameter space definition will override duplicate entries in estimator. ['--number_of_samples'] is the list of overridden parameter(s).\n"
     ]
    }
   ],
   "source": [
    "hyperdrive_run_syn = experiment_nb_synthetic_data.submit(hyperdrive_run_config)"
   ]
  },
  {
   "cell_type": "code",
   "execution_count": 29,
   "metadata": {
    "hidden": true,
    "scrolled": true
   },
   "outputs": [
    {
     "data": {
      "application/vnd.jupyter.widget-view+json": {
       "model_id": "fe7535853de14f778c6b57e37957d66e",
       "version_major": 2,
       "version_minor": 0
      },
      "text/plain": [
       "_HyperDrive(widget_settings={'childWidgetDisplay': 'popup'})"
      ]
     },
     "metadata": {},
     "output_type": "display_data"
    }
   ],
   "source": [
    "from azureml.train.widgets import RunDetails\n",
    "RunDetails(hyperdrive_run_syn).show()"
   ]
  }
 ],
 "metadata": {
  "kernelspec": {
   "display_name": "Python 3",
   "language": "python",
   "name": "python3"
  },
  "language_info": {
   "codemirror_mode": {
    "name": "ipython",
    "version": 3
   },
   "file_extension": ".py",
   "mimetype": "text/x-python",
   "name": "python",
   "nbconvert_exporter": "python",
   "pygments_lexer": "ipython3",
   "version": "3.6.4"
  }
 },
 "nbformat": 4,
 "nbformat_minor": 2
}
