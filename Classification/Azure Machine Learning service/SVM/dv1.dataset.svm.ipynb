{
 "cells": [
  {
   "cell_type": "markdown",
   "metadata": {},
   "source": [
    "# Configuration Azure Machine Learning Service"
   ]
  },
  {
   "cell_type": "code",
   "execution_count": 13,
   "metadata": {},
   "outputs": [
    {
     "name": "stdout",
     "output_type": "stream",
     "text": [
      "SDK version: 0.1.65\n"
     ]
    }
   ],
   "source": [
    "# Check core SDK version number\n",
    "import azureml.core\n",
    "\n",
    "print(\"SDK version:\", azureml.core.VERSION)"
   ]
  },
  {
   "cell_type": "code",
   "execution_count": 31,
   "metadata": {
    "scrolled": false
   },
   "outputs": [
    {
     "name": "stdout",
     "output_type": "stream",
     "text": [
      "Found the config file in: C:\\Users\\Thijs\\PycharmProjects\\LEGO Vision\\Notebooks\\aml_config\\config.json\n",
      "Workspace name: LEGO-Vision\n",
      "Azure region: westeurope\n",
      "Subscription id: 2f5c43ac-ac34-401d-bead-2dc43ffdc4b1\n",
      "Resource group: LEGO-Vision\n",
      "Workspace details: {'id': '/subscriptions/2f5c43ac-ac34-401d-bead-2dc43ffdc4b1/resourceGroups/LEGO-Vision/providers/Microsoft.MachineLearningServices/workspaces/LEGO-Vision', 'name': 'LEGO-Vision', 'location': 'westeurope', 'type': 'Microsoft.MachineLearningServices/workspaces', 'description': '', 'friendlyName': '', 'containerRegistry': '/subscriptions/2f5c43ac-ac34-401d-bead-2dc43ffdc4b1/resourcegroups/lego-vision/providers/microsoft.containerregistry/registries/legovision6039404951', 'keyVault': '/subscriptions/2f5c43ac-ac34-401d-bead-2dc43ffdc4b1/resourcegroups/lego-vision/providers/microsoft.keyvault/vaults/legovision1769742005', 'applicationInsights': '/subscriptions/2f5c43ac-ac34-401d-bead-2dc43ffdc4b1/resourcegroups/lego-vision/providers/microsoft.insights/components/legovision6272291594', 'identityPrincipalId': 'b46ca91a-e7ff-42c5-aefb-0265d46bd658', 'identityTenantId': 'bd82c850-31e3-468e-a170-886174a9e22d', 'identityType': 'SystemAssigned', 'storageAccount': '/subscriptions/2f5c43ac-ac34-401d-bead-2dc43ffdc4b1/resourcegroups/lego-vision/providers/microsoft.storage/storageaccounts/legovision1529597820'}\n"
     ]
    }
   ],
   "source": [
    "from azureml.core.workspace import Workspace\n",
    "\n",
    "ws = Workspace.from_config()\n",
    "print('Workspace name: ' + ws.name, \n",
    "      'Azure region: ' + ws.location, \n",
    "      'Subscription id: ' + ws.subscription_id, \n",
    "      'Resource group: ' + ws.resource_group,\n",
    "      f'Workspace details: {ws.get_details()}', sep = '\\n')"
   ]
  },
  {
   "cell_type": "code",
   "execution_count": 15,
   "metadata": {},
   "outputs": [
    {
     "name": "stdout",
     "output_type": "stream",
     "text": [
      "Found existing compute target.\n"
     ]
    }
   ],
   "source": [
    "from azureml.core.compute import ComputeTarget, BatchAiCompute\n",
    "from azureml.core.compute_target import ComputeTargetException\n",
    "\n",
    "# choose a name for your cluster\n",
    "cluster_name = \"LEGO-Visiongpu-3\"\n",
    "\n",
    "try:\n",
    "    compute_target_three = ComputeTarget(workspace=ws, name=cluster_name)\n",
    "    print('Found existing compute target.')\n",
    "except ComputeTargetException:\n",
    "    print('Creating a new compute target...')\n",
    "    compute_config = BatchAiCompute.provisioning_configuration(vm_size='STANDARD_NC6', \n",
    "                                                                autoscale_enabled=True,\n",
    "                                                                cluster_min_nodes=0, \n",
    "                                                                cluster_max_nodes=4)\n",
    "\n",
    "    # create the cluster\n",
    "    compute_target_three = ComputeTarget.create(ws, cluster_name, compute_config)\n",
    "\n",
    "    compute_target_three.wait_for_completion(show_output=True)\n",
    "\n",
    "    # Use the 'status' property to get a detailed status for the current cluster. \n",
    "    print(compute_target_three.status.serialize())"
   ]
  },
  {
   "cell_type": "code",
   "execution_count": 16,
   "metadata": {
    "scrolled": true
   },
   "outputs": [
    {
     "name": "stdout",
     "output_type": "stream",
     "text": [
      "AzureFile legovision1529597820 azureml-filestore-f0102bff-6d0a-47ad-b50c-4709fd2f206a\n"
     ]
    }
   ],
   "source": [
    "ds = ws.get_default_datastore()\n",
    "print(ds.datastore_type, ds.account_name, ds.container_name)"
   ]
  },
  {
   "cell_type": "code",
   "execution_count": 5,
   "metadata": {
    "scrolled": true
   },
   "outputs": [
    {
     "data": {
      "text/plain": [
       "$AZUREML_DATAREFERENCE_5a087d86fb764e5c8b432dcd0185f716"
      ]
     },
     "execution_count": 5,
     "metadata": {},
     "output_type": "execute_result"
    }
   ],
   "source": [
    "#ds.upload(src_dir=r'C:\\Users\\Thijs\\Google Drive\\LEGO Vision\\Natuurlijke data', target_path='lego-vision-classification-natural-data', overwrite=True, show_progress=True)"
   ]
  },
  {
   "cell_type": "code",
   "execution_count": 17,
   "metadata": {},
   "outputs": [
    {
     "name": "stdout",
     "output_type": "stream",
     "text": [
      "$AZUREML_DATAREFERENCE_9f525c35e3ef4fdfb33649e9b39fd773\n"
     ]
    }
   ],
   "source": [
    "# ds_data_dir_syn = ds.path('lego-vision-classification')\n",
    "ds_data_dir_nat = ds.path('lego-vision-classification-natural-data-white-background')\n",
    "\n",
    "print(ds_data_dir_nat)"
   ]
  },
  {
   "cell_type": "markdown",
   "metadata": {},
   "source": [
    "# Support Vector Machine"
   ]
  },
  {
   "cell_type": "markdown",
   "metadata": {},
   "source": [
    "## Natural Data"
   ]
  },
  {
   "cell_type": "code",
   "execution_count": 38,
   "metadata": {},
   "outputs": [],
   "source": [
    "import os\n",
    "\n",
    "project_folder = './svm-hog-dom-selfmade-hyperdrive'\n",
    "os.makedirs(project_folder, exist_ok=True)"
   ]
  },
  {
   "cell_type": "code",
   "execution_count": 39,
   "metadata": {},
   "outputs": [
    {
     "data": {
      "text/plain": [
       "'./svm-hog-dom-selfmade-hyperdrive\\\\internal_hyperdrive_natural_data.py'"
      ]
     },
     "execution_count": 39,
     "metadata": {},
     "output_type": "execute_result"
    }
   ],
   "source": [
    "import shutil\n",
    "shutil.copy('internal_hyperdrive_natural_data.py', project_folder)"
   ]
  },
  {
   "cell_type": "code",
   "execution_count": 20,
   "metadata": {},
   "outputs": [
    {
     "data": {
      "text/plain": [
       "'./svm-hog-dom-selfmade-hyperdrive\\\\helpers.py'"
      ]
     },
     "execution_count": 20,
     "metadata": {},
     "output_type": "execute_result"
    }
   ],
   "source": [
    "shutil.copy('helpers.py', project_folder)"
   ]
  },
  {
   "cell_type": "code",
   "execution_count": 21,
   "metadata": {},
   "outputs": [],
   "source": [
    "from azureml.core import Experiment\n",
    "\n",
    "experiment_name = 'svm-hog-dom-selfmade-hyperdrive'\n",
    "experiment_natural_data = Experiment(ws, name=experiment_name)"
   ]
  },
  {
   "cell_type": "code",
   "execution_count": 43,
   "metadata": {},
   "outputs": [],
   "source": [
    "from azureml.train.estimator import Estimator\n",
    "\n",
    "script_params = {\n",
    "    '--data_dir': ds_data_dir_nat,\n",
    "    '--output_dir': './outputs',\n",
    "    '--classifier': 'svm',\n",
    "    '--number_of_samples': 3200\n",
    "}\n",
    "\n",
    "estimator_natural_data = Estimator(source_directory=project_folder, \n",
    "                                  script_params=script_params,\n",
    "                                  compute_target=compute_target_three,\n",
    "                                  entry_script='internal_hyperdrive_natural_data.py',\n",
    "                                  use_gpu=True,\n",
    "                                  conda_packages=['scikit-learn', 'matplotlib', 'Pillow', 'scikit-image'])"
   ]
  },
  {
   "cell_type": "code",
   "execution_count": 44,
   "metadata": {},
   "outputs": [
    {
     "data": {
      "text/html": [
       "<table style=\"width:100%\"><tr><th>Experiment</th><th>Id</th><th>Type</th><th>Status</th><th>Details Page</th><th>Docs Page</th></tr><tr><td>svm-hog-dom-selfmade-hyperdrive</td><td>svm-hog-dom-selfmade-hyperdrive_1540569171924</td><td>azureml.scriptrun</td><td>Queued</td><td><a href=\"https://mlworkspace.azure.ai/portal/subscriptions/2f5c43ac-ac34-401d-bead-2dc43ffdc4b1/resourceGroups/LEGO-Vision/providers/Microsoft.MachineLearningServices/workspaces/LEGO-Vision/experiments/svm-hog-dom-selfmade-hyperdrive/runs/svm-hog-dom-selfmade-hyperdrive_1540569171924\" target=\"_blank\" rel=\"noopener\">Link to Azure Portal</a></td><td><a href=\"https://docs.microsoft.com/en-us/python/api/azureml-core/azureml.core.script_run.ScriptRun?view=azure-ml-py\" target=\"_blank\" rel=\"noopener\">Link to Documentation</a></td></tr></table>"
      ],
      "text/plain": [
       "Run(Experiment: svm-hog-dom-selfmade-hyperdrive,\n",
       "Id: svm-hog-dom-selfmade-hyperdrive_1540569171924,\n",
       "Type: azureml.scriptrun,\n",
       "Status: Queued)"
      ]
     },
     "execution_count": 44,
     "metadata": {},
     "output_type": "execute_result"
    }
   ],
   "source": [
    "run_natural_data = experiment_natural_data.submit(estimator_natural_data)\n",
    "run_natural_data"
   ]
  },
  {
   "cell_type": "code",
   "execution_count": 41,
   "metadata": {
    "scrolled": false
   },
   "outputs": [
    {
     "data": {
      "application/vnd.jupyter.widget-view+json": {
       "model_id": "c310244f0dba422285e373a87771588e",
       "version_major": 2,
       "version_minor": 0
      },
      "text/plain": [
       "_UserRun()"
      ]
     },
     "metadata": {},
     "output_type": "display_data"
    }
   ],
   "source": [
    "from azureml.train.widgets import RunDetails\n",
    "RunDetails(run_natural_data).show()"
   ]
  },
  {
   "cell_type": "code",
   "execution_count": 42,
   "metadata": {},
   "outputs": [],
   "source": [
    "run_natural_data.cancel()"
   ]
  },
  {
   "cell_type": "markdown",
   "metadata": {
    "heading_collapsed": true
   },
   "source": [
    "#  Hyper drive is too unreliable"
   ]
  },
  {
   "cell_type": "code",
   "execution_count": 24,
   "metadata": {
    "hidden": true
   },
   "outputs": [
    {
     "data": {
      "text/plain": [
       "<azureml.train.hyperdrive.runconfig.HyperDriveRunConfig at 0x203087109b0>"
      ]
     },
     "execution_count": 24,
     "metadata": {},
     "output_type": "execute_result"
    }
   ],
   "source": [
    "# from azureml.train.hyperdrive import *\n",
    "\n",
    "\n",
    "# ps = GridParameterSampling(\n",
    "#     {\n",
    "#         '--number_of_samples': choice(200, 400, 800, 1600, 3200),\n",
    "#         '--shape': choice('32', '64', '128', '256'),\n",
    "#         '--color_insensitive': choice(0, 1)\n",
    "#     }\n",
    "# )\n",
    "\n",
    "# early_termination_policy = BanditPolicy(slack_factor = 0.3, evaluation_interval=1, delay_evaluation=1)\n",
    "\n",
    "# hyperdrive_run_config_natural = HyperDriveRunConfig(estimator=estimator_natural_data,\n",
    "#                                                     hyperparameter_sampling=ps,\n",
    "#                                                     policy=early_termination_policy,\n",
    "#                                                     primary_metric_name=\"f_score\",\n",
    "#                                                     primary_metric_goal=PrimaryMetricGoal.MAXIMIZE,\n",
    "#                                                     max_total_runs=100,\n",
    "#                                                     max_concurrent_runs=4)\n",
    "# hyperdrive_run_config_natural"
   ]
  },
  {
   "cell_type": "code",
   "execution_count": 25,
   "metadata": {
    "hidden": true
   },
   "outputs": [],
   "source": [
    "# hyperdrive_run_natural = experiment_natural_data.submit(hyperdrive_run_config_natural)"
   ]
  },
  {
   "cell_type": "code",
   "execution_count": 1,
   "metadata": {
    "hidden": true,
    "scrolled": false
   },
   "outputs": [
    {
     "ename": "NameError",
     "evalue": "name 'hyperdrive_run_natural' is not defined",
     "output_type": "error",
     "traceback": [
      "\u001b[1;31m---------------------------------------------------------------------------\u001b[0m",
      "\u001b[1;31mNameError\u001b[0m                                 Traceback (most recent call last)",
      "\u001b[1;32m<ipython-input-1-a63341941b2b>\u001b[0m in \u001b[0;36m<module>\u001b[1;34m()\u001b[0m\n\u001b[0;32m      1\u001b[0m \u001b[1;32mfrom\u001b[0m \u001b[0mazureml\u001b[0m\u001b[1;33m.\u001b[0m\u001b[0mtrain\u001b[0m\u001b[1;33m.\u001b[0m\u001b[0mwidgets\u001b[0m \u001b[1;32mimport\u001b[0m \u001b[0mRunDetails\u001b[0m\u001b[1;33m\u001b[0m\u001b[0m\n\u001b[1;32m----> 2\u001b[1;33m \u001b[0mRunDetails\u001b[0m\u001b[1;33m(\u001b[0m\u001b[0mhyperdrive_run_natural\u001b[0m\u001b[1;33m)\u001b[0m\u001b[1;33m.\u001b[0m\u001b[0mshow\u001b[0m\u001b[1;33m(\u001b[0m\u001b[1;33m)\u001b[0m\u001b[1;33m\u001b[0m\u001b[0m\n\u001b[0m",
      "\u001b[1;31mNameError\u001b[0m: name 'hyperdrive_run_natural' is not defined"
     ]
    }
   ],
   "source": [
    "# from azureml.train.widgets import RunDetails\n",
    "# RunDetails(hyperdrive_run_natural).show()"
   ]
  },
  {
   "cell_type": "code",
   "execution_count": null,
   "metadata": {
    "hidden": true
   },
   "outputs": [
    {
     "name": "stdout",
     "output_type": "stream",
     "text": [
      "RunId: svm-hog-dom_1540404252875\n"
     ]
    }
   ],
   "source": [
    "# hyperdrive_run_natural.wait_for_completion(show_output=True)"
   ]
  },
  {
   "cell_type": "markdown",
   "metadata": {
    "heading_collapsed": true,
    "hidden": true
   },
   "source": [
    "## Syntetic and Natural Data"
   ]
  },
  {
   "cell_type": "code",
   "execution_count": 5,
   "metadata": {
    "hidden": true
   },
   "outputs": [
    {
     "name": "stdout",
     "output_type": "stream",
     "text": [
      "$AZUREML_DATAREFERENCE_fed121a8712041a897c6e38d686d773d\n"
     ]
    }
   ],
   "source": [
    "# ds_data_dir_syn = ds.path('lego-vision-classification')\n",
    "ds_data_dir_nat = ds.path('lego-vision-classification-natural-data-white-background')\n",
    "\n",
    "print(ds_data_dir_nat)"
   ]
  },
  {
   "cell_type": "code",
   "execution_count": 6,
   "metadata": {
    "hidden": true
   },
   "outputs": [
    {
     "name": "stdout",
     "output_type": "stream",
     "text": [
      "$AZUREML_DATAREFERENCE_948c99e6abc34ad6850021f4ee59931c\n"
     ]
    }
   ],
   "source": [
    "# ds_data_dir_syn = ds.path('lego-vision-classification')\n",
    "ds_data_dir_syn = ds.path('lego-vision-classification-synthetic-data-white-background')\n",
    "\n",
    "print(ds_data_dir_syn)"
   ]
  },
  {
   "cell_type": "code",
   "execution_count": 7,
   "metadata": {
    "hidden": true
   },
   "outputs": [],
   "source": [
    "import os\n",
    "\n",
    "project_folder = './svm-hog-dom-synthetic-data'\n",
    "os.makedirs(project_folder, exist_ok=True)"
   ]
  },
  {
   "cell_type": "code",
   "execution_count": 8,
   "metadata": {
    "hidden": true
   },
   "outputs": [
    {
     "data": {
      "text/plain": [
       "'./svm-hog-dom-synthetic-data\\\\feature_extraction_experiment.py'"
      ]
     },
     "execution_count": 8,
     "metadata": {},
     "output_type": "execute_result"
    }
   ],
   "source": [
    "import shutil\n",
    "shutil.copy('feature_extraction_experiment.py', project_folder)"
   ]
  },
  {
   "cell_type": "code",
   "execution_count": 9,
   "metadata": {
    "hidden": true
   },
   "outputs": [
    {
     "data": {
      "text/plain": [
       "'./svm-hog-dom-synthetic-data\\\\helpers.py'"
      ]
     },
     "execution_count": 9,
     "metadata": {},
     "output_type": "execute_result"
    }
   ],
   "source": [
    "shutil.copy('helpers.py', project_folder)"
   ]
  },
  {
   "cell_type": "code",
   "execution_count": 10,
   "metadata": {
    "hidden": true
   },
   "outputs": [],
   "source": [
    "from azureml.core import Experiment\n",
    "\n",
    "experiment_name = 'svm-hog-dom-synthetic-data'\n",
    "experiment_svm_synthetic_data = Experiment(ws, name=experiment_name)"
   ]
  },
  {
   "cell_type": "code",
   "execution_count": 11,
   "metadata": {
    "hidden": true
   },
   "outputs": [],
   "source": [
    "from azureml.train.estimator import Estimator\n",
    "\n",
    "script_params = {\n",
    "    '--data_dir': ds_data_dir_syn,\n",
    "    '--test_dir': ds_data_dir_nat,\n",
    "    '--output_dir': './outputs',\n",
    "    '--classifier': 'svm',\n",
    "    '--number_of_samples': 5\n",
    "}\n",
    "\n",
    "estimator_svm_with_synthetic_data = Estimator(source_directory=project_folder, \n",
    "                                            script_params=script_params,\n",
    "                                            compute_target=compute_target_seven,\n",
    "                                            entry_script='feature_extraction_experiment.py',\n",
    "                                            use_gpu=True,\n",
    "                                            conda_packages=['scikit-learn', 'matplotlib', 'Pillow', 'scikit-image'])"
   ]
  },
  {
   "cell_type": "code",
   "execution_count": 24,
   "metadata": {
    "hidden": true
   },
   "outputs": [],
   "source": [
    "run_svm_with_synthetic_data = experiment_svm_synthetic_data.submit(estimator_svm_with_synthetic_data)"
   ]
  },
  {
   "cell_type": "code",
   "execution_count": 25,
   "metadata": {
    "hidden": true,
    "scrolled": false
   },
   "outputs": [
    {
     "data": {
      "application/vnd.jupyter.widget-view+json": {
       "model_id": "04d106ba3e3e4e83a64c26ae03ae532a",
       "version_major": 2,
       "version_minor": 0
      },
      "text/plain": [
       "_UserRun()"
      ]
     },
     "metadata": {},
     "output_type": "display_data"
    },
    {
     "name": "stdout",
     "output_type": "stream",
     "text": [
      "Performing interactive authentication. Please follow the instructions on the terminal.\n"
     ]
    },
    {
     "name": "stderr",
     "output_type": "stream",
     "text": [
      "Note, we have launched a browser for you to login. For old experience with device code, use \"az login --use-device-code\"\n"
     ]
    }
   ],
   "source": [
    "from azureml.train.widgets import RunDetails\n",
    "RunDetails(run_svm_with_synthetic_data).show()"
   ]
  },
  {
   "cell_type": "code",
   "execution_count": 22,
   "metadata": {
    "hidden": true
   },
   "outputs": [],
   "source": [
    "run_svm_with_synthetic_data.cancel()"
   ]
  },
  {
   "cell_type": "code",
   "execution_count": 12,
   "metadata": {
    "hidden": true
   },
   "outputs": [],
   "source": [
    "from azureml.train.hyperdrive import *\n",
    "\n",
    "\n",
    "ps = GridParameterSampling(\n",
    "    {\n",
    "        '--number_of_samples': choice(200, 400, 800, 1000),\n",
    "        '--shape': choice('32', '64', '128', '256'),\n",
    "        '--color_insensitive': choice(0, 1)\n",
    "    }\n",
    ")\n",
    "\n",
    "early_termination_policy = BanditPolicy(slack_factor = 0.3, evaluation_interval=1, delay_evaluation=1)\n",
    "\n",
    "hyperdrive_run_config = HyperDriveRunConfig(estimator=estimator_svm_with_synthetic_data,\n",
    "                                            hyperparameter_sampling=ps,\n",
    "                                            policy=early_termination_policy,\n",
    "                                            primary_metric_name=\"f_score\",\n",
    "                                            primary_metric_goal=PrimaryMetricGoal.MAXIMIZE,\n",
    "                                            max_total_runs=100,\n",
    "                                            max_concurrent_runs=4)"
   ]
  },
  {
   "cell_type": "code",
   "execution_count": 13,
   "metadata": {
    "hidden": true
   },
   "outputs": [
    {
     "name": "stderr",
     "output_type": "stream",
     "text": [
      "The same input parameter(s) are specified in estimator script params and HyperDrive parameter space. HyperDrive parameter space definition will override duplicate entries in estimator. ['--number_of_samples'] is the list of overridden parameter(s).\n"
     ]
    }
   ],
   "source": [
    "hyperdrive_run_synthetic_data = experiment_svm_synthetic_data.submit(hyperdrive_run_config)"
   ]
  },
  {
   "cell_type": "code",
   "execution_count": null,
   "metadata": {
    "hidden": true
   },
   "outputs": [],
   "source": []
  }
 ],
 "metadata": {
  "kernelspec": {
   "display_name": "Python 3",
   "language": "python",
   "name": "python3"
  },
  "language_info": {
   "codemirror_mode": {
    "name": "ipython",
    "version": 3
   },
   "file_extension": ".py",
   "mimetype": "text/x-python",
   "name": "python",
   "nbconvert_exporter": "python",
   "pygments_lexer": "ipython3",
   "version": "3.6.4"
  }
 },
 "nbformat": 4,
 "nbformat_minor": 2
}
