{
 "cells": [
  {
   "cell_type": "markdown",
   "metadata": {},
   "source": [
    "# Configuration Azure Machine Learning Service"
   ]
  },
  {
   "cell_type": "code",
   "execution_count": 26,
   "metadata": {},
   "outputs": [
    {
     "name": "stdout",
     "output_type": "stream",
     "text": [
      "SDK version: 0.1.65\n"
     ]
    }
   ],
   "source": [
    "# Check core SDK version number\n",
    "import azureml.core\n",
    "\n",
    "print(\"SDK version:\", azureml.core.VERSION)"
   ]
  },
  {
   "cell_type": "code",
   "execution_count": 27,
   "metadata": {
    "scrolled": false
   },
   "outputs": [
    {
     "name": "stdout",
     "output_type": "stream",
     "text": [
      "Found the config file in: C:\\Users\\Thijs\\PycharmProjects\\LEGO Vision\\Notebooks\\aml_config\\config.json\n",
      "Workspace name: LEGO-Vision\n",
      "Azure region: westeurope\n",
      "Subscription id: 2f5c43ac-ac34-401d-bead-2dc43ffdc4b1\n",
      "Resource group: LEGO-Vision\n"
     ]
    }
   ],
   "source": [
    "from azureml.core.workspace import Workspace\n",
    "\n",
    "ws = Workspace.from_config()\n",
    "print('Workspace name: ' + ws.name, \n",
    "      'Azure region: ' + ws.location, \n",
    "      'Subscription id: ' + ws.subscription_id, \n",
    "      'Resource group: ' + ws.resource_group, sep = '\\n')"
   ]
  },
  {
   "cell_type": "code",
   "execution_count": 47,
   "metadata": {},
   "outputs": [
    {
     "name": "stdout",
     "output_type": "stream",
     "text": [
      "Creating a new compute target...\n",
      "Creating\n",
      "succeeded\n",
      "BatchAI wait for completion finished\n",
      "Minimum number of nodes requested have been provisioned\n",
      "{'allocationState': 'steady', 'allocationStateTransitionTime': '2018-10-23T08:14:59.268000+00:00', 'creationTime': '2018-10-23T08:14:42.788000+00:00', 'currentNodeCount': 0, 'errors': None, 'nodeStateCounts': {'idleNodeCount': 0, 'leavingNodeCount': 0, 'preparingNodeCount': 0, 'runningNodeCount': 0, 'unusableNodeCount': 0}, 'provisioningState': 'succeeded', 'provisioningStateTransitionTime': '2018-10-23T08:14:58.951000+00:00', 'scaleSettings': {'manual': None, 'autoScale': {'maximumNodeCount': 4, 'minimumNodeCount': 0, 'initialNodeCount': 0}}, 'vmPriority': 'dedicated', 'vmSize': 'STANDARD_NC6'}\n"
     ]
    }
   ],
   "source": [
    "from azureml.core.compute import ComputeTarget, BatchAiCompute\n",
    "from azureml.core.compute_target import ComputeTargetException\n",
    "\n",
    "# choose a name for your cluster\n",
    "cluster_name = \"LEGO-Visiongpu\"\n",
    "\n",
    "try:\n",
    "    compute_target_one = ComputeTarget(workspace=ws, name=cluster_name)\n",
    "    print('Found existing compute target.')\n",
    "except ComputeTargetException:\n",
    "    print('Creating a new compute target...')\n",
    "    compute_config = BatchAiCompute.provisioning_configuration(vm_size='STANDARD_NC6', \n",
    "                                                                autoscale_enabled=True,\n",
    "                                                                cluster_min_nodes=0, \n",
    "                                                                cluster_max_nodes=4)\n",
    "\n",
    "    # create the cluster\n",
    "    compute_target_one = ComputeTarget.create(ws, cluster_name, compute_config)\n",
    "\n",
    "    compute_target_one.wait_for_completion(show_output=True)\n",
    "\n",
    "    # Use the 'status' property to get a detailed status for the current cluster. \n",
    "    print(compute_target_one.status.serialize())"
   ]
  },
  {
   "cell_type": "code",
   "execution_count": 48,
   "metadata": {
    "scrolled": true
   },
   "outputs": [
    {
     "name": "stdout",
     "output_type": "stream",
     "text": [
      "Creating a new compute target...\n",
      "Creating\n",
      "succeeded\n",
      "BatchAI wait for completion finished\n",
      "Minimum number of nodes requested have been provisioned\n",
      "{'allocationState': 'steady', 'allocationStateTransitionTime': '2018-10-23T08:16:03.039000+00:00', 'creationTime': '2018-10-23T08:15:39.693000+00:00', 'currentNodeCount': 0, 'errors': None, 'nodeStateCounts': {'idleNodeCount': 0, 'leavingNodeCount': 0, 'preparingNodeCount': 0, 'runningNodeCount': 0, 'unusableNodeCount': 0}, 'provisioningState': 'succeeded', 'provisioningStateTransitionTime': '2018-10-23T08:16:02.059000+00:00', 'scaleSettings': {'manual': None, 'autoScale': {'maximumNodeCount': 4, 'minimumNodeCount': 0, 'initialNodeCount': 0}}, 'vmPriority': 'dedicated', 'vmSize': 'STANDARD_NC6'}\n"
     ]
    }
   ],
   "source": [
    "from azureml.core.compute import ComputeTarget, BatchAiCompute\n",
    "from azureml.core.compute_target import ComputeTargetException\n",
    "\n",
    "# choose a name for your cluster\n",
    "cluster_name = \"LEGO-Visiongpu-2\"\n",
    "\n",
    "try:\n",
    "    compute_target_two = ComputeTarget(workspace=ws, name=cluster_name)\n",
    "    print('Found existing compute target.')\n",
    "except ComputeTargetException:\n",
    "    print('Creating a new compute target...')\n",
    "    compute_config = BatchAiCompute.provisioning_configuration(vm_size='STANDARD_NC6', \n",
    "                                                                autoscale_enabled=True,\n",
    "                                                                cluster_min_nodes=0, \n",
    "                                                                cluster_max_nodes=4)\n",
    "\n",
    "    # create the cluster\n",
    "    compute_target_two = ComputeTarget.create(ws, cluster_name, compute_config)\n",
    "\n",
    "    compute_target_two.wait_for_completion(show_output=True)\n",
    "\n",
    "    # Use the 'status' property to get a detailed status for the current cluster. \n",
    "    print(compute_target_two.status.serialize())"
   ]
  },
  {
   "cell_type": "code",
   "execution_count": 5,
   "metadata": {
    "scrolled": true
   },
   "outputs": [
    {
     "name": "stdout",
     "output_type": "stream",
     "text": [
      "Found existing compute target.\n"
     ]
    }
   ],
   "source": [
    "from azureml.core.compute import ComputeTarget, BatchAiCompute\n",
    "from azureml.core.compute_target import ComputeTargetException\n",
    "\n",
    "# choose a name for your cluster\n",
    "cluster_name = \"LEGO-Visiongpu-3\"\n",
    "\n",
    "try:\n",
    "    compute_target_three = ComputeTarget(workspace=ws, name=cluster_name)\n",
    "    print('Found existing compute target.')\n",
    "except ComputeTargetException:\n",
    "    print('Creating a new compute target...')\n",
    "    compute_config = BatchAiCompute.provisioning_configuration(vm_size='STANDARD_NC6', \n",
    "                                                                autoscale_enabled=True,\n",
    "                                                                cluster_min_nodes=0, \n",
    "                                                                cluster_max_nodes=4)\n",
    "\n",
    "    # create the cluster\n",
    "    compute_target_three = ComputeTarget.create(ws, cluster_name, compute_config)\n",
    "\n",
    "    compute_target_three.wait_for_completion(show_output=True)\n",
    "\n",
    "    # Use the 'status' property to get a detailed status for the current cluster. \n",
    "    print(compute_target_three.status.serialize())"
   ]
  },
  {
   "cell_type": "code",
   "execution_count": 6,
   "metadata": {
    "scrolled": true
   },
   "outputs": [
    {
     "name": "stdout",
     "output_type": "stream",
     "text": [
      "Found existing compute target.\n"
     ]
    }
   ],
   "source": [
    "from azureml.core.compute import ComputeTarget, BatchAiCompute\n",
    "from azureml.core.compute_target import ComputeTargetException\n",
    "\n",
    "# choose a name for your cluster\n",
    "cluster_name = \"LEGO-Visiongpu-4\"\n",
    "\n",
    "try:\n",
    "    compute_target_four = ComputeTarget(workspace=ws, name=cluster_name)\n",
    "    print('Found existing compute target.')\n",
    "except ComputeTargetException:\n",
    "    print('Creating a new compute target...')\n",
    "    compute_config = BatchAiCompute.provisioning_configuration(vm_size='STANDARD_NC6', \n",
    "                                                                autoscale_enabled=True,\n",
    "                                                                cluster_min_nodes=0, \n",
    "                                                                cluster_max_nodes=4)\n",
    "\n",
    "    # create the cluster\n",
    "    compute_target_four = ComputeTarget.create(ws, cluster_name, compute_config)\n",
    "\n",
    "    compute_target_four.wait_for_completion(show_output=True)\n",
    "\n",
    "    # Use the 'status' property to get a detailed status for the current cluster. \n",
    "    print(compute_target_four.status.serialize())"
   ]
  },
  {
   "cell_type": "code",
   "execution_count": 8,
   "metadata": {
    "scrolled": true
   },
   "outputs": [
    {
     "name": "stdout",
     "output_type": "stream",
     "text": [
      "AzureFile legovision1529597820 azureml-filestore-f0102bff-6d0a-47ad-b50c-4709fd2f206a\n"
     ]
    }
   ],
   "source": [
    "ds = ws.get_default_datastore()\n",
    "print(ds.datastore_type, ds.account_name, ds.container_name)"
   ]
  },
  {
   "cell_type": "code",
   "execution_count": 5,
   "metadata": {},
   "outputs": [
    {
     "data": {
      "text/plain": [
       "$AZUREML_DATAREFERENCE_5a087d86fb764e5c8b432dcd0185f716"
      ]
     },
     "execution_count": 5,
     "metadata": {},
     "output_type": "execute_result"
    }
   ],
   "source": [
    "#ds.upload(src_dir=r'C:\\Users\\Thijs\\Google Drive\\LEGO Vision\\Natuurlijke data', target_path='lego-vision-classification-natural-data', overwrite=True, show_progress=True)"
   ]
  },
  {
   "cell_type": "code",
   "execution_count": 9,
   "metadata": {},
   "outputs": [
    {
     "name": "stdout",
     "output_type": "stream",
     "text": [
      "$AZUREML_DATAREFERENCE_6d5549e496604375ad776f597684eaee\n"
     ]
    }
   ],
   "source": [
    "ds_data_dir_syn = ds.path('lego-vision-classification')\n",
    "ds_data_dir_nat = ds.path('lego-vision-classification-natural-data')\n",
    "\n",
    "print(ds_data_dir_syn)"
   ]
  },
  {
   "cell_type": "markdown",
   "metadata": {
    "heading_collapsed": true
   },
   "source": [
    "# Support Vector Machine"
   ]
  },
  {
   "cell_type": "code",
   "execution_count": 84,
   "metadata": {
    "hidden": true
   },
   "outputs": [],
   "source": [
    "import os\n",
    "\n",
    "project_folder = './svm-hog-rgb-dom-hymenoptera'\n",
    "os.makedirs(project_folder, exist_ok=True)"
   ]
  },
  {
   "cell_type": "code",
   "execution_count": 85,
   "metadata": {
    "hidden": true
   },
   "outputs": [
    {
     "data": {
      "text/plain": [
       "'./svm-hog-rgb-dom-hymenoptera\\\\feature_extraction_experiment.py'"
      ]
     },
     "execution_count": 85,
     "metadata": {},
     "output_type": "execute_result"
    }
   ],
   "source": [
    "import shutil\n",
    "shutil.copy('feature_extraction_experiment.py', project_folder)"
   ]
  },
  {
   "cell_type": "code",
   "execution_count": 86,
   "metadata": {
    "hidden": true
   },
   "outputs": [
    {
     "data": {
      "text/plain": [
       "'./svm-hog-rgb-dom-hymenoptera\\\\helpers.py'"
      ]
     },
     "execution_count": 86,
     "metadata": {},
     "output_type": "execute_result"
    }
   ],
   "source": [
    "shutil.copy('helpers.py', project_folder)"
   ]
  },
  {
   "cell_type": "code",
   "execution_count": 87,
   "metadata": {
    "hidden": true
   },
   "outputs": [],
   "source": [
    "from azureml.core import Experiment\n",
    "\n",
    "experiment_name = 'svm-hog-rgb-dom-hymenoptera'\n",
    "experiment_svm = Experiment(ws, name=experiment_name)"
   ]
  },
  {
   "cell_type": "code",
   "execution_count": null,
   "metadata": {
    "hidden": true
   },
   "outputs": [],
   "source": [
    "# from azureml.core import Experiment\n",
    "\n",
    "# experiment_name = 'svm-nb-hymenoptera'\n",
    "# experiment = Experiment(ws, name=experiment_name)"
   ]
  },
  {
   "cell_type": "code",
   "execution_count": 47,
   "metadata": {
    "hidden": true
   },
   "outputs": [
    {
     "name": "stdout",
     "output_type": "stream",
     "text": [
      "Creating a new compute target...\n",
      "Creating\n",
      "succeeded\n",
      "BatchAI wait for completion finished\n",
      "Minimum number of nodes requested have been provisioned\n",
      "{'allocationState': 'steady', 'allocationStateTransitionTime': '2018-10-23T08:14:59.268000+00:00', 'creationTime': '2018-10-23T08:14:42.788000+00:00', 'currentNodeCount': 0, 'errors': None, 'nodeStateCounts': {'idleNodeCount': 0, 'leavingNodeCount': 0, 'preparingNodeCount': 0, 'runningNodeCount': 0, 'unusableNodeCount': 0}, 'provisioningState': 'succeeded', 'provisioningStateTransitionTime': '2018-10-23T08:14:58.951000+00:00', 'scaleSettings': {'manual': None, 'autoScale': {'maximumNodeCount': 4, 'minimumNodeCount': 0, 'initialNodeCount': 0}}, 'vmPriority': 'dedicated', 'vmSize': 'STANDARD_NC6'}\n"
     ]
    }
   ],
   "source": [
    "from azureml.core.compute import ComputeTarget, BatchAiCompute\n",
    "from azureml.core.compute_target import ComputeTargetException\n",
    "\n",
    "# choose a name for your cluster\n",
    "cluster_name = \"LEGO-Visiongpu-5\"\n",
    "\n",
    "try:\n",
    "    compute_target_one = ComputeTarget(workspace=ws, name=cluster_name)\n",
    "    print('Found existing compute target.')\n",
    "except ComputeTargetException:\n",
    "    print('Creating a new compute target...')\n",
    "    compute_config = BatchAiCompute.provisioning_configuration(vm_size='STANDARD_NC6', \n",
    "                                                                autoscale_enabled=True,\n",
    "                                                                cluster_min_nodes=0, \n",
    "                                                                cluster_max_nodes=4)\n",
    "\n",
    "    # create the cluster\n",
    "    compute_target_one = ComputeTarget.create(ws, cluster_name, compute_config)\n",
    "\n",
    "    compute_target_one.wait_for_completion(show_output=True)\n",
    "\n",
    "    # Use the 'status' property to get a detailed status for the current cluster. \n",
    "    print(compute_target_one.status.serialize())"
   ]
  },
  {
   "cell_type": "code",
   "execution_count": 82,
   "metadata": {
    "hidden": true
   },
   "outputs": [],
   "source": [
    "from azureml.train.estimator import Estimator\n",
    "\n",
    "script_params = {\n",
    "    '--data_dir': ds_data_dir_syn,\n",
    "    '--data_dir': ds_data_dir_nat,\n",
    "    '--output_dir': './outputs',\n",
    "    '--classifier': 'svm'\n",
    "}\n",
    "\n",
    "estimator = Estimator(source_directory=project_folder, \n",
    "                      script_params=script_params,\n",
    "                      compute_target=compute_target_one,\n",
    "                      entry_script='feature_extraction_experiment.py',\n",
    "                      use_gpu=True,\n",
    "                      conda_packages=['scikit-learn', 'matplotlib', 'Pillow', 'scikit-image'])"
   ]
  },
  {
   "cell_type": "code",
   "execution_count": 62,
   "metadata": {
    "hidden": true
   },
   "outputs": [
    {
     "data": {
      "text/html": [
       "<table style=\"width:100%\"><tr><th>Experiment</th><th>Id</th><th>Type</th><th>Status</th><th>Details Page</th><th>Docs Page</th></tr><tr><td>svm-hog-rgb-dom-hymenoptera</td><td>svm-hog-rgb-dom-hymenoptera_1540123475426</td><td>azureml.scriptrun</td><td>Running</td><td><a href=\"https://mlworkspace.azure.ai/portal/subscriptions/2f5c43ac-ac34-401d-bead-2dc43ffdc4b1/resourceGroups/LEGO-Vision/providers/Microsoft.MachineLearningServices/workspaces/LEGO-Vision/experiments/svm-hog-rgb-dom-hymenoptera/runs/svm-hog-rgb-dom-hymenoptera_1540123475426\" target=\"_blank\" rel=\"noopener\">Link to Azure Portal</a></td><td><a href=\"https://docs.microsoft.com/en-us/python/api/azureml-core/azureml.core.script_run.ScriptRun?view=azure-ml-py\" target=\"_blank\" rel=\"noopener\">Link to Documentation</a></td></tr></table>"
      ],
      "text/plain": [
       "Run(Experiment: svm-hog-rgb-dom-hymenoptera,\n",
       "Id: svm-hog-rgb-dom-hymenoptera_1540123475426,\n",
       "Type: azureml.scriptrun,\n",
       "Status: Running)"
      ]
     },
     "execution_count": 62,
     "metadata": {},
     "output_type": "execute_result"
    }
   ],
   "source": [
    "run = experiment_svm.submit(estimator)\n",
    "run"
   ]
  },
  {
   "cell_type": "code",
   "execution_count": 12,
   "metadata": {
    "hidden": true,
    "scrolled": true
   },
   "outputs": [
    {
     "data": {
      "application/vnd.jupyter.widget-view+json": {
       "model_id": "267aae1a8e6d4088bfcc290c5f87b424",
       "version_major": 2,
       "version_minor": 0
      },
      "text/plain": [
       "_UserRun()"
      ]
     },
     "metadata": {},
     "output_type": "display_data"
    },
    {
     "name": "stdout",
     "output_type": "stream",
     "text": [
      "Performing interactive authentication. Please follow the instructions on the terminal.\n"
     ]
    },
    {
     "name": "stderr",
     "output_type": "stream",
     "text": [
      "Note, we have launched a browser for you to login. For old experience with device code, use \"az login --use-device-code\"\n",
      "You have logged in. Now let us find all the subscriptions to which you have access...\n"
     ]
    },
    {
     "name": "stdout",
     "output_type": "stream",
     "text": [
      "Interactive authentication successfully completed.\n"
     ]
    }
   ],
   "source": [
    "from azureml.train.widgets import RunDetails\n",
    "RunDetails(run).show()"
   ]
  },
  {
   "cell_type": "code",
   "execution_count": 77,
   "metadata": {
    "hidden": true
   },
   "outputs": [
    {
     "data": {
      "text/plain": [
       "<azureml.train.hyperdrive.runconfig.HyperDriveRunConfig at 0x1fe969af240>"
      ]
     },
     "execution_count": 77,
     "metadata": {},
     "output_type": "execute_result"
    }
   ],
   "source": [
    "from azureml.train.hyperdrive import *\n",
    "\n",
    "\n",
    "ps = GridParameterSampling(\n",
    "    {\n",
    "        '--number_of_samples': choice(200, 400, 800),\n",
    "        '--shape': choice('32', '64', '128', '256'),\n",
    "        '--dominant_color': choice(True, False)\n",
    "    }\n",
    ")\n",
    "\n",
    "early_termination_policy = BanditPolicy(slack_factor = 0.3, evaluation_interval=1, delay_evaluation=1)\n",
    "\n",
    "hyperdrive_run_config = HyperDriveRunConfig(estimator=estimator,\n",
    "                                            hyperparameter_sampling=ps,\n",
    "                                            policy=early_termination_policy,\n",
    "                                            primary_metric_name=\"f_score\",\n",
    "                                            primary_metric_goal=PrimaryMetricGoal.MAXIMIZE,\n",
    "                                            max_total_runs=100,\n",
    "                                            max_concurrent_runs=4)\n",
    "hyperdrive_run_config"
   ]
  },
  {
   "cell_type": "code",
   "execution_count": 78,
   "metadata": {
    "hidden": true
   },
   "outputs": [],
   "source": [
    "hyperdrive_run = experiment.submit(hyperdrive_run_config)"
   ]
  },
  {
   "cell_type": "code",
   "execution_count": 79,
   "metadata": {
    "hidden": true,
    "scrolled": true
   },
   "outputs": [
    {
     "data": {
      "application/vnd.jupyter.widget-view+json": {
       "model_id": "25d79fe0e7e04da7b0c5567f48c278d0",
       "version_major": 2,
       "version_minor": 0
      },
      "text/plain": [
       "_HyperDrive(widget_settings={'childWidgetDisplay': 'popup'})"
      ]
     },
     "metadata": {},
     "output_type": "display_data"
    }
   ],
   "source": [
    "from azureml.train.widgets import RunDetails\n",
    "RunDetails(hyperdrive_run).show()"
   ]
  },
  {
   "cell_type": "code",
   "execution_count": 88,
   "metadata": {
    "hidden": true
   },
   "outputs": [],
   "source": [
    "from azureml.train.estimator import Estimator\n",
    "\n",
    "script_params = {\n",
    "    '--data_dir': ds_data_dir_nat,\n",
    "    '--output_dir': './outputs',\n",
    "    '--classifier': 'svm',\n",
    "    '--number_of_samples': 5\n",
    "}\n",
    "\n",
    "estimator_svm_with_natural_data = Estimator(source_directory=project_folder, \n",
    "                                            script_params=script_params,\n",
    "                                            compute_target=compute_target_one,\n",
    "                                            entry_script='feature_extraction_experiment.py',\n",
    "                                            use_gpu=True,\n",
    "                                            conda_packages=['scikit-learn', 'matplotlib', 'Pillow', 'scikit-image'])"
   ]
  },
  {
   "cell_type": "code",
   "execution_count": 89,
   "metadata": {
    "hidden": true
   },
   "outputs": [
    {
     "data": {
      "text/html": [
       "<table style=\"width:100%\"><tr><th>Experiment</th><th>Id</th><th>Type</th><th>Status</th><th>Details Page</th><th>Docs Page</th></tr><tr><td>svm-hog-rgb-dom-hymenoptera</td><td>svm-hog-rgb-dom-hymenoptera_1540297331716</td><td>azureml.scriptrun</td><td>Running</td><td><a href=\"https://mlworkspace.azure.ai/portal/subscriptions/2f5c43ac-ac34-401d-bead-2dc43ffdc4b1/resourceGroups/LEGO-Vision/providers/Microsoft.MachineLearningServices/workspaces/LEGO-Vision/experiments/svm-hog-rgb-dom-hymenoptera/runs/svm-hog-rgb-dom-hymenoptera_1540297331716\" target=\"_blank\" rel=\"noopener\">Link to Azure Portal</a></td><td><a href=\"https://docs.microsoft.com/en-us/python/api/azureml-core/azureml.core.script_run.ScriptRun?view=azure-ml-py\" target=\"_blank\" rel=\"noopener\">Link to Documentation</a></td></tr></table>"
      ],
      "text/plain": [
       "Run(Experiment: svm-hog-rgb-dom-hymenoptera,\n",
       "Id: svm-hog-rgb-dom-hymenoptera_1540297331716,\n",
       "Type: azureml.scriptrun,\n",
       "Status: Running)"
      ]
     },
     "execution_count": 89,
     "metadata": {},
     "output_type": "execute_result"
    }
   ],
   "source": [
    "run_svm_with_natural_data = experiment_svm.submit(estimator_svm_with_natural_data)\n",
    "run_svm_with_natural_data"
   ]
  },
  {
   "cell_type": "code",
   "execution_count": 90,
   "metadata": {
    "hidden": true,
    "scrolled": false
   },
   "outputs": [
    {
     "data": {
      "application/vnd.jupyter.widget-view+json": {
       "model_id": "f4275566d50740049510e9373bc8d7f2",
       "version_major": 2,
       "version_minor": 0
      },
      "text/plain": [
       "_UserRun()"
      ]
     },
     "metadata": {},
     "output_type": "display_data"
    }
   ],
   "source": [
    "from azureml.train.widgets import RunDetails\n",
    "RunDetails(run_svm_with_natural_data).show()"
   ]
  },
  {
   "cell_type": "code",
   "execution_count": 92,
   "metadata": {
    "hidden": true
   },
   "outputs": [],
   "source": [
    "run.cancel()"
   ]
  },
  {
   "cell_type": "code",
   "execution_count": 73,
   "metadata": {
    "hidden": true
   },
   "outputs": [],
   "source": [
    "from azureml.train.hyperdrive import *\n",
    "\n",
    "\n",
    "ps = GridParameterSampling(\n",
    "    {\n",
    "        '--number_of_samples': choice(200, 400, 800, 1600, 2000),\n",
    "        '--shape': choice('32', '64', '128', '256')\n",
    "    }\n",
    ")\n",
    "\n",
    "early_termination_policy = BanditPolicy(slack_factor = 1.0, evaluation_interval=1, delay_evaluation=1)\n",
    "\n",
    "hyperdrive_run_config = HyperDriveRunConfig(estimator=estimator_with_natural_data,\n",
    "                                            hyperparameter_sampling=ps,\n",
    "                                            policy=early_termination_policy,\n",
    "                                            primary_metric_name=\"f_score\",\n",
    "                                            primary_metric_goal=PrimaryMetricGoal.MAXIMIZE,\n",
    "                                            max_total_runs=100,\n",
    "                                            max_concurrent_runs=4)"
   ]
  },
  {
   "cell_type": "code",
   "execution_count": 74,
   "metadata": {
    "hidden": true
   },
   "outputs": [],
   "source": [
    "hyperdrive_run = experiment.submit(hyperdrive_run_config)"
   ]
  },
  {
   "cell_type": "code",
   "execution_count": 75,
   "metadata": {
    "hidden": true,
    "scrolled": false
   },
   "outputs": [
    {
     "data": {
      "application/vnd.jupyter.widget-view+json": {
       "model_id": "2fa58dd4e37f4464b1695162cf319132",
       "version_major": 2,
       "version_minor": 0
      },
      "text/plain": [
       "_HyperDrive(widget_settings={'childWidgetDisplay': 'popup'})"
      ]
     },
     "metadata": {},
     "output_type": "display_data"
    },
    {
     "data": {
      "application/vnd.jupyter.widget-view+json": {
       "model_id": "",
       "version_major": 2,
       "version_minor": 0
      },
      "text/plain": [
       "_UserRun(widget_settings={'display': 'popup'})"
      ]
     },
     "metadata": {},
     "output_type": "display_data"
    },
    {
     "data": {
      "application/vnd.jupyter.widget-view+json": {
       "model_id": "1cd4c3c1973c40929a8c0f87f656f927",
       "version_major": 2,
       "version_minor": 0
      },
      "text/plain": [
       "_UserRun(widget_settings={'display': 'popup'})"
      ]
     },
     "metadata": {},
     "output_type": "display_data"
    },
    {
     "name": "stderr",
     "output_type": "stream",
     "text": [
      "2018-10-22 08:59:42,868 WARNING Retrying (Retry(total=2, connect=2, read=3, redirect=None, status=None)) after connection broken by 'NewConnectionError('<urllib3.connection.VerifiedHTTPSConnection object at 0x000001FE973479E8>: Failed to establish a new connection: [WinError 10053] An established connection was aborted by the software in your host machine',)': /history/v1.0/subscriptions/2f5c43ac-ac34-401d-bead-2dc43ffdc4b1/resourceGroups/LEGO-Vision/providers/Microsoft.MachineLearningServices/workspaces/LEGO-Vision/experiments/svm-hog-rgb-dom-hymenoptera/runs/svm-hog-rgb-dom-hymenoptera_1540123590565_45/children?$orderby=StartTimeUtc%20desc\n",
      "2018-10-22 08:59:42,872 WARNING Retrying (Retry(total=2, connect=2, read=3, redirect=None, status=None)) after connection broken by 'NewConnectionError('<urllib3.connection.VerifiedHTTPSConnection object at 0x000001FE96CD8828>: Failed to establish a new connection: [WinError 10053] An established connection was aborted by the software in your host machine',)': /history/v1.0/subscriptions/2f5c43ac-ac34-401d-bead-2dc43ffdc4b1/resourceGroups/LEGO-Vision/providers/Microsoft.MachineLearningServices/workspaces/LEGO-Vision/experiments/svm-hog-rgb-dom-hymenoptera/runs/svm-hog-rgb-dom-hymenoptera_1540123590565_4\n",
      "2018-10-22 08:59:42,872 WARNING Retrying (Retry(total=2, connect=2, read=3, redirect=None, status=None)) after connection broken by 'NewConnectionError('<urllib3.connection.VerifiedHTTPSConnection object at 0x000001FE971AA5C0>: Failed to establish a new connection: [WinError 10053] An established connection was aborted by the software in your host machine',)': /history/v1.0/subscriptions/2f5c43ac-ac34-401d-bead-2dc43ffdc4b1/resourceGroups/LEGO-Vision/providers/Microsoft.MachineLearningServices/workspaces/LEGO-Vision/experiments/svm-hog-rgb-dom-hymenoptera/runs/svm-hog-rgb-dom-hymenoptera_1540123590565_21/details\n",
      "2018-10-22 08:59:42,872 WARNING Retrying (Retry(total=2, connect=2, read=3, redirect=None, status=None)) after connection broken by 'NewConnectionError('<urllib3.connection.VerifiedHTTPSConnection object at 0x000001FE985DB8D0>: Failed to establish a new connection: [WinError 10053] An established connection was aborted by the software in your host machine',)': /history/v1.0/subscriptions/2f5c43ac-ac34-401d-bead-2dc43ffdc4b1/resourceGroups/LEGO-Vision/providers/Microsoft.MachineLearningServices/workspaces/LEGO-Vision/experiments/svm-hog-rgb-dom-hymenoptera/runs/svm-hog-rgb-dom-hymenoptera_1540123590565_37\n",
      "2018-10-22 08:59:44,574 WARNING Retrying (Retry(total=1, connect=1, read=3, redirect=None, status=None)) after connection broken by 'NewConnectionError('<urllib3.connection.VerifiedHTTPSConnection object at 0x000001FE9868ABA8>: Failed to establish a new connection: [Errno 11001] getaddrinfo failed',)': /history/v1.0/subscriptions/2f5c43ac-ac34-401d-bead-2dc43ffdc4b1/resourceGroups/LEGO-Vision/providers/Microsoft.MachineLearningServices/workspaces/LEGO-Vision/experiments/svm-hog-rgb-dom-hymenoptera/runs/svm-hog-rgb-dom-hymenoptera_1540123590565_45/children?$orderby=StartTimeUtc%20desc\n",
      "2018-10-22 08:59:44,757 WARNING Retrying (Retry(total=1, connect=1, read=3, redirect=None, status=None)) after connection broken by 'NewConnectionError('<urllib3.connection.VerifiedHTTPSConnection object at 0x000001FE9734E4E0>: Failed to establish a new connection: [Errno 11001] getaddrinfo failed',)': /history/v1.0/subscriptions/2f5c43ac-ac34-401d-bead-2dc43ffdc4b1/resourceGroups/LEGO-Vision/providers/Microsoft.MachineLearningServices/workspaces/LEGO-Vision/experiments/svm-hog-rgb-dom-hymenoptera/runs/svm-hog-rgb-dom-hymenoptera_1540123590565_4\n",
      "2018-10-22 08:59:44,761 WARNING Retrying (Retry(total=1, connect=1, read=3, redirect=None, status=None)) after connection broken by 'NewConnectionError('<urllib3.connection.VerifiedHTTPSConnection object at 0x000001FE95227CC0>: Failed to establish a new connection: [Errno 11001] getaddrinfo failed',)': /history/v1.0/subscriptions/2f5c43ac-ac34-401d-bead-2dc43ffdc4b1/resourceGroups/LEGO-Vision/providers/Microsoft.MachineLearningServices/workspaces/LEGO-Vision/experiments/svm-hog-rgb-dom-hymenoptera/runs/svm-hog-rgb-dom-hymenoptera_1540123590565_37\n",
      "2018-10-22 08:59:44,761 WARNING Retrying (Retry(total=1, connect=1, read=3, redirect=None, status=None)) after connection broken by 'NewConnectionError('<urllib3.connection.VerifiedHTTPSConnection object at 0x000001FE9868AE80>: Failed to establish a new connection: [Errno 11001] getaddrinfo failed',)': /history/v1.0/subscriptions/2f5c43ac-ac34-401d-bead-2dc43ffdc4b1/resourceGroups/LEGO-Vision/providers/Microsoft.MachineLearningServices/workspaces/LEGO-Vision/experiments/svm-hog-rgb-dom-hymenoptera/runs/svm-hog-rgb-dom-hymenoptera_1540123590565_21/details\n"
     ]
    },
    {
     "name": "stdout",
     "output_type": "stream",
     "text": [
      "Performing interactive authentication. Please follow the instructions on the terminal.\n"
     ]
    },
    {
     "name": "stderr",
     "output_type": "stream",
     "text": [
      "Note, we have launched a browser for you to login. For old experience with device code, use \"az login --use-device-code\"\n",
      "2018-10-22 08:59:47,778 WARNING Retrying (Retry(total=0, connect=0, read=3, redirect=None, status=None)) after connection broken by 'NewConnectionError('<urllib3.connection.VerifiedHTTPSConnection object at 0x000001FE9868A160>: Failed to establish a new connection: [Errno 11001] getaddrinfo failed',)': /history/v1.0/subscriptions/2f5c43ac-ac34-401d-bead-2dc43ffdc4b1/resourceGroups/LEGO-Vision/providers/Microsoft.MachineLearningServices/workspaces/LEGO-Vision/experiments/svm-hog-rgb-dom-hymenoptera/runs/svm-hog-rgb-dom-hymenoptera_1540123590565_45/children?$orderby=StartTimeUtc%20desc\n",
      "2018-10-22 08:59:47,960 WARNING Retrying (Retry(total=0, connect=0, read=3, redirect=None, status=None)) after connection broken by 'NewConnectionError('<urllib3.connection.VerifiedHTTPSConnection object at 0x000001FE9868AA90>: Failed to establish a new connection: [Errno 11001] getaddrinfo failed',)': /history/v1.0/subscriptions/2f5c43ac-ac34-401d-bead-2dc43ffdc4b1/resourceGroups/LEGO-Vision/providers/Microsoft.MachineLearningServices/workspaces/LEGO-Vision/experiments/svm-hog-rgb-dom-hymenoptera/runs/svm-hog-rgb-dom-hymenoptera_1540123590565_4\n",
      "2018-10-22 08:59:47,965 WARNING Retrying (Retry(total=0, connect=0, read=3, redirect=None, status=None)) after connection broken by 'NewConnectionError('<urllib3.connection.VerifiedHTTPSConnection object at 0x000001FE9868A6A0>: Failed to establish a new connection: [Errno 11001] getaddrinfo failed',)': /history/v1.0/subscriptions/2f5c43ac-ac34-401d-bead-2dc43ffdc4b1/resourceGroups/LEGO-Vision/providers/Microsoft.MachineLearningServices/workspaces/LEGO-Vision/experiments/svm-hog-rgb-dom-hymenoptera/runs/svm-hog-rgb-dom-hymenoptera_1540123590565_37\n",
      "2018-10-22 08:59:47,970 WARNING Retrying (Retry(total=0, connect=0, read=3, redirect=None, status=None)) after connection broken by 'NewConnectionError('<urllib3.connection.VerifiedHTTPSConnection object at 0x000001FE9868AA20>: Failed to establish a new connection: [Errno 11001] getaddrinfo failed',)': /history/v1.0/subscriptions/2f5c43ac-ac34-401d-bead-2dc43ffdc4b1/resourceGroups/LEGO-Vision/providers/Microsoft.MachineLearningServices/workspaces/LEGO-Vision/experiments/svm-hog-rgb-dom-hymenoptera/runs/svm-hog-rgb-dom-hymenoptera_1540123590565_21/details\n",
      "You have logged in. Now let us find all the subscriptions to which you have access...\n"
     ]
    },
    {
     "name": "stdout",
     "output_type": "stream",
     "text": [
      "Interactive authentication successfully completed.\n"
     ]
    },
    {
     "name": "stderr",
     "output_type": "stream",
     "text": [
      "2018-10-22 10:13:30,178 WARNING Retrying (Retry(total=2, connect=2, read=3, redirect=None, status=None)) after connection broken by 'NewConnectionError('<urllib3.connection.VerifiedHTTPSConnection object at 0x000001FE96F0CF98>: Failed to establish a new connection: [Errno 11001] getaddrinfo failed',)': /history/v1.0/subscriptions/2f5c43ac-ac34-401d-bead-2dc43ffdc4b1/resourceGroups/LEGO-Vision/providers/Microsoft.MachineLearningServices/workspaces/LEGO-Vision/experiments/svm-hog-rgb-dom-hymenoptera/runs/svm-hog-rgb-dom-hymenoptera_1540123590565_39/details\n",
      "2018-10-22 10:13:31,781 WARNING Retrying (Retry(total=1, connect=1, read=3, redirect=None, status=None)) after connection broken by 'NewConnectionError('<urllib3.connection.VerifiedHTTPSConnection object at 0x000001FE96EDE278>: Failed to establish a new connection: [Errno 11001] getaddrinfo failed',)': /history/v1.0/subscriptions/2f5c43ac-ac34-401d-bead-2dc43ffdc4b1/resourceGroups/LEGO-Vision/providers/Microsoft.MachineLearningServices/workspaces/LEGO-Vision/experiments/svm-hog-rgb-dom-hymenoptera/runs/svm-hog-rgb-dom-hymenoptera_1540123590565_39/details\n",
      "2018-10-22 10:15:41,614 WARNING Retrying (Retry(total=0, connect=0, read=3, redirect=None, status=None)) after connection broken by 'NewConnectionError('<urllib3.connection.VerifiedHTTPSConnection object at 0x000001FE97077518>: Failed to establish a new connection: [Errno 11001] getaddrinfo failed',)': /history/v1.0/subscriptions/2f5c43ac-ac34-401d-bead-2dc43ffdc4b1/resourceGroups/LEGO-Vision/providers/Microsoft.MachineLearningServices/workspaces/LEGO-Vision/experiments/svm-hog-rgb-dom-hymenoptera/runs/svm-hog-rgb-dom-hymenoptera_1540123590565_39/details\n"
     ]
    }
   ],
   "source": [
    "from azureml.train.widgets import RunDetails\n",
    "RunDetails(hyperdrive_run).show()"
   ]
  },
  {
   "cell_type": "code",
   "execution_count": 72,
   "metadata": {
    "hidden": true,
    "scrolled": true
   },
   "outputs": [
    {
     "data": {
      "text/plain": [
       "{'code': 200,\n",
       " 'result': 'Cancellation requested for '\n",
       "           'svm-hog-rgb-dom-hymenoptera_1540123512983'}"
      ]
     },
     "execution_count": 72,
     "metadata": {},
     "output_type": "execute_result"
    }
   ],
   "source": [
    "hyperdrive_run.cancel()"
   ]
  },
  {
   "cell_type": "markdown",
   "metadata": {},
   "source": [
    "# Naive Bayes"
   ]
  },
  {
   "cell_type": "code",
   "execution_count": 10,
   "metadata": {},
   "outputs": [],
   "source": [
    "import os\n",
    "\n",
    "project_folder = './nb-hog-rgb-dom-hymenoptera'\n",
    "os.makedirs(project_folder, exist_ok=True)"
   ]
  },
  {
   "cell_type": "code",
   "execution_count": 11,
   "metadata": {},
   "outputs": [
    {
     "data": {
      "text/plain": [
       "'./nb-hog-rgb-dom-hymenoptera\\\\feature_extraction_experiment.py'"
      ]
     },
     "execution_count": 11,
     "metadata": {},
     "output_type": "execute_result"
    }
   ],
   "source": [
    "import shutil\n",
    "shutil.copy('feature_extraction_experiment.py', project_folder)"
   ]
  },
  {
   "cell_type": "code",
   "execution_count": 12,
   "metadata": {},
   "outputs": [
    {
     "data": {
      "text/plain": [
       "'./nb-hog-rgb-dom-hymenoptera\\\\helpers.py'"
      ]
     },
     "execution_count": 12,
     "metadata": {},
     "output_type": "execute_result"
    }
   ],
   "source": [
    "shutil.copy('helpers.py', project_folder)"
   ]
  },
  {
   "cell_type": "code",
   "execution_count": 13,
   "metadata": {},
   "outputs": [],
   "source": [
    "from azureml.core import Experiment\n",
    "\n",
    "experiment_name = 'nb-hog-rgb-dom-hymenoptera'\n",
    "experiment_nb = Experiment(ws, name=experiment_name)"
   ]
  },
  {
   "cell_type": "code",
   "execution_count": 21,
   "metadata": {},
   "outputs": [],
   "source": [
    "from azureml.train.estimator import Estimator\n",
    "\n",
    "script_params = {\n",
    "    '--data_dir': ds_data_dir_syn,\n",
    "    '--test_dir': ds_data_dir_nat,\n",
    "    '--output_dir': './outputs',\n",
    "    '--classifier': 'multinomial'\n",
    "}\n",
    "\n",
    "estimator = Estimator(source_directory=project_folder, \n",
    "                      script_params=script_params,\n",
    "                      compute_target=compute_target_three,\n",
    "                      entry_script='feature_extraction_experiment.py',\n",
    "                      use_gpu=True,\n",
    "                      conda_packages=['scikit-learn', 'matplotlib', 'Pillow', 'scikit-image'])"
   ]
  },
  {
   "cell_type": "code",
   "execution_count": 43,
   "metadata": {
    "scrolled": false
   },
   "outputs": [
    {
     "data": {
      "text/html": [
       "<table style=\"width:100%\"><tr><th>Experiment</th><th>Id</th><th>Type</th><th>Status</th><th>Details Page</th><th>Docs Page</th></tr><tr><td>nb-hog-rgb-dom-hymenoptera</td><td>nb-hog-rgb-dom-hymenoptera_1540220422045</td><td>azureml.scriptrun</td><td>Running</td><td><a href=\"https://mlworkspace.azure.ai/portal/subscriptions/2f5c43ac-ac34-401d-bead-2dc43ffdc4b1/resourceGroups/LEGO-Vision/providers/Microsoft.MachineLearningServices/workspaces/LEGO-Vision/experiments/nb-hog-rgb-dom-hymenoptera/runs/nb-hog-rgb-dom-hymenoptera_1540220422045\" target=\"_blank\" rel=\"noopener\">Link to Azure Portal</a></td><td><a href=\"https://docs.microsoft.com/en-us/python/api/azureml-core/azureml.core.script_run.ScriptRun?view=azure-ml-py\" target=\"_blank\" rel=\"noopener\">Link to Documentation</a></td></tr></table>"
      ],
      "text/plain": [
       "Run(Experiment: nb-hog-rgb-dom-hymenoptera,\n",
       "Id: nb-hog-rgb-dom-hymenoptera_1540220422045,\n",
       "Type: azureml.scriptrun,\n",
       "Status: Running)"
      ]
     },
     "execution_count": 43,
     "metadata": {},
     "output_type": "execute_result"
    }
   ],
   "source": [
    "run = experiment_nb.submit(estimator)\n",
    "run"
   ]
  },
  {
   "cell_type": "code",
   "execution_count": 44,
   "metadata": {
    "scrolled": false
   },
   "outputs": [
    {
     "data": {
      "application/vnd.jupyter.widget-view+json": {
       "model_id": "f18aa24146a44ebc9cb1788f8390e942",
       "version_major": 2,
       "version_minor": 0
      },
      "text/plain": [
       "_UserRun()"
      ]
     },
     "metadata": {},
     "output_type": "display_data"
    },
    {
     "name": "stdout",
     "output_type": "stream",
     "text": [
      "Performing interactive authentication. Please follow the instructions on the terminal.\n"
     ]
    },
    {
     "name": "stderr",
     "output_type": "stream",
     "text": [
      "Note, we have launched a browser for you to login. For old experience with device code, use \"az login --use-device-code\"\n"
     ]
    }
   ],
   "source": [
    "from azureml.train.widgets import RunDetails\n",
    "RunDetails(run).show()"
   ]
  },
  {
   "cell_type": "code",
   "execution_count": 22,
   "metadata": {},
   "outputs": [
    {
     "data": {
      "text/plain": [
       "<azureml.train.hyperdrive.runconfig.HyperDriveRunConfig at 0x273e489a080>"
      ]
     },
     "execution_count": 22,
     "metadata": {},
     "output_type": "execute_result"
    }
   ],
   "source": [
    "from azureml.train.hyperdrive import *\n",
    "\n",
    "\n",
    "ps = GridParameterSampling(\n",
    "    {\n",
    "        '--number_of_samples': choice(200, 400, 800),\n",
    "        '--shape': choice('32', '64', '128', '256'),\n",
    "        '--dominant_color': choice(True, False)\n",
    "    }\n",
    ")\n",
    "\n",
    "early_termination_policy = BanditPolicy(slack_factor = 0.3, evaluation_interval=1, delay_evaluation=1)\n",
    "\n",
    "hyperdrive_run_config = HyperDriveRunConfig(estimator=estimator,\n",
    "                                            hyperparameter_sampling=ps,\n",
    "                                            policy=early_termination_policy,\n",
    "                                            primary_metric_name=\"f_score\",\n",
    "                                            primary_metric_goal=PrimaryMetricGoal.MAXIMIZE,\n",
    "                                            max_total_runs=100,\n",
    "                                            max_concurrent_runs=4)\n",
    "hyperdrive_run_config"
   ]
  },
  {
   "cell_type": "code",
   "execution_count": 23,
   "metadata": {},
   "outputs": [
    {
     "name": "stderr",
     "output_type": "stream",
     "text": [
      "The same input parameter(s) are specified in estimator script params and HyperDrive parameter space. HyperDrive parameter space definition will override duplicate entries in estimator. ['--number_of_samples'] is the list of overridden parameter(s).\n"
     ]
    }
   ],
   "source": [
    "hyperdrive_run = experiment_nb.submit(hyperdrive_run_config)"
   ]
  },
  {
   "cell_type": "code",
   "execution_count": 24,
   "metadata": {
    "scrolled": false
   },
   "outputs": [
    {
     "data": {
      "application/vnd.jupyter.widget-view+json": {
       "model_id": "",
       "version_major": 2,
       "version_minor": 0
      },
      "text/plain": [
       "_HyperDrive(widget_settings={'childWidgetDisplay': 'popup'})"
      ]
     },
     "metadata": {},
     "output_type": "display_data"
    },
    {
     "data": {
      "application/vnd.jupyter.widget-view+json": {
       "model_id": "",
       "version_major": 2,
       "version_minor": 0
      },
      "text/plain": [
       "_UserRun(widget_settings={'display': 'popup'})"
      ]
     },
     "metadata": {},
     "output_type": "display_data"
    },
    {
     "data": {
      "application/vnd.jupyter.widget-view+json": {
       "model_id": "",
       "version_major": 2,
       "version_minor": 0
      },
      "text/plain": [
       "_UserRun(widget_settings={'display': 'popup'})"
      ]
     },
     "metadata": {},
     "output_type": "display_data"
    }
   ],
   "source": [
    "from azureml.train.widgets import RunDetails\n",
    "RunDetails(hyperdrive_run).show()"
   ]
  },
  {
   "cell_type": "raw",
   "metadata": {},
   "source": [
    "run.cancel()"
   ]
  },
  {
   "cell_type": "code",
   "execution_count": 14,
   "metadata": {},
   "outputs": [],
   "source": [
    "from azureml.train.estimator import Estimator\n",
    "\n",
    "script_params = {\n",
    "    '--data_dir': ds_data_dir_nat,\n",
    "    '--output_dir': './outputs',\n",
    "    '--classifier': 'multinomial',\n",
    "    '--dominant_color': True,\n",
    "    '--number_of_samples': 5\n",
    "}\n",
    "\n",
    "estimator = Estimator(source_directory=project_folder, \n",
    "                      script_params=script_params,\n",
    "                      compute_target=compute_target_four,\n",
    "                      entry_script='feature_extraction_experiment.py',\n",
    "                      use_gpu=True,\n",
    "                      conda_packages=['scikit-learn', 'matplotlib', 'Pillow', 'scikit-image'])"
   ]
  },
  {
   "cell_type": "code",
   "execution_count": 15,
   "metadata": {
    "scrolled": false
   },
   "outputs": [
    {
     "data": {
      "text/html": [
       "<table style=\"width:100%\"><tr><th>Experiment</th><th>Id</th><th>Type</th><th>Status</th><th>Details Page</th><th>Docs Page</th></tr><tr><td>nb-hog-rgb-dom-hymenoptera</td><td>nb-hog-rgb-dom-hymenoptera_1540234865315</td><td>azureml.scriptrun</td><td>Running</td><td><a href=\"https://mlworkspace.azure.ai/portal/subscriptions/2f5c43ac-ac34-401d-bead-2dc43ffdc4b1/resourceGroups/LEGO-Vision/providers/Microsoft.MachineLearningServices/workspaces/LEGO-Vision/experiments/nb-hog-rgb-dom-hymenoptera/runs/nb-hog-rgb-dom-hymenoptera_1540234865315\" target=\"_blank\" rel=\"noopener\">Link to Azure Portal</a></td><td><a href=\"https://docs.microsoft.com/en-us/python/api/azureml-core/azureml.core.script_run.ScriptRun?view=azure-ml-py\" target=\"_blank\" rel=\"noopener\">Link to Documentation</a></td></tr></table>"
      ],
      "text/plain": [
       "Run(Experiment: nb-hog-rgb-dom-hymenoptera,\n",
       "Id: nb-hog-rgb-dom-hymenoptera_1540234865315,\n",
       "Type: azureml.scriptrun,\n",
       "Status: Running)"
      ]
     },
     "execution_count": 15,
     "metadata": {},
     "output_type": "execute_result"
    }
   ],
   "source": [
    "run = experiment_nb.submit(estimator)\n",
    "run"
   ]
  },
  {
   "cell_type": "code",
   "execution_count": 16,
   "metadata": {
    "scrolled": false
   },
   "outputs": [
    {
     "data": {
      "application/vnd.jupyter.widget-view+json": {
       "model_id": "10fe6ecc90c14dabaf53017dc506a3a7",
       "version_major": 2,
       "version_minor": 0
      },
      "text/plain": [
       "_UserRun()"
      ]
     },
     "metadata": {},
     "output_type": "display_data"
    }
   ],
   "source": [
    "from azureml.train.widgets import RunDetails\n",
    "RunDetails(run).show()"
   ]
  },
  {
   "cell_type": "code",
   "execution_count": 17,
   "metadata": {},
   "outputs": [
    {
     "data": {
      "text/plain": [
       "<azureml.train.hyperdrive.runconfig.HyperDriveRunConfig at 0x273e3666630>"
      ]
     },
     "execution_count": 17,
     "metadata": {},
     "output_type": "execute_result"
    }
   ],
   "source": [
    "from azureml.train.hyperdrive import *\n",
    "\n",
    "\n",
    "ps = GridParameterSampling(\n",
    "    {\n",
    "        '--number_of_samples': choice(200, 400, 800, 1600, 2000),\n",
    "        '--shape': choice('32', '64', '128', '256'),\n",
    "        '--dominant_color': choice(True, False)\n",
    "    }\n",
    ")\n",
    "\n",
    "early_termination_policy = BanditPolicy(slack_factor = 0.3, evaluation_interval=1, delay_evaluation=1)\n",
    "\n",
    "hyperdrive_run_config = HyperDriveRunConfig(estimator=estimator,\n",
    "                                            hyperparameter_sampling=ps,\n",
    "                                            policy=early_termination_policy,\n",
    "                                            primary_metric_name=\"f_score\",\n",
    "                                            primary_metric_goal=PrimaryMetricGoal.MAXIMIZE,\n",
    "                                            max_total_runs=150,\n",
    "                                            max_concurrent_runs=4)\n",
    "hyperdrive_run_config"
   ]
  },
  {
   "cell_type": "code",
   "execution_count": 18,
   "metadata": {},
   "outputs": [
    {
     "name": "stderr",
     "output_type": "stream",
     "text": [
      "The same input parameter(s) are specified in estimator script params and HyperDrive parameter space. HyperDrive parameter space definition will override duplicate entries in estimator. ['--dominant_color', '--number_of_samples'] is the list of overridden parameter(s).\n"
     ]
    }
   ],
   "source": [
    "hyperdrive_run = experiment_nb.submit(hyperdrive_run_config)"
   ]
  },
  {
   "cell_type": "code",
   "execution_count": 19,
   "metadata": {
    "scrolled": false
   },
   "outputs": [
    {
     "data": {
      "application/vnd.jupyter.widget-view+json": {
       "model_id": "32513b26ea8b454bad21c856af60af38",
       "version_major": 2,
       "version_minor": 0
      },
      "text/plain": [
       "_HyperDrive(widget_settings={'childWidgetDisplay': 'popup'})"
      ]
     },
     "metadata": {},
     "output_type": "display_data"
    },
    {
     "data": {
      "application/vnd.jupyter.widget-view+json": {
       "model_id": "",
       "version_major": 2,
       "version_minor": 0
      },
      "text/plain": [
       "_UserRun(widget_settings={'display': 'popup'})"
      ]
     },
     "metadata": {},
     "output_type": "display_data"
    },
    {
     "data": {
      "application/vnd.jupyter.widget-view+json": {
       "model_id": "",
       "version_major": 2,
       "version_minor": 0
      },
      "text/plain": [
       "_UserRun(widget_settings={'display': 'popup'})"
      ]
     },
     "metadata": {},
     "output_type": "display_data"
    },
    {
     "data": {
      "application/vnd.jupyter.widget-view+json": {
       "model_id": "",
       "version_major": 2,
       "version_minor": 0
      },
      "text/plain": [
       "_UserRun(widget_settings={'display': 'popup'})"
      ]
     },
     "metadata": {},
     "output_type": "display_data"
    },
    {
     "data": {
      "application/vnd.jupyter.widget-view+json": {
       "model_id": "",
       "version_major": 2,
       "version_minor": 0
      },
      "text/plain": [
       "_UserRun(widget_settings={'display': 'popup'})"
      ]
     },
     "metadata": {},
     "output_type": "display_data"
    },
    {
     "data": {
      "application/vnd.jupyter.widget-view+json": {
       "model_id": "8c423abe03544e6eb5059e359dfbba97",
       "version_major": 2,
       "version_minor": 0
      },
      "text/plain": [
       "_UserRun(widget_settings={'display': 'popup'})"
      ]
     },
     "metadata": {},
     "output_type": "display_data"
    }
   ],
   "source": [
    "from azureml.train.widgets import RunDetails\n",
    "RunDetails(hyperdrive_run).show()"
   ]
  },
  {
   "cell_type": "code",
   "execution_count": 93,
   "metadata": {},
   "outputs": [
    {
     "name": "stderr",
     "output_type": "stream",
     "text": [
      "2018-10-23 18:12:18,426 WARNING Retrying (Retry(total=2, connect=2, read=3, redirect=None, status=None)) after connection broken by 'NewConnectionError('<urllib3.connection.VerifiedHTTPSConnection object at 0x00000273E879EF60>: Failed to establish a new connection: [Errno 11001] getaddrinfo failed',)': /history/v1.0/subscriptions/2f5c43ac-ac34-401d-bead-2dc43ffdc4b1/resourceGroups/LEGO-Vision/providers/Microsoft.MachineLearningServices/workspaces/LEGO-Vision/experiments/nb-hog-rgb-dom-hymenoptera/runs/nb-hog-rgb-dom-hymenoptera_1540235927784_84\n",
      "2018-10-23 18:12:18,484 WARNING Retrying (Retry(total=2, connect=2, read=3, redirect=None, status=None)) after connection broken by 'NewConnectionError('<urllib3.connection.VerifiedHTTPSConnection object at 0x00000273E64A52E8>: Failed to establish a new connection: [Errno 11001] getaddrinfo failed',)': /history/v1.0/subscriptions/2f5c43ac-ac34-401d-bead-2dc43ffdc4b1/resourceGroups/LEGO-Vision/providers/Microsoft.MachineLearningServices/workspaces/LEGO-Vision/experiments/nb-hog-rgb-dom-hymenoptera/runs/nb-hog-rgb-dom-hymenoptera_1540235988656_8/details\n",
      "2018-10-23 18:12:18,493 WARNING Retrying (Retry(total=2, connect=2, read=3, redirect=None, status=None)) after connection broken by 'NewConnectionError('<urllib3.connection.VerifiedHTTPSConnection object at 0x00000273E5282940>: Failed to establish a new connection: [Errno 11001] getaddrinfo failed',)': /history/v1.0/subscriptions/2f5c43ac-ac34-401d-bead-2dc43ffdc4b1/resourceGroups/LEGO-Vision/providers/Microsoft.MachineLearningServices/workspaces/LEGO-Vision/experiments/nb-hog-rgb-dom-hymenoptera/runs/nb-hog-rgb-dom-hymenoptera_1540235927784_30/details\n",
      "2018-10-23 18:12:18,501 WARNING Retrying (Retry(total=2, connect=2, read=3, redirect=None, status=None)) after connection broken by 'NewConnectionError('<urllib3.connection.VerifiedHTTPSConnection object at 0x00000273E4C2C400>: Failed to establish a new connection: [Errno 11001] getaddrinfo failed',)': /history/v1.0/subscriptions/2f5c43ac-ac34-401d-bead-2dc43ffdc4b1/resourceGroups/LEGO-Vision/providers/Microsoft.MachineLearningServices/workspaces/LEGO-Vision/experiments/nb-hog-rgb-dom-hymenoptera/runs/nb-hog-rgb-dom-hymenoptera_1540235988656_71\n",
      "2018-10-23 18:12:18,529 WARNING Retrying (Retry(total=2, connect=2, read=3, redirect=None, status=None)) after connection broken by 'NewConnectionError('<urllib3.connection.VerifiedHTTPSConnection object at 0x00000273E64A5FD0>: Failed to establish a new connection: [Errno 11001] getaddrinfo failed',)': /history/v1.0/subscriptions/2f5c43ac-ac34-401d-bead-2dc43ffdc4b1/resourceGroups/LEGO-Vision/providers/Microsoft.MachineLearningServices/workspaces/LEGO-Vision/experiments/nb-hog-rgb-dom-hymenoptera/runs/nb-hog-rgb-dom-hymenoptera_1540235927784_68/details\n",
      "2018-10-23 18:12:18,546 WARNING Retrying (Retry(total=2, connect=2, read=3, redirect=None, status=None)) after connection broken by 'NewConnectionError('<urllib3.connection.VerifiedHTTPSConnection object at 0x00000273E8996908>: Failed to establish a new connection: [Errno 11001] getaddrinfo failed',)': /history/v1.0/subscriptions/2f5c43ac-ac34-401d-bead-2dc43ffdc4b1/resourceGroups/LEGO-Vision/providers/Microsoft.MachineLearningServices/workspaces/LEGO-Vision/experiments/nb-hog-rgb-dom-hymenoptera/runs/nb-hog-rgb-dom-hymenoptera_1540235988656_60\n",
      "2018-10-23 18:12:18,554 WARNING Retrying (Retry(total=2, connect=2, read=3, redirect=None, status=None)) after connection broken by 'NewConnectionError('<urllib3.connection.VerifiedHTTPSConnection object at 0x00000273E8996668>: Failed to establish a new connection: [Errno 11001] getaddrinfo failed',)': /history/v1.0/subscriptions/2f5c43ac-ac34-401d-bead-2dc43ffdc4b1/resourceGroups/LEGO-Vision/providers/Microsoft.MachineLearningServices/workspaces/LEGO-Vision/experiments/nb-hog-rgb-dom-hymenoptera/metrics?$filter=RunId%20eq%20nb-hog-rgb-dom-hymenoptera_1540235927784_45%20or%20RunId%20eq%20nb-hog-rgb-dom-hymenoptera_1540235927784_46%20or%20RunId%20eq%20nb-hog-rgb-dom-hymenoptera_1540235927784_47%20or%20RunId%20eq%20nb-hog-rgb-dom-hymenoptera_1540235927784_48%20or%20RunId%20eq%20nb-hog-rgb-dom-hymenoptera_1540235927784_49%20or%20RunId%20eq%20nb-hog-rgb-dom-hymenoptera_1540235927784_5%20or%20RunId%20eq%20nb-hog-rgb-dom-hymenoptera_1540235927784_50%20or%20RunId%20eq%20nb-hog-rgb-dom-hymenoptera_1540235927784_51%20or%20RunId%20eq%20nb-hog-rgb-dom-hymenoptera_1540235927784_52%20or%20RunId%20eq%20nb-hog-rgb-dom-hymenoptera_1540235927784_53%20or%20RunId%20eq%20nb-hog-rgb-dom-hymenoptera_1540235927784_54%20or%20RunId%20eq%20nb-hog-rgb-dom-hymenoptera_1540235927784_55%20or%20RunId%20eq%20nb-hog-rgb-dom-hymenoptera_1540235927784_56%20or%20RunId%20eq%20nb-hog-rgb-dom-hymenoptera_1540235927784_57%20or%20RunId%20eq%20nb-hog-rgb-dom-hymenoptera_1540235927784_58%20or%20RunId%20eq%20nb-hog-rgb-dom-hymenoptera_1540235927784_59%20or%20RunId%20eq%20nb-hog-rgb-dom-hymenoptera_1540235927784_6%20or%20RunId%20eq%20nb-hog-rgb-dom-hymenoptera_1540235927784_60%20or%20RunId%20eq%20nb-hog-rgb-dom-hymenoptera_1540235927784_61%20or%20RunId%20eq%20nb-hog-rgb-dom-hymenoptera_1540235927784_62&$continuationtoken=%2BRID%3AljEvAOYxbQBXOQUAAAAAAA%3D%3D%23RT%3A4%23TRC%3A200%23RTD%3AY2JuYi1ob2ctcmdiLWRvbS1oeW1lbm9wdGVyYV8xNTQwMjM1OTI3Nzg0XzYx%23FPC%3AAgEUFRRoAPEs%2BAMjAAD8AQAPACEAAPAzBwDgDwD8ARIAAPgDACMAAO8PeH8ARgB4%2FAEAAI8%2FAAC8PwBjAXgAAMAfABMAwPPn8QcAMwAA7w8e%2FAFUAMD7AwAAzx8AMgA8%2BAYAQQDvD0EAeH9RAgB4FQQAgQMAeA%3D%3D&$orderby=RunId%20asc\n",
      "2018-10-23 18:12:18,658 WARNING Retrying (Retry(total=2, connect=2, read=3, redirect=None, status=None)) after connection broken by 'NewConnectionError('<urllib3.connection.VerifiedHTTPSConnection object at 0x00000273E83A26A0>: Failed to establish a new connection: [Errno 11001] getaddrinfo failed',)': /history/v1.0/subscriptions/2f5c43ac-ac34-401d-bead-2dc43ffdc4b1/resourceGroups/LEGO-Vision/providers/Microsoft.MachineLearningServices/workspaces/LEGO-Vision/experiments/nb-hog-rgb-dom-hymenoptera/runs/nb-hog-rgb-dom-hymenoptera_1540235988656_47\n",
      "2018-10-23 18:12:18,769 WARNING Retrying (Retry(total=2, connect=2, read=3, redirect=None, status=None)) after connection broken by 'NewConnectionError('<urllib3.connection.VerifiedHTTPSConnection object at 0x00000273E85A59E8>: Failed to establish a new connection: [Errno 11001] getaddrinfo failed',)': /history/v1.0/subscriptions/2f5c43ac-ac34-401d-bead-2dc43ffdc4b1/resourceGroups/LEGO-Vision/providers/Microsoft.MachineLearningServices/workspaces/LEGO-Vision/experiments/nb-hog-rgb-dom-hymenoptera/runs/nb-hog-rgb-dom-hymenoptera_1540235988656_17\n",
      "2018-10-23 18:12:19,112 WARNING Retrying (Retry(total=2, connect=2, read=3, redirect=None, status=None)) after connection broken by 'NewConnectionError('<urllib3.connection.VerifiedHTTPSConnection object at 0x00000273E4D015C0>: Failed to establish a new connection: [Errno 11001] getaddrinfo failed',)': /history/v1.0/subscriptions/2f5c43ac-ac34-401d-bead-2dc43ffdc4b1/resourceGroups/LEGO-Vision/providers/Microsoft.MachineLearningServices/workspaces/LEGO-Vision/experiments/svm-hog-rgb-dom-hymenoptera/runs/svm-hog-rgb-dom-hymenoptera_1540297331716\n",
      "2018-10-23 18:12:20,046 WARNING Retrying (Retry(total=1, connect=1, read=3, redirect=None, status=None)) after connection broken by 'NewConnectionError('<urllib3.connection.VerifiedHTTPSConnection object at 0x00000273E811A630>: Failed to establish a new connection: [Errno 11001] getaddrinfo failed',)': /history/v1.0/subscriptions/2f5c43ac-ac34-401d-bead-2dc43ffdc4b1/resourceGroups/LEGO-Vision/providers/Microsoft.MachineLearningServices/workspaces/LEGO-Vision/experiments/nb-hog-rgb-dom-hymenoptera/runs/nb-hog-rgb-dom-hymenoptera_1540235927784_84\n",
      "2018-10-23 18:12:20,090 WARNING Retrying (Retry(total=1, connect=1, read=3, redirect=None, status=None)) after connection broken by 'NewConnectionError('<urllib3.connection.VerifiedHTTPSConnection object at 0x00000273E8290278>: Failed to establish a new connection: [Errno 11001] getaddrinfo failed',)': /history/v1.0/subscriptions/2f5c43ac-ac34-401d-bead-2dc43ffdc4b1/resourceGroups/LEGO-Vision/providers/Microsoft.MachineLearningServices/workspaces/LEGO-Vision/experiments/nb-hog-rgb-dom-hymenoptera/runs/nb-hog-rgb-dom-hymenoptera_1540235988656_8/details\n"
     ]
    },
    {
     "name": "stderr",
     "output_type": "stream",
     "text": [
      "2018-10-23 18:12:20,100 WARNING Retrying (Retry(total=1, connect=1, read=3, redirect=None, status=None)) after connection broken by 'NewConnectionError('<urllib3.connection.VerifiedHTTPSConnection object at 0x00000273E6D40DD8>: Failed to establish a new connection: [Errno 11001] getaddrinfo failed',)': /history/v1.0/subscriptions/2f5c43ac-ac34-401d-bead-2dc43ffdc4b1/resourceGroups/LEGO-Vision/providers/Microsoft.MachineLearningServices/workspaces/LEGO-Vision/experiments/nb-hog-rgb-dom-hymenoptera/runs/nb-hog-rgb-dom-hymenoptera_1540235927784_30/details\n",
      "2018-10-23 18:12:20,125 WARNING Retrying (Retry(total=1, connect=1, read=3, redirect=None, status=None)) after connection broken by 'NewConnectionError('<urllib3.connection.VerifiedHTTPSConnection object at 0x00000273E4C2CC50>: Failed to establish a new connection: [Errno 11001] getaddrinfo failed',)': /history/v1.0/subscriptions/2f5c43ac-ac34-401d-bead-2dc43ffdc4b1/resourceGroups/LEGO-Vision/providers/Microsoft.MachineLearningServices/workspaces/LEGO-Vision/experiments/nb-hog-rgb-dom-hymenoptera/runs/nb-hog-rgb-dom-hymenoptera_1540235988656_71\n",
      "2018-10-23 21:41:35,508 WARNING Retrying (Retry(total=1, connect=1, read=3, redirect=None, status=None)) after connection broken by 'NewConnectionError('<urllib3.connection.VerifiedHTTPSConnection object at 0x00000273E84E9BE0>: Failed to establish a new connection: [Errno 11001] getaddrinfo failed',)': /history/v1.0/subscriptions/2f5c43ac-ac34-401d-bead-2dc43ffdc4b1/resourceGroups/LEGO-Vision/providers/Microsoft.MachineLearningServices/workspaces/LEGO-Vision/experiments/nb-hog-rgb-dom-hymenoptera/runs/nb-hog-rgb-dom-hymenoptera_1540235927784_68/details\n",
      "2018-10-23 21:41:35,513 WARNING Retrying (Retry(total=1, connect=1, read=3, redirect=None, status=None)) after connection broken by 'NewConnectionError('<urllib3.connection.VerifiedHTTPSConnection object at 0x00000273E4F36BE0>: Failed to establish a new connection: [Errno 11001] getaddrinfo failed',)': /history/v1.0/subscriptions/2f5c43ac-ac34-401d-bead-2dc43ffdc4b1/resourceGroups/LEGO-Vision/providers/Microsoft.MachineLearningServices/workspaces/LEGO-Vision/experiments/nb-hog-rgb-dom-hymenoptera/runs/nb-hog-rgb-dom-hymenoptera_1540235988656_60\n",
      "2018-10-23 21:41:35,521 WARNING Retrying (Retry(total=1, connect=1, read=3, redirect=None, status=None)) after connection broken by 'NewConnectionError('<urllib3.connection.VerifiedHTTPSConnection object at 0x00000273E8996B00>: Failed to establish a new connection: [Errno 11001] getaddrinfo failed',)': /history/v1.0/subscriptions/2f5c43ac-ac34-401d-bead-2dc43ffdc4b1/resourceGroups/LEGO-Vision/providers/Microsoft.MachineLearningServices/workspaces/LEGO-Vision/experiments/nb-hog-rgb-dom-hymenoptera/metrics?$filter=RunId%20eq%20nb-hog-rgb-dom-hymenoptera_1540235927784_45%20or%20RunId%20eq%20nb-hog-rgb-dom-hymenoptera_1540235927784_46%20or%20RunId%20eq%20nb-hog-rgb-dom-hymenoptera_1540235927784_47%20or%20RunId%20eq%20nb-hog-rgb-dom-hymenoptera_1540235927784_48%20or%20RunId%20eq%20nb-hog-rgb-dom-hymenoptera_1540235927784_49%20or%20RunId%20eq%20nb-hog-rgb-dom-hymenoptera_1540235927784_5%20or%20RunId%20eq%20nb-hog-rgb-dom-hymenoptera_1540235927784_50%20or%20RunId%20eq%20nb-hog-rgb-dom-hymenoptera_1540235927784_51%20or%20RunId%20eq%20nb-hog-rgb-dom-hymenoptera_1540235927784_52%20or%20RunId%20eq%20nb-hog-rgb-dom-hymenoptera_1540235927784_53%20or%20RunId%20eq%20nb-hog-rgb-dom-hymenoptera_1540235927784_54%20or%20RunId%20eq%20nb-hog-rgb-dom-hymenoptera_1540235927784_55%20or%20RunId%20eq%20nb-hog-rgb-dom-hymenoptera_1540235927784_56%20or%20RunId%20eq%20nb-hog-rgb-dom-hymenoptera_1540235927784_57%20or%20RunId%20eq%20nb-hog-rgb-dom-hymenoptera_1540235927784_58%20or%20RunId%20eq%20nb-hog-rgb-dom-hymenoptera_1540235927784_59%20or%20RunId%20eq%20nb-hog-rgb-dom-hymenoptera_1540235927784_6%20or%20RunId%20eq%20nb-hog-rgb-dom-hymenoptera_1540235927784_60%20or%20RunId%20eq%20nb-hog-rgb-dom-hymenoptera_1540235927784_61%20or%20RunId%20eq%20nb-hog-rgb-dom-hymenoptera_1540235927784_62&$continuationtoken=%2BRID%3AljEvAOYxbQBXOQUAAAAAAA%3D%3D%23RT%3A4%23TRC%3A200%23RTD%3AY2JuYi1ob2ctcmdiLWRvbS1oeW1lbm9wdGVyYV8xNTQwMjM1OTI3Nzg0XzYx%23FPC%3AAgEUFRRoAPEs%2BAMjAAD8AQAPACEAAPAzBwDgDwD8ARIAAPgDACMAAO8PeH8ARgB4%2FAEAAI8%2FAAC8PwBjAXgAAMAfABMAwPPn8QcAMwAA7w8e%2FAFUAMD7AwAAzx8AMgA8%2BAYAQQDvD0EAeH9RAgB4FQQAgQMAeA%3D%3D&$orderby=RunId%20asc\n",
      "2018-10-23 21:41:35,626 WARNING Retrying (Retry(total=1, connect=1, read=3, redirect=None, status=None)) after connection broken by 'NewConnectionError('<urllib3.connection.VerifiedHTTPSConnection object at 0x00000273E66DDCC0>: Failed to establish a new connection: [Errno 11001] getaddrinfo failed',)': /history/v1.0/subscriptions/2f5c43ac-ac34-401d-bead-2dc43ffdc4b1/resourceGroups/LEGO-Vision/providers/Microsoft.MachineLearningServices/workspaces/LEGO-Vision/experiments/nb-hog-rgb-dom-hymenoptera/runs/nb-hog-rgb-dom-hymenoptera_1540235988656_47\n",
      "2018-10-23 21:41:35,737 WARNING Retrying (Retry(total=1, connect=1, read=3, redirect=None, status=None)) after connection broken by 'NewConnectionError('<urllib3.connection.VerifiedHTTPSConnection object at 0x00000273E85A5BE0>: Failed to establish a new connection: [Errno 11001] getaddrinfo failed',)': /history/v1.0/subscriptions/2f5c43ac-ac34-401d-bead-2dc43ffdc4b1/resourceGroups/LEGO-Vision/providers/Microsoft.MachineLearningServices/workspaces/LEGO-Vision/experiments/nb-hog-rgb-dom-hymenoptera/runs/nb-hog-rgb-dom-hymenoptera_1540235988656_17\n",
      "2018-10-23 21:41:36,077 WARNING Retrying (Retry(total=1, connect=1, read=3, redirect=None, status=None)) after connection broken by 'NewConnectionError('<urllib3.connection.VerifiedHTTPSConnection object at 0x00000273E83C3F98>: Failed to establish a new connection: [Errno 11001] getaddrinfo failed',)': /history/v1.0/subscriptions/2f5c43ac-ac34-401d-bead-2dc43ffdc4b1/resourceGroups/LEGO-Vision/providers/Microsoft.MachineLearningServices/workspaces/LEGO-Vision/experiments/svm-hog-rgb-dom-hymenoptera/runs/svm-hog-rgb-dom-hymenoptera_1540297331716\n",
      "2018-10-23 21:41:38,613 WARNING Retrying (Retry(total=0, connect=0, read=3, redirect=None, status=None)) after connection broken by 'NewConnectionError('<urllib3.connection.VerifiedHTTPSConnection object at 0x00000273E83C32B0>: Failed to establish a new connection: [Errno 11001] getaddrinfo failed',)': /history/v1.0/subscriptions/2f5c43ac-ac34-401d-bead-2dc43ffdc4b1/resourceGroups/LEGO-Vision/providers/Microsoft.MachineLearningServices/workspaces/LEGO-Vision/experiments/nb-hog-rgb-dom-hymenoptera/runs/nb-hog-rgb-dom-hymenoptera_1540235927784_84\n",
      "2018-10-23 21:41:38,656 WARNING Retrying (Retry(total=0, connect=0, read=3, redirect=None, status=None)) after connection broken by 'NewConnectionError('<urllib3.connection.VerifiedHTTPSConnection object at 0x00000273E83C3BE0>: Failed to establish a new connection: [Errno 11001] getaddrinfo failed',)': /history/v1.0/subscriptions/2f5c43ac-ac34-401d-bead-2dc43ffdc4b1/resourceGroups/LEGO-Vision/providers/Microsoft.MachineLearningServices/workspaces/LEGO-Vision/experiments/nb-hog-rgb-dom-hymenoptera/runs/nb-hog-rgb-dom-hymenoptera_1540235988656_8/details\n",
      "2018-10-23 21:41:38,675 WARNING Retrying (Retry(total=0, connect=0, read=3, redirect=None, status=None)) after connection broken by 'NewConnectionError('<urllib3.connection.VerifiedHTTPSConnection object at 0x00000273E83C3BA8>: Failed to establish a new connection: [Errno 11001] getaddrinfo failed',)': /history/v1.0/subscriptions/2f5c43ac-ac34-401d-bead-2dc43ffdc4b1/resourceGroups/LEGO-Vision/providers/Microsoft.MachineLearningServices/workspaces/LEGO-Vision/experiments/nb-hog-rgb-dom-hymenoptera/runs/nb-hog-rgb-dom-hymenoptera_1540235927784_30/details\n",
      "2018-10-23 21:41:38,691 WARNING Retrying (Retry(total=0, connect=0, read=3, redirect=None, status=None)) after connection broken by 'NewConnectionError('<urllib3.connection.VerifiedHTTPSConnection object at 0x00000273E83C38D0>: Failed to establish a new connection: [Errno 11001] getaddrinfo failed',)': /history/v1.0/subscriptions/2f5c43ac-ac34-401d-bead-2dc43ffdc4b1/resourceGroups/LEGO-Vision/providers/Microsoft.MachineLearningServices/workspaces/LEGO-Vision/experiments/nb-hog-rgb-dom-hymenoptera/runs/nb-hog-rgb-dom-hymenoptera_1540235988656_71\n"
     ]
    },
    {
     "name": "stderr",
     "output_type": "stream",
     "text": [
      "2018-10-23 21:41:38,720 WARNING Retrying (Retry(total=0, connect=0, read=3, redirect=None, status=None)) after connection broken by 'NewConnectionError('<urllib3.connection.VerifiedHTTPSConnection object at 0x00000273E83C35C0>: Failed to establish a new connection: [Errno 11001] getaddrinfo failed',)': /history/v1.0/subscriptions/2f5c43ac-ac34-401d-bead-2dc43ffdc4b1/resourceGroups/LEGO-Vision/providers/Microsoft.MachineLearningServices/workspaces/LEGO-Vision/experiments/nb-hog-rgb-dom-hymenoptera/runs/nb-hog-rgb-dom-hymenoptera_1540235927784_68/details\n",
      "2018-10-23 21:41:38,725 WARNING Retrying (Retry(total=0, connect=0, read=3, redirect=None, status=None)) after connection broken by 'NewConnectionError('<urllib3.connection.VerifiedHTTPSConnection object at 0x00000273E83C3828>: Failed to establish a new connection: [Errno 11001] getaddrinfo failed',)': /history/v1.0/subscriptions/2f5c43ac-ac34-401d-bead-2dc43ffdc4b1/resourceGroups/LEGO-Vision/providers/Microsoft.MachineLearningServices/workspaces/LEGO-Vision/experiments/nb-hog-rgb-dom-hymenoptera/runs/nb-hog-rgb-dom-hymenoptera_1540235988656_60\n",
      "2018-10-23 21:41:38,725 WARNING Retrying (Retry(total=0, connect=0, read=3, redirect=None, status=None)) after connection broken by 'NewConnectionError('<urllib3.connection.VerifiedHTTPSConnection object at 0x00000273E83C35F8>: Failed to establish a new connection: [Errno 11001] getaddrinfo failed',)': /history/v1.0/subscriptions/2f5c43ac-ac34-401d-bead-2dc43ffdc4b1/resourceGroups/LEGO-Vision/providers/Microsoft.MachineLearningServices/workspaces/LEGO-Vision/experiments/nb-hog-rgb-dom-hymenoptera/metrics?$filter=RunId%20eq%20nb-hog-rgb-dom-hymenoptera_1540235927784_45%20or%20RunId%20eq%20nb-hog-rgb-dom-hymenoptera_1540235927784_46%20or%20RunId%20eq%20nb-hog-rgb-dom-hymenoptera_1540235927784_47%20or%20RunId%20eq%20nb-hog-rgb-dom-hymenoptera_1540235927784_48%20or%20RunId%20eq%20nb-hog-rgb-dom-hymenoptera_1540235927784_49%20or%20RunId%20eq%20nb-hog-rgb-dom-hymenoptera_1540235927784_5%20or%20RunId%20eq%20nb-hog-rgb-dom-hymenoptera_1540235927784_50%20or%20RunId%20eq%20nb-hog-rgb-dom-hymenoptera_1540235927784_51%20or%20RunId%20eq%20nb-hog-rgb-dom-hymenoptera_1540235927784_52%20or%20RunId%20eq%20nb-hog-rgb-dom-hymenoptera_1540235927784_53%20or%20RunId%20eq%20nb-hog-rgb-dom-hymenoptera_1540235927784_54%20or%20RunId%20eq%20nb-hog-rgb-dom-hymenoptera_1540235927784_55%20or%20RunId%20eq%20nb-hog-rgb-dom-hymenoptera_1540235927784_56%20or%20RunId%20eq%20nb-hog-rgb-dom-hymenoptera_1540235927784_57%20or%20RunId%20eq%20nb-hog-rgb-dom-hymenoptera_1540235927784_58%20or%20RunId%20eq%20nb-hog-rgb-dom-hymenoptera_1540235927784_59%20or%20RunId%20eq%20nb-hog-rgb-dom-hymenoptera_1540235927784_6%20or%20RunId%20eq%20nb-hog-rgb-dom-hymenoptera_1540235927784_60%20or%20RunId%20eq%20nb-hog-rgb-dom-hymenoptera_1540235927784_61%20or%20RunId%20eq%20nb-hog-rgb-dom-hymenoptera_1540235927784_62&$continuationtoken=%2BRID%3AljEvAOYxbQBXOQUAAAAAAA%3D%3D%23RT%3A4%23TRC%3A200%23RTD%3AY2JuYi1ob2ctcmdiLWRvbS1oeW1lbm9wdGVyYV8xNTQwMjM1OTI3Nzg0XzYx%23FPC%3AAgEUFRRoAPEs%2BAMjAAD8AQAPACEAAPAzBwDgDwD8ARIAAPgDACMAAO8PeH8ARgB4%2FAEAAI8%2FAAC8PwBjAXgAAMAfABMAwPPn8QcAMwAA7w8e%2FAFUAMD7AwAAzx8AMgA8%2BAYAQQDvD0EAeH9RAgB4FQQAgQMAeA%3D%3D&$orderby=RunId%20asc\n"
     ]
    },
    {
     "name": "stdout",
     "output_type": "stream",
     "text": [
      "Performing interactive authentication. Please follow the instructions on the terminal.\n"
     ]
    },
    {
     "name": "stderr",
     "output_type": "stream",
     "text": [
      "2018-10-23 21:41:38,854 WARNING Retrying (Retry(total=0, connect=0, read=3, redirect=None, status=None)) after connection broken by 'NewConnectionError('<urllib3.connection.VerifiedHTTPSConnection object at 0x00000273E8996C50>: Failed to establish a new connection: [Errno 11001] getaddrinfo failed',)': /history/v1.0/subscriptions/2f5c43ac-ac34-401d-bead-2dc43ffdc4b1/resourceGroups/LEGO-Vision/providers/Microsoft.MachineLearningServices/workspaces/LEGO-Vision/experiments/nb-hog-rgb-dom-hymenoptera/runs/nb-hog-rgb-dom-hymenoptera_1540235988656_47\n",
      "Note, we have launched a browser for you to login. For old experience with device code, use \"az login --use-device-code\"\n",
      "2018-10-23 21:41:38,942 WARNING Retrying (Retry(total=0, connect=0, read=3, redirect=None, status=None)) after connection broken by 'NewConnectionError('<urllib3.connection.VerifiedHTTPSConnection object at 0x00000273E84E9898>: Failed to establish a new connection: [Errno 11001] getaddrinfo failed',)': /history/v1.0/subscriptions/2f5c43ac-ac34-401d-bead-2dc43ffdc4b1/resourceGroups/LEGO-Vision/providers/Microsoft.MachineLearningServices/workspaces/LEGO-Vision/experiments/nb-hog-rgb-dom-hymenoptera/runs/nb-hog-rgb-dom-hymenoptera_1540235988656_17\n",
      "2018-10-23 21:41:39,282 WARNING Retrying (Retry(total=0, connect=0, read=3, redirect=None, status=None)) after connection broken by 'NewConnectionError('<urllib3.connection.VerifiedHTTPSConnection object at 0x00000273E84E98D0>: Failed to establish a new connection: [Errno 11001] getaddrinfo failed',)': /history/v1.0/subscriptions/2f5c43ac-ac34-401d-bead-2dc43ffdc4b1/resourceGroups/LEGO-Vision/providers/Microsoft.MachineLearningServices/workspaces/LEGO-Vision/experiments/svm-hog-rgb-dom-hymenoptera/runs/svm-hog-rgb-dom-hymenoptera_1540297331716\n",
      "2018-10-23 21:41:42,848 WARNING Retrying (Retry(total=2, connect=3, read=3, redirect=None, status=None)) after connection broken by 'SSLError(SSLError(\"bad handshake: SysCallError(10054, 'WSAECONNRESET')\",),)': /history/v1.0/subscriptions/2f5c43ac-ac34-401d-bead-2dc43ffdc4b1/resourceGroups/LEGO-Vision/providers/Microsoft.MachineLearningServices/workspaces/LEGO-Vision/experiments/nb-hog-rgb-dom-hymenoptera/metrics?$filter=RunId%20eq%20nb-hog-rgb-dom-hymenoptera_1540235988656_63%20or%20RunId%20eq%20nb-hog-rgb-dom-hymenoptera_1540235988656_64%20or%20RunId%20eq%20nb-hog-rgb-dom-hymenoptera_1540235988656_65%20or%20RunId%20eq%20nb-hog-rgb-dom-hymenoptera_1540235988656_66%20or%20RunId%20eq%20nb-hog-rgb-dom-hymenoptera_1540235988656_67%20or%20RunId%20eq%20nb-hog-rgb-dom-hymenoptera_1540235988656_68%20or%20RunId%20eq%20nb-hog-rgb-dom-hymenoptera_1540235988656_69%20or%20RunId%20eq%20nb-hog-rgb-dom-hymenoptera_1540235988656_7%20or%20RunId%20eq%20nb-hog-rgb-dom-hymenoptera_1540235988656_70%20or%20RunId%20eq%20nb-hog-rgb-dom-hymenoptera_1540235988656_71%20or%20RunId%20eq%20nb-hog-rgb-dom-hymenoptera_1540235988656_72%20or%20RunId%20eq%20nb-hog-rgb-dom-hymenoptera_1540235988656_73%20or%20RunId%20eq%20nb-hog-rgb-dom-hymenoptera_1540235988656_74%20or%20RunId%20eq%20nb-hog-rgb-dom-hymenoptera_1540235988656_75%20or%20RunId%20eq%20nb-hog-rgb-dom-hymenoptera_1540235988656_76%20or%20RunId%20eq%20nb-hog-rgb-dom-hymenoptera_1540235988656_77%20or%20RunId%20eq%20nb-hog-rgb-dom-hymenoptera_1540235988656_78%20or%20RunId%20eq%20nb-hog-rgb-dom-hymenoptera_1540235988656_79%20or%20RunId%20eq%20nb-hog-rgb-dom-hymenoptera_1540235988656_8%20or%20RunId%20eq%20nb-hog-rgb-dom-hymenoptera_1540235988656_80&$continuationtoken=%2BRID%3AljEvAOYxbQCHTgUAAAAAAA%3D%3D%23RT%3A2%23TRC%3A100%23RTD%3AY2JuYi1ob2ctcmdiLWRvbS1oeW1lbm9wdGVyYV8xNTQwMjM1OTg4NjU2Xzcx%23FPC%3AAgEUFRQQAP%2BtAcA%2FAEIAgA5%2FAGEAgAcVVgAxDQB%2FZAAAwPMHAPwBAB%2BAA8DHN%2BCJHwAfgA3Axx88%2Ft4f3h8A7w8AAO8PAAAAAOD9AQCePwAiAAC8PwAjAN4fAOD5A2MAeP4AgOcPIgAAwAMAMQAA8A%3D%3D&$orderby=RunId%20asc\n",
      "2018-10-23 21:41:42,854 WARNING Retrying (Retry(total=2, connect=3, read=2, redirect=None, status=None)) after connection broken by 'ProtocolError('Connection aborted.', OSError(\"(10054, 'WSAECONNRESET')\",))': /history/v1.0/subscriptions/2f5c43ac-ac34-401d-bead-2dc43ffdc4b1/resourceGroups/LEGO-Vision/providers/Microsoft.MachineLearningServices/workspaces/LEGO-Vision/experiments/nb-hog-rgb-dom-hymenoptera/runs/nb-hog-rgb-dom-hymenoptera_1540235927784_43/details\n",
      "2018-10-23 21:41:42,854 WARNING Retrying (Retry(total=2, connect=3, read=3, redirect=None, status=None)) after connection broken by 'SSLError(SSLError(\"bad handshake: SysCallError(10054, 'WSAECONNRESET')\",),)': /history/v1.0/subscriptions/2f5c43ac-ac34-401d-bead-2dc43ffdc4b1/resourceGroups/LEGO-Vision/providers/Microsoft.MachineLearningServices/workspaces/LEGO-Vision/experiments/nb-hog-rgb-dom-hymenoptera/runs/nb-hog-rgb-dom-hymenoptera_1540235988656_32/details\n",
      "2018-10-23 21:41:42,855 WARNING Retrying (Retry(total=2, connect=3, read=2, redirect=None, status=None)) after connection broken by 'ProtocolError('Connection aborted.', OSError(\"(10054, 'WSAECONNRESET')\",))': /history/v1.0/subscriptions/2f5c43ac-ac34-401d-bead-2dc43ffdc4b1/resourceGroups/LEGO-Vision/providers/Microsoft.MachineLearningServices/workspaces/LEGO-Vision/experiments/nb-hog-rgb-dom-hymenoptera/runs/nb-hog-rgb-dom-hymenoptera_1540235927784_59/details\n",
      "2018-10-23 21:41:42,855 WARNING Retrying (Retry(total=2, connect=3, read=2, redirect=None, status=None)) after connection broken by 'ProtocolError('Connection aborted.', OSError(\"(10054, 'WSAECONNRESET')\",))': /history/v1.0/subscriptions/2f5c43ac-ac34-401d-bead-2dc43ffdc4b1/resourceGroups/LEGO-Vision/providers/Microsoft.MachineLearningServices/workspaces/LEGO-Vision/experiments/nb-hog-rgb-dom-hymenoptera/runs/nb-hog-rgb-dom-hymenoptera_1540235927784_9/details\n",
      "2018-10-23 21:41:42,856 WARNING Retrying (Retry(total=2, connect=3, read=2, redirect=None, status=None)) after connection broken by 'ProtocolError('Connection aborted.', OSError(\"(10054, 'WSAECONNRESET')\",))': /history/v1.0/subscriptions/2f5c43ac-ac34-401d-bead-2dc43ffdc4b1/resourceGroups/LEGO-Vision/providers/Microsoft.MachineLearningServices/workspaces/LEGO-Vision/experiments/nb-hog-rgb-dom-hymenoptera/runs/nb-hog-rgb-dom-hymenoptera_1540235927784_17/details\n",
      "2018-10-23 21:41:44,478 WARNING Retrying (Retry(total=1, connect=2, read=3, redirect=None, status=None)) after connection broken by 'NewConnectionError('<urllib3.connection.VerifiedHTTPSConnection object at 0x00000273E4D38A58>: Failed to establish a new connection: [Errno 11001] getaddrinfo failed',)': /history/v1.0/subscriptions/2f5c43ac-ac34-401d-bead-2dc43ffdc4b1/resourceGroups/LEGO-Vision/providers/Microsoft.MachineLearningServices/workspaces/LEGO-Vision/experiments/nb-hog-rgb-dom-hymenoptera/metrics?$filter=RunId%20eq%20nb-hog-rgb-dom-hymenoptera_1540235988656_63%20or%20RunId%20eq%20nb-hog-rgb-dom-hymenoptera_1540235988656_64%20or%20RunId%20eq%20nb-hog-rgb-dom-hymenoptera_1540235988656_65%20or%20RunId%20eq%20nb-hog-rgb-dom-hymenoptera_1540235988656_66%20or%20RunId%20eq%20nb-hog-rgb-dom-hymenoptera_1540235988656_67%20or%20RunId%20eq%20nb-hog-rgb-dom-hymenoptera_1540235988656_68%20or%20RunId%20eq%20nb-hog-rgb-dom-hymenoptera_1540235988656_69%20or%20RunId%20eq%20nb-hog-rgb-dom-hymenoptera_1540235988656_7%20or%20RunId%20eq%20nb-hog-rgb-dom-hymenoptera_1540235988656_70%20or%20RunId%20eq%20nb-hog-rgb-dom-hymenoptera_1540235988656_71%20or%20RunId%20eq%20nb-hog-rgb-dom-hymenoptera_1540235988656_72%20or%20RunId%20eq%20nb-hog-rgb-dom-hymenoptera_1540235988656_73%20or%20RunId%20eq%20nb-hog-rgb-dom-hymenoptera_1540235988656_74%20or%20RunId%20eq%20nb-hog-rgb-dom-hymenoptera_1540235988656_75%20or%20RunId%20eq%20nb-hog-rgb-dom-hymenoptera_1540235988656_76%20or%20RunId%20eq%20nb-hog-rgb-dom-hymenoptera_1540235988656_77%20or%20RunId%20eq%20nb-hog-rgb-dom-hymenoptera_1540235988656_78%20or%20RunId%20eq%20nb-hog-rgb-dom-hymenoptera_1540235988656_79%20or%20RunId%20eq%20nb-hog-rgb-dom-hymenoptera_1540235988656_8%20or%20RunId%20eq%20nb-hog-rgb-dom-hymenoptera_1540235988656_80&$continuationtoken=%2BRID%3AljEvAOYxbQCHTgUAAAAAAA%3D%3D%23RT%3A2%23TRC%3A100%23RTD%3AY2JuYi1ob2ctcmdiLWRvbS1oeW1lbm9wdGVyYV8xNTQwMjM1OTg4NjU2Xzcx%23FPC%3AAgEUFRQQAP%2BtAcA%2FAEIAgA5%2FAGEAgAcVVgAxDQB%2FZAAAwPMHAPwBAB%2BAA8DHN%2BCJHwAfgA3Axx88%2Ft4f3h8A7w8AAO8PAAAAAOD9AQCePwAiAAC8PwAjAN4fAOD5A2MAeP4AgOcPIgAAwAMAMQAA8A%3D%3D&$orderby=RunId%20asc\n"
     ]
    },
    {
     "name": "stderr",
     "output_type": "stream",
     "text": [
      "2018-10-23 21:41:44,483 WARNING Retrying (Retry(total=1, connect=2, read=3, redirect=None, status=None)) after connection broken by 'NewConnectionError('<urllib3.connection.VerifiedHTTPSConnection object at 0x00000273E8948438>: Failed to establish a new connection: [Errno 11001] getaddrinfo failed',)': /history/v1.0/subscriptions/2f5c43ac-ac34-401d-bead-2dc43ffdc4b1/resourceGroups/LEGO-Vision/providers/Microsoft.MachineLearningServices/workspaces/LEGO-Vision/experiments/nb-hog-rgb-dom-hymenoptera/runs/nb-hog-rgb-dom-hymenoptera_1540235988656_32/details\n",
      "2018-10-23 21:41:44,483 WARNING Retrying (Retry(total=1, connect=2, read=2, redirect=None, status=None)) after connection broken by 'NewConnectionError('<urllib3.connection.VerifiedHTTPSConnection object at 0x00000273E855A898>: Failed to establish a new connection: [Errno 11001] getaddrinfo failed',)': /history/v1.0/subscriptions/2f5c43ac-ac34-401d-bead-2dc43ffdc4b1/resourceGroups/LEGO-Vision/providers/Microsoft.MachineLearningServices/workspaces/LEGO-Vision/experiments/nb-hog-rgb-dom-hymenoptera/runs/nb-hog-rgb-dom-hymenoptera_1540235927784_43/details\n",
      "2018-10-23 21:41:44,484 WARNING Retrying (Retry(total=1, connect=2, read=2, redirect=None, status=None)) after connection broken by 'NewConnectionError('<urllib3.connection.VerifiedHTTPSConnection object at 0x00000273E4D38A20>: Failed to establish a new connection: [Errno 11001] getaddrinfo failed',)': /history/v1.0/subscriptions/2f5c43ac-ac34-401d-bead-2dc43ffdc4b1/resourceGroups/LEGO-Vision/providers/Microsoft.MachineLearningServices/workspaces/LEGO-Vision/experiments/nb-hog-rgb-dom-hymenoptera/runs/nb-hog-rgb-dom-hymenoptera_1540235927784_9/details\n",
      "2018-10-23 21:41:44,484 WARNING Retrying (Retry(total=1, connect=2, read=2, redirect=None, status=None)) after connection broken by 'NewConnectionError('<urllib3.connection.VerifiedHTTPSConnection object at 0x00000273E7FDCE10>: Failed to establish a new connection: [Errno 11001] getaddrinfo failed',)': /history/v1.0/subscriptions/2f5c43ac-ac34-401d-bead-2dc43ffdc4b1/resourceGroups/LEGO-Vision/providers/Microsoft.MachineLearningServices/workspaces/LEGO-Vision/experiments/nb-hog-rgb-dom-hymenoptera/runs/nb-hog-rgb-dom-hymenoptera_1540235927784_59/details\n",
      "2018-10-23 21:41:44,486 WARNING Retrying (Retry(total=1, connect=2, read=2, redirect=None, status=None)) after connection broken by 'NewConnectionError('<urllib3.connection.VerifiedHTTPSConnection object at 0x00000273E6D92550>: Failed to establish a new connection: [Errno 11001] getaddrinfo failed',)': /history/v1.0/subscriptions/2f5c43ac-ac34-401d-bead-2dc43ffdc4b1/resourceGroups/LEGO-Vision/providers/Microsoft.MachineLearningServices/workspaces/LEGO-Vision/experiments/nb-hog-rgb-dom-hymenoptera/runs/nb-hog-rgb-dom-hymenoptera_1540235927784_17/details\n",
      "2018-10-23 21:41:47,680 WARNING Retrying (Retry(total=0, connect=1, read=3, redirect=None, status=None)) after connection broken by 'NewConnectionError('<urllib3.connection.VerifiedHTTPSConnection object at 0x00000273E4D2A5F8>: Failed to establish a new connection: [Errno 11001] getaddrinfo failed',)': /history/v1.0/subscriptions/2f5c43ac-ac34-401d-bead-2dc43ffdc4b1/resourceGroups/LEGO-Vision/providers/Microsoft.MachineLearningServices/workspaces/LEGO-Vision/experiments/nb-hog-rgb-dom-hymenoptera/metrics?$filter=RunId%20eq%20nb-hog-rgb-dom-hymenoptera_1540235988656_63%20or%20RunId%20eq%20nb-hog-rgb-dom-hymenoptera_1540235988656_64%20or%20RunId%20eq%20nb-hog-rgb-dom-hymenoptera_1540235988656_65%20or%20RunId%20eq%20nb-hog-rgb-dom-hymenoptera_1540235988656_66%20or%20RunId%20eq%20nb-hog-rgb-dom-hymenoptera_1540235988656_67%20or%20RunId%20eq%20nb-hog-rgb-dom-hymenoptera_1540235988656_68%20or%20RunId%20eq%20nb-hog-rgb-dom-hymenoptera_1540235988656_69%20or%20RunId%20eq%20nb-hog-rgb-dom-hymenoptera_1540235988656_7%20or%20RunId%20eq%20nb-hog-rgb-dom-hymenoptera_1540235988656_70%20or%20RunId%20eq%20nb-hog-rgb-dom-hymenoptera_1540235988656_71%20or%20RunId%20eq%20nb-hog-rgb-dom-hymenoptera_1540235988656_72%20or%20RunId%20eq%20nb-hog-rgb-dom-hymenoptera_1540235988656_73%20or%20RunId%20eq%20nb-hog-rgb-dom-hymenoptera_1540235988656_74%20or%20RunId%20eq%20nb-hog-rgb-dom-hymenoptera_1540235988656_75%20or%20RunId%20eq%20nb-hog-rgb-dom-hymenoptera_1540235988656_76%20or%20RunId%20eq%20nb-hog-rgb-dom-hymenoptera_1540235988656_77%20or%20RunId%20eq%20nb-hog-rgb-dom-hymenoptera_1540235988656_78%20or%20RunId%20eq%20nb-hog-rgb-dom-hymenoptera_1540235988656_79%20or%20RunId%20eq%20nb-hog-rgb-dom-hymenoptera_1540235988656_8%20or%20RunId%20eq%20nb-hog-rgb-dom-hymenoptera_1540235988656_80&$continuationtoken=%2BRID%3AljEvAOYxbQCHTgUAAAAAAA%3D%3D%23RT%3A2%23TRC%3A100%23RTD%3AY2JuYi1ob2ctcmdiLWRvbS1oeW1lbm9wdGVyYV8xNTQwMjM1OTg4NjU2Xzcx%23FPC%3AAgEUFRQQAP%2BtAcA%2FAEIAgA5%2FAGEAgAcVVgAxDQB%2FZAAAwPMHAPwBAB%2BAA8DHN%2BCJHwAfgA3Axx88%2Ft4f3h8A7w8AAO8PAAAAAOD9AQCePwAiAAC8PwAjAN4fAOD5A2MAeP4AgOcPIgAAwAMAMQAA8A%3D%3D&$orderby=RunId%20asc\n",
      "2018-10-23 21:41:47,685 WARNING Retrying (Retry(total=0, connect=1, read=3, redirect=None, status=None)) after connection broken by 'NewConnectionError('<urllib3.connection.VerifiedHTTPSConnection object at 0x00000273E87866A0>: Failed to establish a new connection: [Errno 11001] getaddrinfo failed',)': /history/v1.0/subscriptions/2f5c43ac-ac34-401d-bead-2dc43ffdc4b1/resourceGroups/LEGO-Vision/providers/Microsoft.MachineLearningServices/workspaces/LEGO-Vision/experiments/nb-hog-rgb-dom-hymenoptera/runs/nb-hog-rgb-dom-hymenoptera_1540235988656_32/details\n",
      "2018-10-23 21:41:47,686 WARNING Retrying (Retry(total=0, connect=1, read=2, redirect=None, status=None)) after connection broken by 'NewConnectionError('<urllib3.connection.VerifiedHTTPSConnection object at 0x00000273E37C7C18>: Failed to establish a new connection: [Errno 11001] getaddrinfo failed',)': /history/v1.0/subscriptions/2f5c43ac-ac34-401d-bead-2dc43ffdc4b1/resourceGroups/LEGO-Vision/providers/Microsoft.MachineLearningServices/workspaces/LEGO-Vision/experiments/nb-hog-rgb-dom-hymenoptera/runs/nb-hog-rgb-dom-hymenoptera_1540235927784_43/details\n",
      "2018-10-23 21:41:47,688 WARNING Retrying (Retry(total=0, connect=1, read=2, redirect=None, status=None)) after connection broken by 'NewConnectionError('<urllib3.connection.VerifiedHTTPSConnection object at 0x00000273E51D7BE0>: Failed to establish a new connection: [Errno 11001] getaddrinfo failed',)': /history/v1.0/subscriptions/2f5c43ac-ac34-401d-bead-2dc43ffdc4b1/resourceGroups/LEGO-Vision/providers/Microsoft.MachineLearningServices/workspaces/LEGO-Vision/experiments/nb-hog-rgb-dom-hymenoptera/runs/nb-hog-rgb-dom-hymenoptera_1540235927784_59/details\n",
      "2018-10-23 21:41:47,688 WARNING Retrying (Retry(total=0, connect=1, read=2, redirect=None, status=None)) after connection broken by 'NewConnectionError('<urllib3.connection.VerifiedHTTPSConnection object at 0x00000273E89F2CF8>: Failed to establish a new connection: [Errno 11001] getaddrinfo failed',)': /history/v1.0/subscriptions/2f5c43ac-ac34-401d-bead-2dc43ffdc4b1/resourceGroups/LEGO-Vision/providers/Microsoft.MachineLearningServices/workspaces/LEGO-Vision/experiments/nb-hog-rgb-dom-hymenoptera/runs/nb-hog-rgb-dom-hymenoptera_1540235927784_9/details\n",
      "2018-10-23 21:41:47,689 WARNING Retrying (Retry(total=0, connect=1, read=2, redirect=None, status=None)) after connection broken by 'NewConnectionError('<urllib3.connection.VerifiedHTTPSConnection object at 0x00000273E8786198>: Failed to establish a new connection: [Errno 11001] getaddrinfo failed',)': /history/v1.0/subscriptions/2f5c43ac-ac34-401d-bead-2dc43ffdc4b1/resourceGroups/LEGO-Vision/providers/Microsoft.MachineLearningServices/workspaces/LEGO-Vision/experiments/nb-hog-rgb-dom-hymenoptera/runs/nb-hog-rgb-dom-hymenoptera_1540235927784_17/details\n",
      "You have logged in. Now let us find all the subscriptions to which you have access...\n"
     ]
    },
    {
     "name": "stdout",
     "output_type": "stream",
     "text": [
      "Interactive authentication successfully completed.\n"
     ]
    }
   ],
   "source": [
    "run.complete()"
   ]
  },
  {
   "cell_type": "code",
   "execution_count": null,
   "metadata": {},
   "outputs": [],
   "source": []
  },
  {
   "cell_type": "markdown",
   "metadata": {},
   "source": [
    "# Convolutional Neural Network"
   ]
  },
  {
   "cell_type": "code",
   "execution_count": 64,
   "metadata": {},
   "outputs": [],
   "source": [
    "import os\n",
    "\n",
    "project_folder = './cnn-rgb-hymenoptera'\n",
    "os.makedirs(project_folder, exist_ok=True)"
   ]
  },
  {
   "cell_type": "code",
   "execution_count": 65,
   "metadata": {},
   "outputs": [
    {
     "data": {
      "text/plain": [
       "'./cnn-rgb-hymenoptera\\\\cntk-clean-classifier.py'"
      ]
     },
     "execution_count": 65,
     "metadata": {},
     "output_type": "execute_result"
    }
   ],
   "source": [
    "import shutil\n",
    "shutil.copy('CNTK CNN\\cntk-clean-classifier.py', project_folder)"
   ]
  },
  {
   "cell_type": "code",
   "execution_count": 66,
   "metadata": {},
   "outputs": [
    {
     "data": {
      "text/plain": [
       "'./cnn-rgb-hymenoptera\\\\helpers.py'"
      ]
     },
     "execution_count": 66,
     "metadata": {},
     "output_type": "execute_result"
    }
   ],
   "source": [
    "shutil.copy('helpers.py', project_folder)"
   ]
  },
  {
   "cell_type": "code",
   "execution_count": 67,
   "metadata": {},
   "outputs": [],
   "source": [
    "from azureml.core import Experiment\n",
    "\n",
    "experiment_name = 'cnn-rgb-hymenoptera'\n",
    "experiment_nb = Experiment(ws, name=experiment_name)"
   ]
  },
  {
   "cell_type": "code",
   "execution_count": 68,
   "metadata": {},
   "outputs": [],
   "source": [
    "from azureml.train.estimator import Estimator\n",
    "\n",
    "script_params = {\n",
    "    '--data_dir': ds_data_dir_syn,\n",
    "    '--test_dir': ds_data_dir_nat,\n",
    "    '--output_dir': './outputs',\n",
    "    '--number_of_samples': 10\n",
    "}\n",
    "\n",
    "estimator_cnn = Estimator(source_directory=project_folder, \n",
    "                          script_params=script_params,\n",
    "                          compute_target=compute_target_two,\n",
    "                          entry_script='cntk-clean-classifier.py',\n",
    "                          use_gpu=True,\n",
    "                          pip_packages=['cntk-gpu==2.6', 'matplotlib', 'numpy'],\n",
    "                          custom_docker_base_image='microsoft/mmlspark:gpu-0.12')"
   ]
  },
  {
   "cell_type": "code",
   "execution_count": 69,
   "metadata": {
    "scrolled": false
   },
   "outputs": [
    {
     "data": {
      "text/html": [
       "<table style=\"width:100%\"><tr><th>Experiment</th><th>Id</th><th>Type</th><th>Status</th><th>Details Page</th><th>Docs Page</th></tr><tr><td>cnn-rgb-hymenoptera</td><td>cnn-rgb-hymenoptera_1540295205146</td><td>azureml.scriptrun</td><td>Running</td><td><a href=\"https://mlworkspace.azure.ai/portal/subscriptions/2f5c43ac-ac34-401d-bead-2dc43ffdc4b1/resourceGroups/LEGO-Vision/providers/Microsoft.MachineLearningServices/workspaces/LEGO-Vision/experiments/cnn-rgb-hymenoptera/runs/cnn-rgb-hymenoptera_1540295205146\" target=\"_blank\" rel=\"noopener\">Link to Azure Portal</a></td><td><a href=\"https://docs.microsoft.com/en-us/python/api/azureml-core/azureml.core.script_run.ScriptRun?view=azure-ml-py\" target=\"_blank\" rel=\"noopener\">Link to Documentation</a></td></tr></table>"
      ],
      "text/plain": [
       "Run(Experiment: cnn-rgb-hymenoptera,\n",
       "Id: cnn-rgb-hymenoptera_1540295205146,\n",
       "Type: azureml.scriptrun,\n",
       "Status: Running)"
      ]
     },
     "execution_count": 69,
     "metadata": {},
     "output_type": "execute_result"
    }
   ],
   "source": [
    "run_cnn = experiment_nb.submit(estimator_cnn)\n",
    "run_cnn"
   ]
  },
  {
   "cell_type": "code",
   "execution_count": 70,
   "metadata": {
    "scrolled": true
   },
   "outputs": [
    {
     "data": {
      "application/vnd.jupyter.widget-view+json": {
       "model_id": "b00f22fde6584b539391835f125d6245",
       "version_major": 2,
       "version_minor": 0
      },
      "text/plain": [
       "_UserRun()"
      ]
     },
     "metadata": {},
     "output_type": "display_data"
    }
   ],
   "source": [
    "from azureml.train.widgets import RunDetails\n",
    "RunDetails(run_cnn).show()"
   ]
  },
  {
   "cell_type": "code",
   "execution_count": 73,
   "metadata": {},
   "outputs": [],
   "source": [
    "run_cnn.cancel()"
   ]
  },
  {
   "cell_type": "code",
   "execution_count": 74,
   "metadata": {},
   "outputs": [
    {
     "data": {
      "text/plain": [
       "<azureml.train.hyperdrive.runconfig.HyperDriveRunConfig at 0x273e7fff828>"
      ]
     },
     "execution_count": 74,
     "metadata": {},
     "output_type": "execute_result"
    }
   ],
   "source": [
    "from azureml.train.hyperdrive import *\n",
    "\n",
    "\n",
    "ps = GridParameterSampling(\n",
    "    {\n",
    "        '--number_of_samples': choice(200, 400, 800),\n",
    "        '--shape': choice('32', '64', '128', '256'),\n",
    "        '--dominant_color': choice(True, False)\n",
    "    }\n",
    ")\n",
    "\n",
    "early_termination_policy = BanditPolicy(slack_factor = 0.3, evaluation_interval=1, delay_evaluation=1)\n",
    "\n",
    "hyperdrive_run_config_cnn = HyperDriveRunConfig(estimator=estimator_cnn,\n",
    "                                            hyperparameter_sampling=ps,\n",
    "                                            policy=early_termination_policy,\n",
    "                                            primary_metric_name=\"f_score\",\n",
    "                                            primary_metric_goal=PrimaryMetricGoal.MAXIMIZE,\n",
    "                                            max_total_runs=100,\n",
    "                                            max_concurrent_runs=4)\n",
    "hyperdrive_run_config_cnn"
   ]
  },
  {
   "cell_type": "code",
   "execution_count": 75,
   "metadata": {},
   "outputs": [
    {
     "name": "stderr",
     "output_type": "stream",
     "text": [
      "The same input parameter(s) are specified in estimator script params and HyperDrive parameter space. HyperDrive parameter space definition will override duplicate entries in estimator. ['--number_of_samples'] is the list of overridden parameter(s).\n"
     ]
    }
   ],
   "source": [
    "hyperdrive_run_cnn = experiment_nb.submit(hyperdrive_run_config_cnn)"
   ]
  },
  {
   "cell_type": "code",
   "execution_count": 76,
   "metadata": {
    "scrolled": false
   },
   "outputs": [
    {
     "data": {
      "application/vnd.jupyter.widget-view+json": {
       "model_id": "63d4c731b43947959024d1f5b5722346",
       "version_major": 2,
       "version_minor": 0
      },
      "text/plain": [
       "_HyperDrive(widget_settings={'childWidgetDisplay': 'popup'})"
      ]
     },
     "metadata": {},
     "output_type": "display_data"
    }
   ],
   "source": [
    "from azureml.train.widgets import RunDetails\n",
    "RunDetails(hyperdrive_run_cnn).show()"
   ]
  },
  {
   "cell_type": "code",
   "execution_count": 81,
   "metadata": {},
   "outputs": [
    {
     "data": {
      "text/plain": [
       "{'code': 200,\n",
       " 'result': 'Cancellation requested for cnn-rgb-hymenoptera_1540295782635'}"
      ]
     },
     "execution_count": 81,
     "metadata": {},
     "output_type": "execute_result"
    }
   ],
   "source": [
    "hyperdrive_run_cnn.cancel()"
   ]
  }
 ],
 "metadata": {
  "kernelspec": {
   "display_name": "Python 3",
   "language": "python",
   "name": "python3"
  },
  "language_info": {
   "codemirror_mode": {
    "name": "ipython",
    "version": 3
   },
   "file_extension": ".py",
   "mimetype": "text/x-python",
   "name": "python",
   "nbconvert_exporter": "python",
   "pygments_lexer": "ipython3",
   "version": "3.6.4"
  }
 },
 "nbformat": 4,
 "nbformat_minor": 2
}
