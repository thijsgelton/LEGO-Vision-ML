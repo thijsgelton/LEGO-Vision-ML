{
 "cells": [
  {
   "cell_type": "code",
   "execution_count": 45,
   "metadata": {},
   "outputs": [],
   "source": [
    "import glob, os, re\n",
    "from collections import Counter\n",
    "import numpy as np\n",
    "\n",
    "base_directory = r\"D:\\LEGO Vision Datasets\\Detection\\Natural Data_output\"\n",
    "only_numbers = re.compile(r\"\\d+\\.\\d+\")"
   ]
  },
  {
   "cell_type": "code",
   "execution_count": 31,
   "metadata": {},
   "outputs": [],
   "source": [
    "def get_width(line):\n",
    "    x1, y1, x2, y2 = re.findall(only_numbers, line)\n",
    "    return abs(float(x2) - float(x1))"
   ]
  },
  {
   "cell_type": "code",
   "execution_count": 32,
   "metadata": {},
   "outputs": [],
   "source": [
    "def get_height(line):\n",
    "    x1, y1, x2, y2 = re.findall(only_numbers, line)\n",
    "    return abs(float(y2) - float(y1))"
   ]
  },
  {
   "cell_type": "code",
   "execution_count": 35,
   "metadata": {},
   "outputs": [],
   "source": [
    "summed_per_class = Counter()\n",
    "\n",
    "for label_file in glob.glob(os.path.join(base_directory, 'positive', '*.bboxes.labels.tsv')):\n",
    "    with open(label_file) as labels:\n",
    "        with open(label_file.replace(\".labels\", \"\")) as bboxes:\n",
    "            bbox_lines = bboxes.readlines()\n",
    "            for index, label in enumerate(labels.readlines()):\n",
    "                summed_per_class.update({f\"{label}_width\": get_width(bbox_lines[index])}) \n",
    "                summed_per_class.update({f\"{label}_width_count\": 1}) \n",
    "                summed_per_class.update({f\"{label}_height\": get_height(bbox_lines[index])})\n",
    "                summed_per_class.update({f\"{label}_height_count\": 1})                       \n",
    "                \n",
    "    "
   ]
  },
  {
   "cell_type": "code",
   "execution_count": 39,
   "metadata": {},
   "outputs": [
    {
     "data": {
      "text/plain": [
       "Counter({'3020-red\\n_width': 8523.0,\n",
       "         '3020-red\\n_width_count': 30,\n",
       "         '3020-red\\n_height': 9327.0,\n",
       "         '3020-red\\n_height_count': 30,\n",
       "         '6041-yellow\\n_width': 6719.0,\n",
       "         '6041-yellow\\n_width_count': 30,\n",
       "         '6041-yellow\\n_height': 6971.0,\n",
       "         '6041-yellow\\n_height_count': 30,\n",
       "         '3710-red\\n_width': 14041.0,\n",
       "         '3710-red\\n_width_count': 59,\n",
       "         '3710-red\\n_height': 15273.0,\n",
       "         '3710-red\\n_height_count': 59,\n",
       "         '3003-yellow\\n_width': 5846.0,\n",
       "         '3003-yellow\\n_width_count': 30,\n",
       "         '3003-yellow\\n_height': 5901.0,\n",
       "         '3003-yellow\\n_height_count': 30,\n",
       "         '2458-blue\\n_width': 4936.0,\n",
       "         '2458-blue\\n_width_count': 28,\n",
       "         '2458-blue\\n_height': 4872.0,\n",
       "         '2458-blue\\n_height_count': 28,\n",
       "         '3298-yellow\\n_width': 7064.0,\n",
       "         '3298-yellow\\n_width_count': 29,\n",
       "         '3298-yellow\\n_height': 7023.0,\n",
       "         '3298-yellow\\n_height_count': 29,\n",
       "         '3039-trans-clear\\n_width': 5587.0,\n",
       "         '3039-trans-clear\\n_width_count': 29,\n",
       "         '3039-trans-clear\\n_height': 5760.0,\n",
       "         '3039-trans-clear\\n_height_count': 29})"
      ]
     },
     "execution_count": 39,
     "metadata": {},
     "output_type": "execute_result"
    }
   ],
   "source": [
    "summed_per_class"
   ]
  },
  {
   "cell_type": "code",
   "execution_count": 40,
   "metadata": {},
   "outputs": [],
   "source": [
    "average_width_and_height = dict()\n",
    "for key, value in summed_per_class.items():\n",
    "    if not 'count' in key:\n",
    "        average_width_and_height[key] = value / summed_per_class[key + \"_count\"]"
   ]
  },
  {
   "cell_type": "code",
   "execution_count": 49,
   "metadata": {},
   "outputs": [
    {
     "name": "stdout",
     "output_type": "stream",
     "text": [
      "Average width: 221.92049682526428 with a standard deviation of: 34.369397470251094\n",
      "Average height: 230.51773955637194 with a standard deviation of: 42.69393982653537\n"
     ]
    }
   ],
   "source": [
    "[value for key, value in average_width_and_height.items() if 'width' in key]\n",
    "widths = []\n",
    "heights = []\n",
    "for key, value in average_width_and_height.items():\n",
    "    if 'width' in key:\n",
    "        widths.append(value)\n",
    "    elif 'height' in key:\n",
    "        heights.append(value)\n",
    "widths = np.array(widths)\n",
    "heights = np.array(heights)\n",
    "print(f\"Average width: {np.mean(widths)} with a standard deviation of: {np.std(widths)}\")\n",
    "print(f\"Average height: {np.mean(heights)} with a standard deviation of: {np.std(heights)}\")"
   ]
  }
 ],
 "metadata": {
  "kernelspec": {
   "display_name": "Python 3",
   "language": "python",
   "name": "python3"
  },
  "language_info": {
   "codemirror_mode": {
    "name": "ipython",
    "version": 3
   },
   "file_extension": ".py",
   "mimetype": "text/x-python",
   "name": "python",
   "nbconvert_exporter": "python",
   "pygments_lexer": "ipython3",
   "version": "3.6.4"
  }
 },
 "nbformat": 4,
 "nbformat_minor": 2
}
