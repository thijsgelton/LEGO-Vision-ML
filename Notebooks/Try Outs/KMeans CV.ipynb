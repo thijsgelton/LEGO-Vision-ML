{
 "cells": [
  {
   "cell_type": "code",
   "execution_count": 1,
   "metadata": {},
   "outputs": [],
   "source": [
    "import numpy as np\n",
    "import helpers\n",
    "from sklearn import cluster\n",
    "\n",
    "def quantize(raster, n_colors):\n",
    "    width, height, depth = raster.shape\n",
    "    reshaped_raster = np.reshape(raster, (width * height, depth))\n",
    "\n",
    "    model = cluster.KMeans(n_clusters=n_colors)\n",
    "    labels = model.fit_predict(reshaped_raster)\n",
    "    palette = model.cluster_centers_\n",
    "\n",
    "    quantized_raster = np.reshape(palette[labels], (width, height, palette.shape[1]))\n",
    "\n",
    "    return quantized_raster"
   ]
  },
  {
   "cell_type": "code",
   "execution_count": 48,
   "metadata": {},
   "outputs": [
    {
     "name": "stderr",
     "output_type": "stream",
     "text": [
      "c:\\users\\thijs\\appdata\\local\\programs\\python\\python36\\lib\\site-packages\\skimage\\transform\\_warps.py:105: UserWarning: The default mode, 'constant', will be changed to 'reflect' in skimage 0.15.\n",
      "  warn(\"The default mode, 'constant', will be changed to 'reflect' in \"\n",
      "c:\\users\\thijs\\appdata\\local\\programs\\python\\python36\\lib\\site-packages\\skimage\\transform\\_warps.py:110: UserWarning: Anti-aliasing will be enabled by default in skimage 0.15 to avoid aliasing artifacts when down-sampling images.\n",
      "  warn(\"Anti-aliasing will be enabled by default in skimage 0.15 to \"\n"
     ]
    },
    {
     "data": {
      "text/plain": [
       "<matplotlib.image.AxesImage at 0x2415c165fd0>"
      ]
     },
     "execution_count": 48,
     "metadata": {},
     "output_type": "execute_result"
    },
    {
     "data": {
      "image/png": "[encoded data removed]",
      "text/plain": [
       "<Figure size 432x288 with 1 Axes>"
      ]
     },
     "metadata": {},
     "output_type": "display_data"
    }
   ],
   "source": []
  },
  {
   "cell_type": "code",
   "execution_count": 134,
   "metadata": {},
   "outputs": [
    {
     "name": "stdout",
     "output_type": "stream",
     "text": [
      "Wall time: 85 ms\n"
     ]
    }
   ],
   "source": [
    "%%time\n",
    "%matplotlib inline\n",
    "\n",
    "image = Image.open(r\"D:\\LEGO Vision Datasets\\classification-color-indepent\\3020-red\\33.png\").convert(\"RGB\").resize((128,128))\n",
    "\n",
    "kmeans = quantize(np.asarray(image), 3)\n",
    "count_rgb = np.unique(kmeans, return_counts=True, axis=None)\n",
    "\n",
    "rgbs = defaultdict(list)\n",
    "\n",
    "for i, count in enumerate(count_rgb[-1]):\n",
    "    rgbs[count].append(count_rgb[0][i])\n",
    "dominant_color = rgbs[min(rgbs.keys())]\n",
    "np.flip(np.asarray(dominant_color), axis=0) * 256"
   ]
  },
  {
   "cell_type": "code",
   "execution_count": 135,
   "metadata": {},
   "outputs": [
    {
     "name": "stdout",
     "output_type": "stream",
     "text": [
      "(242.51737328657953, 236.95632770162575, 120.64583997449793)\n",
      "Wall time: 128 ms\n"
     ]
    }
   ],
   "source": [
    "%%time\n",
    "%matplotlib inline\n",
    "from collections import defaultdict, Counter\n",
    "import matplotlib.pyplot as plt\n",
    "from skimage.transform import resize\n",
    "\n",
    "\n",
    "image = Image.open(r\"D:\\LEGO Vision Datasets\\classification-color-indepent\\3020-red\\33.png\").convert(\"RGB\").resize((128,128))\n",
    "counter = Counter()\n",
    "kmeans = quantize(np.asarray(image), 3)\n",
    "onedar = []\n",
    "for row in kmeans:\n",
    "    for rgb in row:\n",
    "        counter[tuple(rgb)] += 1\n",
    "        \n",
    "print(counter.most_common()[-1][0])\n",
    "# count_rgb = np.unique(kmeans, return_counts=True, axis=None)\n",
    "\n",
    "# print(count_rgb)\n",
    "# for i, count in enumerate(count_rgb[-1]):\n",
    "#     rgbs[count].append(count_rgb[0][i])\n",
    "# dominant_color = rgbs[min(rgbs.keys())]\n",
    "# print(np.flip(np.asarray(dominant_color), axis=0))"
   ]
  },
  {
   "cell_type": "code",
   "execution_count": 69,
   "metadata": {
    "scrolled": false
   },
   "outputs": [
    {
     "name": "stdout",
     "output_type": "stream",
     "text": [
      "reading image\n",
      "finding clusters\n",
      "cluster centres:\n",
      " [[157.93786518 106.78224312  70.4671512 ]\n",
      " [110.92615187  73.15652593  49.92005137]\n",
      " [242.50159337 236.93945188 120.63129382]]\n",
      "None\n",
      "[6955 6292 3137] [0.         0.66666667 1.33333333 2.        ]\n",
      "Wall time: 65.5 ms\n"
     ]
    }
   ],
   "source": [
    "%%time\n",
    "import struct\n",
    "from PIL import Image\n",
    "import numpy as np\n",
    "import scipy\n",
    "import scipy.misc\n",
    "import scipy.cluster\n",
    "\n",
    "NUM_CLUSTERS = 3\n",
    "\n",
    "print('reading image')\n",
    "im = Image.open(r\"D:\\LEGO Vision Datasets\\classification-color-indepent\\3020-red\\33.png\").convert(\"RGB\")\n",
    "im = im.resize((128, 128))      # optional, to reduce time\n",
    "ar = np.asarray(im)\n",
    "shape = ar.shape\n",
    "ar = ar.reshape(scipy.product(shape[:2]), shape[2]).astype(float)\n",
    "\n",
    "print('finding clusters')\n",
    "codes, dist = scipy.cluster.vq.kmeans(ar, NUM_CLUSTERS)\n",
    "print('cluster centres:\\n', codes)\n",
    "print(im.getcolors())\n",
    "vecs, dist = scipy.cluster.vq.vq(ar, codes)         # assign codes\n",
    "counts, bins = scipy.histogram(vecs, len(codes))    # count occurrences\n",
    "print(counts, bins)"
   ]
  },
  {
   "cell_type": "code",
   "execution_count": 10,
   "metadata": {},
   "outputs": [
    {
     "name": "stderr",
     "output_type": "stream",
     "text": [
      "c:\\users\\thijs\\appdata\\local\\programs\\python\\python36\\lib\\site-packages\\skimage\\transform\\_warps.py:105: UserWarning: The default mode, 'constant', will be changed to 'reflect' in skimage 0.15.\n",
      "  warn(\"The default mode, 'constant', will be changed to 'reflect' in \"\n"
     ]
    },
    {
     "name": "stdout",
     "output_type": "stream",
     "text": [
      "Counter({(0.5009977182115944, 0.5032487865795773, 0.4750583054658175): 2468, (0.44021025618785775, 0.4506750661205307, 0.42550136252719967): 1541, (0.21458574437649774, 0.6903476174573898, 0.8326632562998999): 87})\n"
     ]
    },
    {
     "data": {
      "text/plain": [
       "'#37b0d4'"
      ]
     },
     "execution_count": 10,
     "metadata": {},
     "output_type": "execute_result"
    },
    {
     "data": {
      "image/png": "[encoded data removed]",
      "text/plain": [
       "<Figure size 432x288 with 1 Axes>"
      ]
     },
     "metadata": {},
     "output_type": "display_data"
    }
   ],
   "source": [
    "import helpers, webcolors\n",
    "import numpy as np\n",
    "from PIL import Image\n",
    "from collections import Counter\n",
    "from colour import Color\n",
    "\n",
    "im = np.asarray(Image.open(r\"C:\\Users\\Thijs\\Google Drive\\LEGO Vision\\Natuurlijke data\\2458-blue\\IMG_20181019_105342.jpg\").convert(\"RGB\"))\n",
    "im = helpers.pipeline(im, smoothing=0.2, denoising=0.2, shape=(64,64), flatten=False)\n",
    "\n",
    "counter = Counter()\n",
    "kmeans = helpers.quantize(np.asarray(im), 3)\n",
    "plt.imshow(kmeans)\n",
    "onedar = []\n",
    "for row in kmeans:\n",
    "    for rgb in row:\n",
    "        counter[tuple(rgb)] += 1\n",
    "print(counter)\n",
    "rgb = helpers.dominant_color(im)\n",
    "Color(rgb=(0.21458574437649774, 0.6903476174573898, 0.8326632562998999)).hex"
   ]
  },
  {
   "cell_type": "code",
   "execution_count": 12,
   "metadata": {},
   "outputs": [
    {
     "data": {
      "text/plain": [
       "<matplotlib.image.AxesImage at 0x17d0d5e13c8>"
      ]
     },
     "execution_count": 12,
     "metadata": {},
     "output_type": "execute_result"
    },
    {
     "data": {
      "image/png": "[encoded data removed]",
      "text/plain": [
       "<Figure size 432x288 with 1 Axes>"
      ]
     },
     "metadata": {},
     "output_type": "display_data"
    }
   ],
   "source": [
    "%matplotlib inline\n",
    "import numpy as np\n",
    "import matplotlib.pyplot as plt\n",
    "color_array = np.ndarray(shape=(128,128,3))\n",
    "color_array[:,:,:] = rgb\n",
    "plt.imshow(color_array)"
   ]
  },
  {
   "cell_type": "code",
   "execution_count": 17,
   "metadata": {
    "scrolled": true
   },
   "outputs": [
    {
     "name": "stdout",
     "output_type": "stream",
     "text": [
      "[0.6524935  0.64561981 0.35802674]\n"
     ]
    },
    {
     "data": {
      "image/png": "[encoded data removed]",
      "text/plain": [
       "<Figure size 576x288 with 2 Axes>"
      ]
     },
     "metadata": {},
     "output_type": "display_data"
    },
    {
     "name": "stdout",
     "output_type": "stream",
     "text": [
      "Wall time: 3.43 s\n"
     ]
    }
   ],
   "source": [
    "%%time\n",
    "\n",
    "image = np.asarray(plt.imread(r\"C:\\Users\\Thijs\\Google Drive\\LEGO Vision\\Natuurlijke data\\IMG_20181022_105045.jpg\"))\n",
    "helpers.pipeline(image, shape=(64,64), pixels_per_cell=(16,16), cells_per_block=(4,4),\n",
    "                 smoothing=0.2, denoising=0.2, debug=True, with_hog_attached=True, with_dominant_color_attached=True)"
   ]
  },
  {
   "cell_type": "code",
   "execution_count": 1,
   "metadata": {
    "scrolled": true
   },
   "outputs": [],
   "source": [
    "import helpers\n",
    "\n",
    "dataset_path = r\"C:\\Users\\Thijs\\Google Drive\\LEGO Vision\\Natuurlijke data\"\n",
    "\n",
    "X, y = helpers.images_to_dataset(dataset_path=dataset_path, shape=(32,32), \n",
    "                                 smoothing=0.1, denoising=0.1, with_hog_attached=True, with_dominant_color_attached=True,\n",
    "                                 pixels_per_cell=(8, 8), cells_per_block=(2,2), orientations=9,\n",
    "                                 samples=20, debug=False)"
   ]
  },
  {
   "cell_type": "code",
   "execution_count": 67,
   "metadata": {},
   "outputs": [
    {
     "name": "stdout",
     "output_type": "stream",
     "text": [
      "{'3039-trans-clear', '3298-yellow', '3003-yellow', '3710-red', '2458-blue', '3020-red', '6041-yellow'}\n"
     ]
    }
   ],
   "source": [
    "import numpy as np\n",
    "from colour import Color\n",
    "Color(rgb=np.asarray(X)[:99, :3].mean(axis=0))\n",
    "print(set(y))"
   ]
  },
  {
   "cell_type": "code",
   "execution_count": 6,
   "metadata": {
    "scrolled": true
   },
   "outputs": [
    {
     "name": "stdout",
     "output_type": "stream",
     "text": [
      "20\n"
     ]
    },
    {
     "data": {
      "image/png": "[encoded data removed]",
      "text/plain": [
       "<Figure size 1800x432 with 7 Axes>"
      ]
     },
     "metadata": {},
     "output_type": "display_data"
    }
   ],
   "source": [
    "%matplotlib inline\n",
    "\n",
    "from colour import Color\n",
    "import numpy as np\n",
    "import matplotlib.pyplot as plt\n",
    "\n",
    "classes = set(y)\n",
    "fig, axs = plt.subplots(nrows=1, ncols=len(classes), figsize=(25, 6), sharex=True, sharey=True)\n",
    "\n",
    "axs = axs.ravel()\n",
    "amount_per_class = int(len(y) / len(classes))\n",
    "print(amount_per_class)\n",
    "r = np.asarray(X)[:, :3]\n",
    "l = np.asarray(y)\n",
    "for i in range(len(classes)): \n",
    "    color_values, r = r[:amount_per_class], r[amount_per_class:]\n",
    "    color_labels, l = l[:amount_per_class], l[amount_per_class:]\n",
    "    rgb = color_values.mean(axis=0)\n",
    "#     rgb = sample[:3]\n",
    "    color_array = np.ndarray(shape=(28,28,3))\n",
    "    color_array[:,:,:] = rgb\n",
    "    axs[i].imshow(color_array)\n",
    "    axs[i].axis('off')\n",
    "    axs[i].set_title(color_labels[0])\n",
    "plt.show()"
   ]
  },
  {
   "cell_type": "code",
   "execution_count": 16,
   "metadata": {},
   "outputs": [
    {
     "name": "stdout",
     "output_type": "stream",
     "text": [
      "[ 15.08510638 158.8983934  239.09292228]\n",
      "[ 14.97108434 117.11084337 191.94337349]\n",
      "[ 13.09903382 127.86714976 211.85748792]\n",
      "[ 12.10023866 102.68615752 170.46062053]\n",
      "[ 12.55408654 121.23076923 200.93990385]\n",
      "[  9.94081272 136.29637809 234.6479682 ]\n",
      "[ 15.69822485 164.18934911 236.36804734]\n",
      "[ 17.2681764  161.76042908 235.65435042]\n",
      "[ 16.30518697 136.2424608  221.11218335]\n",
      "[ 15.93115942 129.40096618 210.08816425]\n",
      "[ 13.09025271 129.93261131 218.26474128]\n",
      "[ 26.77751479 160.68757396 230.79171598]\n",
      "[ 10.71397188 151.8870826  241.95738137]\n",
      "[ 16.00130265 163.62353452 239.14415979]\n",
      "[ 14.73959572 151.68252081 235.46492271]\n",
      "[ 13.69892473 141.59513791 234.14446003]\n",
      "[ 15.38862559 162.91350711 236.47393365]\n",
      "[ 15.74231678 164.45153664 235.83096927]\n",
      "[ 12.95662651 129.81686747 218.03614458]\n",
      "[ 13.44434629 135.93727915 223.31404594]\n",
      "[ 15.0942029  128.62560386 210.        ]\n",
      "[ 13.09101796 131.63832335 218.68742515]\n",
      "[ 12.41034898 120.19494585 206.17930205]\n",
      "[ 10.1907489  127.32907489 211.54537445]\n",
      "[ 25.26991677 156.29250892 229.97265161]\n",
      "[ 24.89582437 169.75850194 236.0951356 ]\n",
      "[ 16.91725768 174.72813239 237.22222222]\n",
      "[ 16.49033816 132.95410628 216.63888889]\n",
      "[ 10.53468847 136.14273089 227.79982324]\n",
      "[ 20.84444444 165.91822222 236.88311111]\n",
      "[ 15.48607485 129.17536989 211.70800696]\n",
      "[ 13.35054022 130.26290516 219.86554622]\n",
      "[ 14.51437282 163.47778746 240.79747387]\n",
      "[ 15.07244656 162.20308789 236.58907363]\n",
      "[ 18.55952381 160.59285714 234.7       ]\n",
      "[ 11.98005319 143.16312057 236.07978723]\n",
      "[ 15.39053254 159.54556213 235.80236686]\n",
      "[ 14.32461356 144.18906064 233.90249703]\n",
      "[ 11.66618993 120.40846682 211.86899314]\n",
      "[ 13.91362916 107.41125198 186.17591125]\n",
      "[  9.71191214 153.67417629 242.11489721]\n",
      "[ 13.61123941 170.3556582  238.00076982]\n",
      "[ 11.53328051 118.44928685 209.15768621]\n",
      "[ 19.39472939 150.50609238 235.47605554]\n",
      "[  8.99462366 144.45727221 242.38766271]\n",
      "[ 13.86942675 124.04697452 216.39012739]\n",
      "[  9.82161089 149.50453772 242.81480431]\n",
      "[  8.02384738  95.54372019 171.61764706]\n",
      "[ 11.5140625 143.5359375 238.2953125]\n",
      "[ 14.85906572 115.12747427 200.43151227]\n",
      "[  9.35266084 112.41223193 208.3542494 ]\n",
      "[  8.25329044 145.01082188 242.89002632]\n",
      "[ 13.09497645 142.59340659 237.34379906]\n",
      "[  9.32851883 154.84933447 243.32370433]\n",
      "[  7.03532453 109.95089029 200.61573808]\n",
      "[ 10.57939914 112.44892704 198.63061516]\n",
      "[ 14.69114286 117.37285714 202.99314286]\n",
      "[ 14.24141812 153.99212155 239.27658976]\n",
      "[ 11.91838352 113.20998415 199.37400951]\n",
      "[ 11.63104524 145.46723869 237.97815913]\n",
      "[ 13.43980693 153.24219194 239.69761499]\n",
      "[ 11.70816812 118.78826328 209.02537669]\n",
      "[ 10.95518868 136.21619497 237.85298742]\n",
      "[ 13.56716418 134.03142184 233.03849175]\n",
      "[ 10.83974863 132.54988217 237.22309505]\n",
      "[  7.48742857 119.50714286 216.89485714]\n",
      "[ 12.55866356 151.83916084 238.27428127]\n",
      "[  9.76642959 135.65860597 240.48477952]\n",
      "[ 18.20237154 134.66561265 230.3486166 ]\n",
      "[ 12.65391205 135.36407767 237.0631068 ]\n",
      "[ 12.23790952 151.91341654 238.41107644]\n",
      "[ 11.18946541 137.07311321 237.61084906]\n",
      "[  7.99138179 121.71818443 226.96150531]\n",
      "[  8.1627907  129.11513063 230.82227964]\n",
      "[  9.58461015 139.31154239 243.06230848]\n",
      "[ 11.20915254 147.18949153 242.61694915]\n",
      "[ 14.83276567 146.83923706 239.75510899]\n",
      "[ 13.5136612  121.72301913 205.53688525]\n",
      "[  8.98266485 135.89123046 238.68490823]\n",
      "[ 13.14887064 136.77754962 231.9880219 ]\n",
      "[ 13.29787234 147.15541166 237.77428307]\n",
      "[ 11.09133489 166.9866176  244.92840415]\n",
      "[ 13.74907063 161.25836431 239.28624535]\n",
      "[ 21.37958909 156.16335466 236.72751768]\n",
      "[ 19.09792086 157.29476861 237.50603622]\n",
      "[ 10.95648061 122.81456954 216.93188269]\n",
      "[  9.49555707 133.9644566  231.70266576]\n",
      "[ 14.60798362 125.30501535 211.73217332]\n",
      "[ 15.80107708 163.09155167 241.24402558]\n",
      "[ 22.13847584 159.16728625 233.62825279]\n",
      "[ 12.63043478 133.9168242  228.5831758 ]\n",
      "[ 18.06091846 147.90534208 234.18088097]\n",
      "[ 11.16862219 163.55782769 244.06838753]\n",
      "[ 13.91728625 164.20167286 239.46375465]\n",
      "[  8.41605839 136.31560653 238.3517553 ]\n",
      "[ 14.01481481 152.24259259 238.21944444]\n",
      "[ 11.46049966 167.2950709  245.16542876]\n",
      "[ 13.75532901 150.56719184 238.5755329 ]\n",
      "[ 11.0752587  117.64440263 204.19473189]\n",
      "[ 12.01033835 124.93890977 215.15601504]\n",
      "[ 10.96813496 120.6447985  212.84348641]\n",
      "[ 10.1700542  147.20630081 243.67920054]\n",
      "[ 13.83378747 132.52792916 224.32833787]\n",
      "[ 11.67157534 125.63835616 213.23630137]\n",
      "[ 10.08084239 154.90862772 244.94938859]\n",
      "[ 12.8600939  113.72300469 193.92488263]\n",
      "[  9.32276755 137.80129516 239.54976142]\n",
      "[  9.33991826 135.97343324 241.47752044]\n",
      "[ 10.76431925 116.43286385 207.56150235]\n",
      "[ 16.98011364 113.53219697 190.35606061]\n",
      "[ 11.16305819 164.58964817 244.97158322]\n",
      "[  9.29085967 146.66530751 244.36969079]\n",
      "[ 10.95871716 117.92255203 202.04912999]\n",
      "[ 11.31860902 114.03571429 196.53571429]\n",
      "[ 12.57655955 132.89697543 227.31096408]\n",
      "[ 16.99660672 147.9976247  237.30369868]\n",
      "[  9.33118644 144.44237288 243.73864407]\n",
      "[ 11.96795476 137.40339303 237.47785108]\n",
      "[ 20.87519501 182.20124805 236.34321373]\n",
      "[ 12.11460151 139.00058173 206.39790576]\n",
      "[ 10.82794457 133.03637413 202.99422633]\n",
      "[ 11.61981567 140.70334101 213.27822581]\n",
      "[ 15.10655271 189.67008547 243.28774929]\n",
      "[ 22.1607717  156.80546624 226.2266881 ]\n",
      "[ 24.06709265 145.36102236 207.95846645]\n",
      "[ 16.26963048 173.08371824 241.9948037 ]\n",
      "[ 14.2991404  186.60859599 243.65386819]\n",
      "[ 16.10610932 148.24437299 218.40192926]\n",
      "[ 23.73046252 154.92025518 223.42743222]\n",
      "[ 24.11734104 167.1849711  236.89479769]\n",
      "[ 25.53049482 168.80840046 237.06329114]\n",
      "[ 14.6649514  182.55917667 243.81818182]\n",
      "[ 13.2559727  168.76109215 241.53128555]\n",
      "[ 15.7744 154.9504 228.2944]\n",
      "[ 15.88676236 154.44816587 227.71132376]\n",
      "[ 16.670347   172.86435331 237.39589905]\n",
      "[ 15.5648 153.7088 227.5824]\n",
      "[ 10.57101617 133.75635104 204.95785219]\n",
      "[ 14.12718601 134.30047695 202.93481717]\n",
      "[ 18.77942857 172.86514286 240.05771429]\n",
      "[ 20.16267943 156.64433812 227.36842105]\n",
      "[ 19.26323988 191.30062305 238.23208723]\n",
      "[ 15.354531   148.77742448 219.24642289]\n",
      "[ 13.27926899 170.4614506  242.57966876]\n",
      "[ 13.99600912 185.80558723 243.25655644]\n"
     ]
    },
    {
     "ename": "KeyboardInterrupt",
     "evalue": "",
     "output_type": "error",
     "traceback": [
      "\u001b[1;31m---------------------------------------------------------------------------\u001b[0m",
      "\u001b[1;31mKeyboardInterrupt\u001b[0m                         Traceback (most recent call last)",
      "\u001b[1;32m<ipython-input-16-e13224b55fe5>\u001b[0m in \u001b[0;36m<module>\u001b[1;34m()\u001b[0m\n\u001b[0;32m      4\u001b[0m \u001b[1;33m\u001b[0m\u001b[0m\n\u001b[0;32m      5\u001b[0m \u001b[1;32mfor\u001b[0m \u001b[0mfile\u001b[0m \u001b[1;32min\u001b[0m \u001b[0mglob\u001b[0m\u001b[1;33m.\u001b[0m\u001b[0mglob\u001b[0m\u001b[1;33m(\u001b[0m\u001b[0mos\u001b[0m\u001b[1;33m.\u001b[0m\u001b[0mpath\u001b[0m\u001b[1;33m.\u001b[0m\u001b[0mjoin\u001b[0m\u001b[1;33m(\u001b[0m\u001b[0mdataset_path\u001b[0m\u001b[1;33m,\u001b[0m \u001b[1;34m'*.jpg'\u001b[0m\u001b[1;33m)\u001b[0m\u001b[1;33m)\u001b[0m\u001b[1;33m:\u001b[0m\u001b[1;33m\u001b[0m\u001b[0m\n\u001b[1;32m----> 6\u001b[1;33m     \u001b[0mrgb\u001b[0m \u001b[1;33m=\u001b[0m \u001b[0mhelpers\u001b[0m\u001b[1;33m.\u001b[0m\u001b[0mdominant_color\u001b[0m\u001b[1;33m(\u001b[0m\u001b[0mnp\u001b[0m\u001b[1;33m.\u001b[0m\u001b[0marray\u001b[0m\u001b[1;33m(\u001b[0m\u001b[0mImage\u001b[0m\u001b[1;33m.\u001b[0m\u001b[0mopen\u001b[0m\u001b[1;33m(\u001b[0m\u001b[0mfile\u001b[0m\u001b[1;33m)\u001b[0m\u001b[1;33m)\u001b[0m\u001b[1;33m)\u001b[0m\u001b[1;33m\u001b[0m\u001b[0m\n\u001b[0m\u001b[0;32m      7\u001b[0m     \u001b[0mprint\u001b[0m\u001b[1;33m(\u001b[0m\u001b[0mrgb\u001b[0m\u001b[1;33m)\u001b[0m\u001b[1;33m\u001b[0m\u001b[0m\n\u001b[0;32m      8\u001b[0m \u001b[1;33m\u001b[0m\u001b[0m\n",
      "\u001b[1;32m~\\PycharmProjects\\LEGO Vision\\Notebooks\\helpers.py\u001b[0m in \u001b[0;36mdominant_color\u001b[1;34m(image)\u001b[0m\n\u001b[0;32m     85\u001b[0m \u001b[1;32mdef\u001b[0m \u001b[0mdominant_color\u001b[0m\u001b[1;33m(\u001b[0m\u001b[0mimage\u001b[0m\u001b[1;33m)\u001b[0m\u001b[1;33m:\u001b[0m\u001b[1;33m\u001b[0m\u001b[0m\n\u001b[0;32m     86\u001b[0m     \u001b[0mcounter\u001b[0m \u001b[1;33m=\u001b[0m \u001b[0mCounter\u001b[0m\u001b[1;33m(\u001b[0m\u001b[1;33m)\u001b[0m\u001b[1;33m\u001b[0m\u001b[0m\n\u001b[1;32m---> 87\u001b[1;33m     \u001b[0mkmeans\u001b[0m \u001b[1;33m=\u001b[0m \u001b[0mquantize\u001b[0m\u001b[1;33m(\u001b[0m\u001b[0mnp\u001b[0m\u001b[1;33m.\u001b[0m\u001b[0masarray\u001b[0m\u001b[1;33m(\u001b[0m\u001b[0mimage\u001b[0m\u001b[1;33m)\u001b[0m\u001b[1;33m,\u001b[0m \u001b[1;36m3\u001b[0m\u001b[1;33m)\u001b[0m\u001b[1;33m\u001b[0m\u001b[0m\n\u001b[0m\u001b[0;32m     88\u001b[0m     \u001b[0monedar\u001b[0m \u001b[1;33m=\u001b[0m \u001b[1;33m[\u001b[0m\u001b[1;33m]\u001b[0m\u001b[1;33m\u001b[0m\u001b[0m\n\u001b[0;32m     89\u001b[0m     \u001b[1;32mfor\u001b[0m \u001b[0mrow\u001b[0m \u001b[1;32min\u001b[0m \u001b[0mkmeans\u001b[0m\u001b[1;33m:\u001b[0m\u001b[1;33m\u001b[0m\u001b[0m\n",
      "\u001b[1;32m~\\PycharmProjects\\LEGO Vision\\Notebooks\\helpers.py\u001b[0m in \u001b[0;36mquantize\u001b[1;34m(raster, n_colors)\u001b[0m\n\u001b[0;32m     99\u001b[0m \u001b[1;33m\u001b[0m\u001b[0m\n\u001b[0;32m    100\u001b[0m     \u001b[0mmodel\u001b[0m \u001b[1;33m=\u001b[0m \u001b[0mKMeans\u001b[0m\u001b[1;33m(\u001b[0m\u001b[0mn_clusters\u001b[0m\u001b[1;33m=\u001b[0m\u001b[0mn_colors\u001b[0m\u001b[1;33m)\u001b[0m\u001b[1;33m\u001b[0m\u001b[0m\n\u001b[1;32m--> 101\u001b[1;33m     \u001b[0mlabels\u001b[0m \u001b[1;33m=\u001b[0m \u001b[0mmodel\u001b[0m\u001b[1;33m.\u001b[0m\u001b[0mfit_predict\u001b[0m\u001b[1;33m(\u001b[0m\u001b[0mreshaped_raster\u001b[0m\u001b[1;33m)\u001b[0m\u001b[1;33m\u001b[0m\u001b[0m\n\u001b[0m\u001b[0;32m    102\u001b[0m     \u001b[0mpalette\u001b[0m \u001b[1;33m=\u001b[0m \u001b[0mmodel\u001b[0m\u001b[1;33m.\u001b[0m\u001b[0mcluster_centers_\u001b[0m\u001b[1;33m\u001b[0m\u001b[0m\n\u001b[0;32m    103\u001b[0m \u001b[1;33m\u001b[0m\u001b[0m\n",
      "\u001b[1;32mc:\\users\\thijs\\appdata\\local\\programs\\python\\python36\\lib\\site-packages\\sklearn\\cluster\\k_means_.py\u001b[0m in \u001b[0;36mfit_predict\u001b[1;34m(self, X, y, sample_weight)\u001b[0m\n\u001b[0;32m    992\u001b[0m             \u001b[0mIndex\u001b[0m \u001b[0mof\u001b[0m \u001b[0mthe\u001b[0m \u001b[0mcluster\u001b[0m \u001b[0meach\u001b[0m \u001b[0msample\u001b[0m \u001b[0mbelongs\u001b[0m \u001b[0mto\u001b[0m\u001b[1;33m.\u001b[0m\u001b[1;33m\u001b[0m\u001b[0m\n\u001b[0;32m    993\u001b[0m         \"\"\"\n\u001b[1;32m--> 994\u001b[1;33m         \u001b[1;32mreturn\u001b[0m \u001b[0mself\u001b[0m\u001b[1;33m.\u001b[0m\u001b[0mfit\u001b[0m\u001b[1;33m(\u001b[0m\u001b[0mX\u001b[0m\u001b[1;33m,\u001b[0m \u001b[0msample_weight\u001b[0m\u001b[1;33m=\u001b[0m\u001b[0msample_weight\u001b[0m\u001b[1;33m)\u001b[0m\u001b[1;33m.\u001b[0m\u001b[0mlabels_\u001b[0m\u001b[1;33m\u001b[0m\u001b[0m\n\u001b[0m\u001b[0;32m    995\u001b[0m \u001b[1;33m\u001b[0m\u001b[0m\n\u001b[0;32m    996\u001b[0m     \u001b[1;32mdef\u001b[0m \u001b[0mfit_transform\u001b[0m\u001b[1;33m(\u001b[0m\u001b[0mself\u001b[0m\u001b[1;33m,\u001b[0m \u001b[0mX\u001b[0m\u001b[1;33m,\u001b[0m \u001b[0my\u001b[0m\u001b[1;33m=\u001b[0m\u001b[1;32mNone\u001b[0m\u001b[1;33m,\u001b[0m \u001b[0msample_weight\u001b[0m\u001b[1;33m=\u001b[0m\u001b[1;32mNone\u001b[0m\u001b[1;33m)\u001b[0m\u001b[1;33m:\u001b[0m\u001b[1;33m\u001b[0m\u001b[0m\n",
      "\u001b[1;32mc:\\users\\thijs\\appdata\\local\\programs\\python\\python36\\lib\\site-packages\\sklearn\\cluster\\k_means_.py\u001b[0m in \u001b[0;36mfit\u001b[1;34m(self, X, y, sample_weight)\u001b[0m\n\u001b[0;32m    966\u001b[0m                 \u001b[0mtol\u001b[0m\u001b[1;33m=\u001b[0m\u001b[0mself\u001b[0m\u001b[1;33m.\u001b[0m\u001b[0mtol\u001b[0m\u001b[1;33m,\u001b[0m \u001b[0mrandom_state\u001b[0m\u001b[1;33m=\u001b[0m\u001b[0mrandom_state\u001b[0m\u001b[1;33m,\u001b[0m \u001b[0mcopy_x\u001b[0m\u001b[1;33m=\u001b[0m\u001b[0mself\u001b[0m\u001b[1;33m.\u001b[0m\u001b[0mcopy_x\u001b[0m\u001b[1;33m,\u001b[0m\u001b[1;33m\u001b[0m\u001b[0m\n\u001b[0;32m    967\u001b[0m                 \u001b[0mn_jobs\u001b[0m\u001b[1;33m=\u001b[0m\u001b[0mself\u001b[0m\u001b[1;33m.\u001b[0m\u001b[0mn_jobs\u001b[0m\u001b[1;33m,\u001b[0m \u001b[0malgorithm\u001b[0m\u001b[1;33m=\u001b[0m\u001b[0mself\u001b[0m\u001b[1;33m.\u001b[0m\u001b[0malgorithm\u001b[0m\u001b[1;33m,\u001b[0m\u001b[1;33m\u001b[0m\u001b[0m\n\u001b[1;32m--> 968\u001b[1;33m                 return_n_iter=True)\n\u001b[0m\u001b[0;32m    969\u001b[0m         \u001b[1;32mreturn\u001b[0m \u001b[0mself\u001b[0m\u001b[1;33m\u001b[0m\u001b[0m\n\u001b[0;32m    970\u001b[0m \u001b[1;33m\u001b[0m\u001b[0m\n",
      "\u001b[1;32mc:\\users\\thijs\\appdata\\local\\programs\\python\\python36\\lib\\site-packages\\sklearn\\cluster\\k_means_.py\u001b[0m in \u001b[0;36mk_means\u001b[1;34m(X, n_clusters, sample_weight, init, precompute_distances, n_init, max_iter, verbose, tol, random_state, copy_x, n_jobs, algorithm, return_n_iter)\u001b[0m\n\u001b[0;32m    378\u001b[0m                 \u001b[0mverbose\u001b[0m\u001b[1;33m=\u001b[0m\u001b[0mverbose\u001b[0m\u001b[1;33m,\u001b[0m \u001b[0mprecompute_distances\u001b[0m\u001b[1;33m=\u001b[0m\u001b[0mprecompute_distances\u001b[0m\u001b[1;33m,\u001b[0m\u001b[1;33m\u001b[0m\u001b[0m\n\u001b[0;32m    379\u001b[0m                 \u001b[0mtol\u001b[0m\u001b[1;33m=\u001b[0m\u001b[0mtol\u001b[0m\u001b[1;33m,\u001b[0m \u001b[0mx_squared_norms\u001b[0m\u001b[1;33m=\u001b[0m\u001b[0mx_squared_norms\u001b[0m\u001b[1;33m,\u001b[0m\u001b[1;33m\u001b[0m\u001b[0m\n\u001b[1;32m--> 380\u001b[1;33m                 random_state=random_state)\n\u001b[0m\u001b[0;32m    381\u001b[0m             \u001b[1;31m# determine if these results are the best so far\u001b[0m\u001b[1;33m\u001b[0m\u001b[1;33m\u001b[0m\u001b[0m\n\u001b[0;32m    382\u001b[0m             \u001b[1;32mif\u001b[0m \u001b[0mbest_inertia\u001b[0m \u001b[1;32mis\u001b[0m \u001b[1;32mNone\u001b[0m \u001b[1;32mor\u001b[0m \u001b[0minertia\u001b[0m \u001b[1;33m<\u001b[0m \u001b[0mbest_inertia\u001b[0m\u001b[1;33m:\u001b[0m\u001b[1;33m\u001b[0m\u001b[0m\n",
      "\u001b[1;32mc:\\users\\thijs\\appdata\\local\\programs\\python\\python36\\lib\\site-packages\\sklearn\\cluster\\k_means_.py\u001b[0m in \u001b[0;36m_kmeans_single_elkan\u001b[1;34m(X, sample_weight, n_clusters, max_iter, init, verbose, x_squared_norms, random_state, tol, precompute_distances)\u001b[0m\n\u001b[0;32m    444\u001b[0m                                             max_iter=max_iter, verbose=verbose)\n\u001b[0;32m    445\u001b[0m     \u001b[1;32mif\u001b[0m \u001b[0msample_weight\u001b[0m \u001b[1;32mis\u001b[0m \u001b[1;32mNone\u001b[0m\u001b[1;33m:\u001b[0m\u001b[1;33m\u001b[0m\u001b[0m\n\u001b[1;32m--> 446\u001b[1;33m         \u001b[0minertia\u001b[0m \u001b[1;33m=\u001b[0m \u001b[0mnp\u001b[0m\u001b[1;33m.\u001b[0m\u001b[0msum\u001b[0m\u001b[1;33m(\u001b[0m\u001b[1;33m(\u001b[0m\u001b[0mX\u001b[0m \u001b[1;33m-\u001b[0m \u001b[0mcenters\u001b[0m\u001b[1;33m[\u001b[0m\u001b[0mlabels\u001b[0m\u001b[1;33m]\u001b[0m\u001b[1;33m)\u001b[0m \u001b[1;33m**\u001b[0m \u001b[1;36m2\u001b[0m\u001b[1;33m,\u001b[0m \u001b[0mdtype\u001b[0m\u001b[1;33m=\u001b[0m\u001b[0mnp\u001b[0m\u001b[1;33m.\u001b[0m\u001b[0mfloat64\u001b[0m\u001b[1;33m)\u001b[0m\u001b[1;33m\u001b[0m\u001b[0m\n\u001b[0m\u001b[0;32m    447\u001b[0m     \u001b[1;32melse\u001b[0m\u001b[1;33m:\u001b[0m\u001b[1;33m\u001b[0m\u001b[0m\n\u001b[0;32m    448\u001b[0m         sq_distances = np.sum((X - centers[labels]) ** 2, axis=1,\n",
      "\u001b[1;31mKeyboardInterrupt\u001b[0m: "
     ]
    }
   ],
   "source": [
    "import glob, os\n",
    "from PIL import Image\n",
    "dataset_path = r\"C:\\Users\\Thijs\\Google Drive\\LEGO Vision\\Natuurlijke data\\2458-blue\"\n",
    "\n",
    "total = np.array()\n",
    "for file in glob.glob(os.path.join(dataset_path, '*.jpg')):\n",
    "    rgb = helpers.dominant_color(np.array(Image.open(file)))\n",
    "    print(rgb)\n",
    "    "
   ]
  },
  {
   "cell_type": "code",
   "execution_count": 12,
   "metadata": {},
   "outputs": [
    {
     "name": "stdout",
     "output_type": "stream",
     "text": [
      "[[0.16862745 0.16862745 0.16862745 ... 0.15686275 0.15686275 0.15686275]\n",
      " [0.16862745 0.16862745 0.16862745 ... 0.15686275 0.15686275 0.15686275]\n",
      " [0.16862745 0.16862745 0.16862745 ... 0.15686275 0.15686275 0.15686275]\n",
      " ...\n",
      " [0.29411765 0.29411765 0.29411765 ... 0.29411765 0.29411765 0.29411765]\n",
      " [0.29803922 0.29803922 0.29803922 ... 0.29411765 0.29411765 0.29411765]\n",
      " [0.29803922 0.29803922 0.29803922 ... 0.29411765 0.29411765 0.29411765]]\n"
     ]
    },
    {
     "data": {
      "image/png": "[encoded data removed]",
      "text/plain": [
       "<Figure size 432x288 with 1 Axes>"
      ]
     },
     "metadata": {},
     "output_type": "display_data"
    }
   ],
   "source": [
    "%matplotlib inline\n",
    "\n",
    "from PIL import Image, ImageOps\n",
    "import matplotlib.pyplot as plt\n",
    "import numpy as np\n",
    "import sys\n",
    "\n",
    "image = Image.open(r\"D:\\LEGO Vision Datasets\\classification-natural-data\\2458-blue\\Original Photos_original_Original Photos_original_IMG_20181023_173441.jpg_d31b79b8-eaaf-48de-a1f5-98daa98faf42.jpg_1cf145cc-f6f4-4563-8e6b-1bff2066ab40.jpg\").convert(\"L\")\n",
    "image = ImageOps.invert(image)\n",
    "plt.imshow(image)\n",
    "print(np.asarray(image) / 255.)"
   ]
  }
 ],
 "metadata": {
  "kernelspec": {
   "display_name": "Python 3",
   "language": "python",
   "name": "python3"
  },
  "language_info": {
   "codemirror_mode": {
    "name": "ipython",
    "version": 3
   },
   "file_extension": ".py",
   "mimetype": "text/x-python",
   "name": "python",
   "nbconvert_exporter": "python",
   "pygments_lexer": "ipython3",
   "version": "3.6.4"
  }
 },
 "nbformat": 4,
 "nbformat_minor": 2
}
