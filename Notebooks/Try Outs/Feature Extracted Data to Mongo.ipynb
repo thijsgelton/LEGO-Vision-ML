{
 "cells": [
  {
   "cell_type": "code",
   "execution_count": 1,
   "metadata": {},
   "outputs": [],
   "source": [
    "import argparse\n",
    "import os\n",
    "import numpy as np\n",
    "import time\n",
    "import csv\n",
    "import sklearn\n",
    "from datetime import datetime\n",
    "from sklearn import preprocessing\n",
    "from skimage.color import rgb2gray\n",
    "from sklearn import svm\n",
    "from sklearn.metrics import accuracy_score, fbeta_score\n",
    "from sklearn.model_selection import train_test_split, KFold\n",
    "from sklearn.naive_bayes import GaussianNB, MultinomialNB, BernoulliNB\n",
    "from sklearn.externals import joblib\n",
    "from sklearn.utils import shuffle\n",
    "from pymongo import MongoClient\n",
    "import helpers\n",
    "\n",
    "from azureml.core.run import Run"
   ]
  },
  {
   "cell_type": "code",
   "execution_count": 2,
   "metadata": {},
   "outputs": [],
   "source": [
    "def get_data(data_dir, number_of_samples, shape, color_insensitive):\n",
    "    if color_insensitive:\n",
    "        converter = lambda x: 1 - rgb2gray(x)  # inverting the image makes it process faster\n",
    "    else:\n",
    "        converter = None\n",
    "    X, y = helpers.images_to_dataset(dataset_path=data_dir,\n",
    "                                     shape=shape,\n",
    "                                     smoothing=0.1,\n",
    "                                     denoising=0.0,\n",
    "                                     with_hog_attached=True,\n",
    "                                     with_dominant_color_attached=True,\n",
    "                                     pixels_per_cell=(shape[0] / 8, shape[0] / 8),\n",
    "                                     cells_per_block=(8, 8),\n",
    "                                     orientations=9,\n",
    "                                     samples=number_of_samples,\n",
    "                                     converter=converter,\n",
    "                                     debug=False)\n",
    "    X = preprocessing.scale(X, with_mean=False)\n",
    "    return X, y"
   ]
  },
  {
   "cell_type": "code",
   "execution_count": 11,
   "metadata": {},
   "outputs": [
    {
     "ename": "BulkWriteError",
     "evalue": "batch op errors occurred",
     "traceback": [
      "\u001b[1;31m---------------------------------------------------------------------------\u001b[0m",
      "\u001b[1;31mBulkWriteError\u001b[0m                            Traceback (most recent call last)",
      "\u001b[1;32m<ipython-input-11-db4b84dfec71>\u001b[0m in \u001b[0;36m<module>\u001b[1;34m()\u001b[0m\n\u001b[0;32m     18\u001b[0m                 natural_data.insert_many(documents=[\n\u001b[0;32m     19\u001b[0m                     dict(_id=hash(an_X.tostring()), features=an_X.tolist(), label=an_y, shape=shape[0],\n\u001b[1;32m---> 20\u001b[1;33m                          color=True if color_insensitive else False) for an_X, an_y in zip(X, y)])\n\u001b[0m",
      "\u001b[1;32mc:\\users\\thijs\\appdata\\local\\programs\\python\\python36\\lib\\site-packages\\pymongo\\collection.py\u001b[0m in \u001b[0;36minsert_many\u001b[1;34m(self, documents, ordered, bypass_document_validation)\u001b[0m\n\u001b[0;32m    682\u001b[0m         \u001b[0mblk\u001b[0m \u001b[1;33m=\u001b[0m \u001b[0m_Bulk\u001b[0m\u001b[1;33m(\u001b[0m\u001b[0mself\u001b[0m\u001b[1;33m,\u001b[0m \u001b[0mordered\u001b[0m\u001b[1;33m,\u001b[0m \u001b[0mbypass_document_validation\u001b[0m\u001b[1;33m)\u001b[0m\u001b[1;33m\u001b[0m\u001b[0m\n\u001b[0;32m    683\u001b[0m         \u001b[0mblk\u001b[0m\u001b[1;33m.\u001b[0m\u001b[0mops\u001b[0m \u001b[1;33m=\u001b[0m \u001b[1;33m[\u001b[0m\u001b[0mdoc\u001b[0m \u001b[1;32mfor\u001b[0m \u001b[0mdoc\u001b[0m \u001b[1;32min\u001b[0m \u001b[0mgen\u001b[0m\u001b[1;33m(\u001b[0m\u001b[1;33m)\u001b[0m\u001b[1;33m]\u001b[0m\u001b[1;33m\u001b[0m\u001b[0m\n\u001b[1;32m--> 684\u001b[1;33m         \u001b[0mblk\u001b[0m\u001b[1;33m.\u001b[0m\u001b[0mexecute\u001b[0m\u001b[1;33m(\u001b[0m\u001b[0mself\u001b[0m\u001b[1;33m.\u001b[0m\u001b[0mwrite_concern\u001b[0m\u001b[1;33m.\u001b[0m\u001b[0mdocument\u001b[0m\u001b[1;33m)\u001b[0m\u001b[1;33m\u001b[0m\u001b[0m\n\u001b[0m\u001b[0;32m    685\u001b[0m         \u001b[1;32mreturn\u001b[0m \u001b[0mInsertManyResult\u001b[0m\u001b[1;33m(\u001b[0m\u001b[0minserted_ids\u001b[0m\u001b[1;33m,\u001b[0m \u001b[0mself\u001b[0m\u001b[1;33m.\u001b[0m\u001b[0mwrite_concern\u001b[0m\u001b[1;33m.\u001b[0m\u001b[0macknowledged\u001b[0m\u001b[1;33m)\u001b[0m\u001b[1;33m\u001b[0m\u001b[0m\n\u001b[0;32m    686\u001b[0m \u001b[1;33m\u001b[0m\u001b[0m\n",
      "\u001b[1;32mc:\\users\\thijs\\appdata\\local\\programs\\python\\python36\\lib\\site-packages\\pymongo\\bulk.py\u001b[0m in \u001b[0;36mexecute\u001b[1;34m(self, write_concern)\u001b[0m\n\u001b[0;32m    468\u001b[0m                 \u001b[0mself\u001b[0m\u001b[1;33m.\u001b[0m\u001b[0mexecute_no_results\u001b[0m\u001b[1;33m(\u001b[0m\u001b[0msock_info\u001b[0m\u001b[1;33m,\u001b[0m \u001b[0mgenerator\u001b[0m\u001b[1;33m)\u001b[0m\u001b[1;33m\u001b[0m\u001b[0m\n\u001b[0;32m    469\u001b[0m             \u001b[1;32melif\u001b[0m \u001b[0msock_info\u001b[0m\u001b[1;33m.\u001b[0m\u001b[0mmax_wire_version\u001b[0m \u001b[1;33m>\u001b[0m \u001b[1;36m1\u001b[0m\u001b[1;33m:\u001b[0m\u001b[1;33m\u001b[0m\u001b[0m\n\u001b[1;32m--> 470\u001b[1;33m                 \u001b[1;32mreturn\u001b[0m \u001b[0mself\u001b[0m\u001b[1;33m.\u001b[0m\u001b[0mexecute_command\u001b[0m\u001b[1;33m(\u001b[0m\u001b[0msock_info\u001b[0m\u001b[1;33m,\u001b[0m \u001b[0mgenerator\u001b[0m\u001b[1;33m,\u001b[0m \u001b[0mwrite_concern\u001b[0m\u001b[1;33m)\u001b[0m\u001b[1;33m\u001b[0m\u001b[0m\n\u001b[0m\u001b[0;32m    471\u001b[0m             \u001b[1;32melse\u001b[0m\u001b[1;33m:\u001b[0m\u001b[1;33m\u001b[0m\u001b[0m\n\u001b[0;32m    472\u001b[0m                 \u001b[1;32mreturn\u001b[0m \u001b[0mself\u001b[0m\u001b[1;33m.\u001b[0m\u001b[0mexecute_legacy\u001b[0m\u001b[1;33m(\u001b[0m\u001b[0msock_info\u001b[0m\u001b[1;33m,\u001b[0m \u001b[0mgenerator\u001b[0m\u001b[1;33m,\u001b[0m \u001b[0mwrite_concern\u001b[0m\u001b[1;33m)\u001b[0m\u001b[1;33m\u001b[0m\u001b[0m\n",
      "\u001b[1;32mc:\\users\\thijs\\appdata\\local\\programs\\python\\python36\\lib\\site-packages\\pymongo\\bulk.py\u001b[0m in \u001b[0;36mexecute_command\u001b[1;34m(self, sock_info, generator, write_concern)\u001b[0m\n\u001b[0;32m    312\u001b[0m                 full_result['writeErrors'].sort(\n\u001b[0;32m    313\u001b[0m                     key=lambda error: error['index'])\n\u001b[1;32m--> 314\u001b[1;33m             \u001b[1;32mraise\u001b[0m \u001b[0mBulkWriteError\u001b[0m\u001b[1;33m(\u001b[0m\u001b[0mfull_result\u001b[0m\u001b[1;33m)\u001b[0m\u001b[1;33m\u001b[0m\u001b[0m\n\u001b[0m\u001b[0;32m    315\u001b[0m         \u001b[1;32mreturn\u001b[0m \u001b[0mfull_result\u001b[0m\u001b[1;33m\u001b[0m\u001b[0m\n\u001b[0;32m    316\u001b[0m \u001b[1;33m\u001b[0m\u001b[0m\n",
      "\u001b[1;31mBulkWriteError\u001b[0m: batch op errors occurred"
     ],
     "output_type": "error"
    }
   ],
   "source": [
    "client = MongoClient(host=\"localhost\", port=27017)\n",
    "natural_data = client.get_database(\"lego_vision\").get_collection(\"natural_data_hog_dom\")\n",
    "synthetic_data = client.get_database(\"lego_vision\").get_collection(\"synthetic_data_hog_dom\")\n",
    "for data_dir, is_syn in [(\"D:\\LEGO Vision Datasets\\classification-natural-data\", False),\n",
    "                         (\"D:\\LEGO Vision Datasets\\classification-synthetic-data\", True)]:\n",
    "    for shape in ['32', '64', '128', '256']:\n",
    "        shape = (int(shape), int(shape))\n",
    "        for color_insensitive in [0, 1]:\n",
    "            if is_syn:\n",
    "                X, y = get_data(data_dir, 3200, shape, color_insensitive)\n",
    "                synthetic_data.insert_many(documents=[\n",
    "                    dict(_id=hash(an_X.tostring()), features=an_X.tolist(), label=an_y, shape=shape[0],\n",
    "                         color=True if color_insensitive else False) for an_X, an_y in zip(X, y)])\n",
    "            else:\n",
    "                X, y = get_data(data_dir, 3200, shape, color_insensitive)      \n",
    "                natural_data.insert_many(documents=[\n",
    "                    dict(_id=hash(an_X.tostring()), features=an_X.tolist(), label=an_y, shape=shape[0],\n",
    "                         color=True if color_insensitive else False) for an_X, an_y in zip(X, y)])"
   ]
  },
  {
   "cell_type": "code",
   "execution_count": null,
   "metadata": {},
   "outputs": [],
   "source": []
  }
 ],
 "metadata": {
  "kernelspec": {
   "display_name": "Python 3",
   "language": "python",
   "name": "python3"
  },
  "language_info": {
   "codemirror_mode": {
    "name": "ipython",
    "version": 3
   },
   "file_extension": ".py",
   "mimetype": "text/x-python",
   "name": "python",
   "nbconvert_exporter": "python",
   "pygments_lexer": "ipython3",
   "version": "3.6.4"
  }
 },
 "nbformat": 4,
 "nbformat_minor": 2
}
