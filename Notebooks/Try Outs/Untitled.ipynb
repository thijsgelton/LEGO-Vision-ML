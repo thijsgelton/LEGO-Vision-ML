{
 "cells": [
  {
   "cell_type": "code",
   "execution_count": 3,
   "metadata": {},
   "outputs": [],
   "source": [
    "from __future__ import division\n",
    "from numpy import array, zeros\n",
    "from PIL import Image\n",
    "from matplotlib.pyplot import imshow, show, subplot, figure, gray, title, axis\n",
    "\n",
    "def maximum(det, phase):\n",
    "  gmax = zeros(det.shape)\n",
    "  for i in xrange(gmax.shape[0]):\n",
    "    for j in xrange(gmax.shape[1]):\n",
    "      if phase[i][j] < 0:\n",
    "        phase[i][j] += 360\n",
    "\n",
    "      if ((j+1) < gmax.shape[1]) and ((j-1) >= 0) and ((i+1) < gmax.shape[0]) and ((i-1) >= 0):\n",
    "        # 0 degrees\n",
    "        if (phase[i][j] >= 337.5 or phase[i][j] < 22.5) or (phase[i][j] >= 157.5 and phase[i][j] < 202.5):\n",
    "          if det[i][j] >= det[i][j + 1] and det[i][j] >= det[i][j - 1]:\n",
    "            gmax[i][j] = det[i][j]\n",
    "        # 45 degrees\n",
    "        if (phase[i][j] >= 22.5 and phase[i][j] < 67.5) or (phase[i][j] >= 202.5 and phase[i][j] < 247.5):\n",
    "          if det[i][j] >= det[i - 1][j + 1] and det[i][j] >= det[i + 1][j - 1]:\n",
    "            gmax[i][j] = det[i][j]\n",
    "        # 90 degrees\n",
    "        if (phase[i][j] >= 67.5 and phase[i][j] < 112.5) or (phase[i][j] >= 247.5 and phase[i][j] < 292.5):\n",
    "          if det[i][j] >= det[i - 1][j] and det[i][j] >= det[i + 1][j]:\n",
    "            gmax[i][j] = det[i][j]\n",
    "        # 135 degrees\n",
    "        if (phase[i][j] >= 112.5 and phase[i][j] < 157.5) or (phase[i][j] >= 292.5 and phase[i][j] < 337.5):\n",
    "          if det[i][j] >= det[i - 1][j - 1] and det[i][j] >= det[i + 1][j + 1]:\n",
    "            gmax[i][j] = det[i][j]\n",
    "  return gmax"
   ]
  },
  {
   "cell_type": "code",
   "execution_count": 4,
   "metadata": {},
   "outputs": [
    {
     "ename": "NameError",
     "evalue": "name 'gaussian' is not defined",
     "output_type": "error",
     "traceback": [
      "\u001b[1;31m---------------------------------------------------------------------------\u001b[0m",
      "\u001b[1;31mNameError\u001b[0m                                 Traceback (most recent call last)",
      "\u001b[1;32m<ipython-input-4-497df2291c84>\u001b[0m in \u001b[0;36m<module>\u001b[1;34m()\u001b[0m\n\u001b[0;32m      3\u001b[0m \u001b[0mim\u001b[0m \u001b[1;33m=\u001b[0m \u001b[0mcv2\u001b[0m\u001b[1;33m.\u001b[0m\u001b[0mimread\u001b[0m\u001b[1;33m(\u001b[0m\u001b[1;34mr\"D:\\LEGO Vision Datasets\\Detection\\Faster R-CNN\\Natural Data_output 350 samples\\positive\\IMG_20181031_112940_yUb7BpxHPh.jpg\"\u001b[0m\u001b[1;33m)\u001b[0m\u001b[1;33m\u001b[0m\u001b[0m\n\u001b[0;32m      4\u001b[0m \u001b[0mim\u001b[0m \u001b[1;33m=\u001b[0m \u001b[0mim\u001b[0m\u001b[1;33m[\u001b[0m\u001b[1;33m:\u001b[0m\u001b[1;33m,\u001b[0m \u001b[1;33m:\u001b[0m\u001b[1;33m,\u001b[0m \u001b[1;36m0\u001b[0m\u001b[1;33m]\u001b[0m\u001b[1;33m\u001b[0m\u001b[0m\n\u001b[1;32m----> 5\u001b[1;33m \u001b[0mgim\u001b[0m \u001b[1;33m=\u001b[0m \u001b[0mgaussian\u001b[0m\u001b[1;33m(\u001b[0m\u001b[0mim\u001b[0m\u001b[1;33m)\u001b[0m\u001b[1;33m\u001b[0m\u001b[0m\n\u001b[0m\u001b[0;32m      6\u001b[0m \u001b[0mgrim\u001b[0m\u001b[1;33m,\u001b[0m \u001b[0mgphase\u001b[0m \u001b[1;33m=\u001b[0m \u001b[0mgradient\u001b[0m\u001b[1;33m(\u001b[0m\u001b[0mgim\u001b[0m\u001b[1;33m)\u001b[0m\u001b[1;33m\u001b[0m\u001b[0m\n\u001b[0;32m      7\u001b[0m \u001b[0mgmax\u001b[0m \u001b[1;33m=\u001b[0m \u001b[0mmaximum\u001b[0m\u001b[1;33m(\u001b[0m\u001b[0mgrim\u001b[0m\u001b[1;33m,\u001b[0m \u001b[0mgphase\u001b[0m\u001b[1;33m)\u001b[0m\u001b[1;33m\u001b[0m\u001b[0m\n",
      "\u001b[1;31mNameError\u001b[0m: name 'gaussian' is not defined"
     ]
    }
   ],
   "source": [
    "from sys import argv\n",
    "import cv2\n",
    "im = cv2.imread(r\"D:\\LEGO Vision Datasets\\Detection\\Faster R-CNN\\Natural Data_output 350 samples\\positive\\IMG_20181031_112940_yUb7BpxHPh.jpg\")\n",
    "im = im[:, :, 0]\n",
    "gim = gaussian(im)\n",
    "grim, gphase = gradient(gim)\n",
    "gmax = maximum(grim, gphase)\n",
    "\n",
    "gray()\n",
    "\n",
    "subplot(2, 2, 1)\n",
    "imshow(im)\n",
    "axis('off')\n",
    "title('Original')\n",
    "\n",
    "subplot(2, 2, 4)\n",
    "imshow(gmax)\n",
    "axis('off')\n",
    "title('Non-Maximum suppression')\n",
    "\n",
    "show()"
   ]
  }
 ],
 "metadata": {
  "kernelspec": {
   "display_name": "Python 3",
   "language": "python",
   "name": "python3"
  },
  "language_info": {
   "codemirror_mode": {
    "name": "ipython",
    "version": 3
   },
   "file_extension": ".py",
   "mimetype": "text/x-python",
   "name": "python",
   "nbconvert_exporter": "python",
   "pygments_lexer": "ipython3",
   "version": "3.6.4"
  }
 },
 "nbformat": 4,
 "nbformat_minor": 2
}
