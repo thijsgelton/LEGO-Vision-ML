{
 "cells": [
  {
   "cell_type": "code",
   "execution_count": 3,
   "metadata": {},
   "outputs": [],
   "source": [
    "import os, glob"
   ]
  },
  {
   "cell_type": "code",
   "execution_count": 5,
   "metadata": {},
   "outputs": [],
   "source": [
    "base_directory = r\"D:\\LEGO Vision Datasets\\detection-synthetic-data\""
   ]
  },
  {
   "cell_type": "code",
   "execution_count": 13,
   "metadata": {},
   "outputs": [],
   "source": [
    "def correct_line(line):\n",
    "    x, y, w, h = [int(number.strip('\\n')) for number in line.split('\\t')]\n",
    "    return ''.join([str(x), '\\t', str(y), '\\t', str(x+w), '\\t', str(y+h), '\\n'])"
   ]
  },
  {
   "cell_type": "code",
   "execution_count": 16,
   "metadata": {},
   "outputs": [
    {
     "name": "stdout",
     "output_type": "stream",
     "text": [
      "['412\\t452\\t94\\t116\\n', '631\\t832\\t130\\t131\\n', '674\\t237\\t148\\t211\\n', '187\\t348\\t79\\t109\\n', '89\\t597\\t153\\t97\\n', '728\\t673\\t173\\t166\\n', '438\\t94\\t153\\t145\\n']\n",
      "['458\\t473\\t118\\t101\\n', '57\\t544\\t108\\t113\\n', '527\\t630\\t205\\t128\\n', '573\\t107\\t108\\t115\\n', '284\\t87\\t112\\t110\\n', '109\\t636\\t178\\t160\\n', '768\\t431\\t150\\t150\\n']\n",
      "['493\\t488\\t98\\t99\\n', '101\\t252\\t103\\t102\\n', '338\\t719\\t205\\t202\\n', '850\\t390\\t120\\t117\\n', '528\\t39\\t156\\t118\\n', '0\\t445\\t196\\t92\\n', '558\\t713\\t146\\t154\\n']\n",
      "['494\\t560\\t111\\t96\\n', '783\\t591\\t128\\t126\\n', '490\\t124\\t213\\t164\\n', '172\\t623\\t105\\t72\\n', '379\\t929\\t154\\t78\\n', '715\\t403\\t196\\t69\\n', '216\\t261\\t148\\t152\\n']\n"
     ]
    }
   ],
   "source": [
    "for bounding_box_file in glob.glob(os.path.join(base_directory, \"testImages\", \"*.bboxes.tsv\")):\n",
    "    corrected_lines = []\n",
    "    with open(bounding_box_file) as bboxes:\n",
    "        lines = bboxes.readlines()\n",
    "        print(lines)\n",
    "        for line in lines:\n",
    "            corrected_lines.append(correct_line(line))\n",
    "    with open(bounding_box_file, 'w') as bboxes:\n",
    "        bboxes.writelines(corrected_lines)\n",
    "    "
   ]
  }
 ],
 "metadata": {
  "kernelspec": {
   "display_name": "Python 3",
   "language": "python",
   "name": "python3"
  },
  "language_info": {
   "codemirror_mode": {
    "name": "ipython",
    "version": 3
   },
   "file_extension": ".py",
   "mimetype": "text/x-python",
   "name": "python",
   "nbconvert_exporter": "python",
   "pygments_lexer": "ipython3",
   "version": "3.6.4"
  }
 },
 "nbformat": 4,
 "nbformat_minor": 2
}
