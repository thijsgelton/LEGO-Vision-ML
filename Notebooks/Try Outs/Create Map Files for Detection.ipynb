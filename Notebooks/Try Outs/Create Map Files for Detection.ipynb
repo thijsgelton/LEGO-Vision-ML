{
 "cells": [
  {
   "cell_type": "code",
   "execution_count": 16,
   "metadata": {},
   "outputs": [],
   "source": [
    "import sys\n",
    "\n",
    "sys.path.append(r\"C:\\Users\\Thijs\\CNTK-Samples\\Examples\\Image\\Detection\\utils\\annotations\")"
   ]
  },
  {
   "cell_type": "code",
   "execution_count": 20,
   "metadata": {},
   "outputs": [],
   "source": [
    "base_directory = r\"D:\\LEGO Vision Datasets\\Localization\\Synthetic Data\""
   ]
  },
  {
   "cell_type": "code",
   "execution_count": 21,
   "metadata": {},
   "outputs": [],
   "source": [
    "from annotations_helper import create_class_dict, create_map_files\n",
    "\n",
    "class_dict = create_class_dict(base_directory)\n",
    "create_map_files(base_directory, class_dict, training_set=True)\n",
    "create_map_files(base_directory, class_dict, training_set=False)"
   ]
  }
 ],
 "metadata": {
  "kernelspec": {
   "display_name": "Python 3",
   "language": "python",
   "name": "python3"
  },
  "language_info": {
   "codemirror_mode": {
    "name": "ipython",
    "version": 3
   },
   "file_extension": ".py",
   "mimetype": "text/x-python",
   "name": "python",
   "nbconvert_exporter": "python",
   "pygments_lexer": "ipython3",
   "version": "3.6.4"
  }
 },
 "nbformat": 4,
 "nbformat_minor": 2
}
