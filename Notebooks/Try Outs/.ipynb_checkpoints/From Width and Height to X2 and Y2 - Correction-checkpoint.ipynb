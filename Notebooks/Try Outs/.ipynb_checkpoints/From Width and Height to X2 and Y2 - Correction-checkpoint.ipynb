{
 "cells": [
  {
   "cell_type": "code",
   "execution_count": 3,
   "metadata": {},
   "outputs": [],
   "source": [
    "import os, glob"
   ]
  },
  {
   "cell_type": "code",
   "execution_count": 5,
   "metadata": {},
   "outputs": [],
   "source": [
    "base_directory = r\"D:\\LEGO Vision Datasets\\detection-synthetic-data\""
   ]
  },
  {
   "cell_type": "code",
   "execution_count": 7,
   "metadata": {},
   "outputs": [],
   "source": [
    "def correct_line(line):\n",
    "    x, y, w, h = [int(number.split('\\n')) for number in line.split('\\t')]\n",
    "    return ''.join(x, '\\t', y, '\\t', x+w, '\\t', y+h, '\\n')"
   ]
  },
  {
   "cell_type": "code",
   "execution_count": 6,
   "metadata": {},
   "outputs": [
    {
     "name": "stdout",
     "output_type": "stream",
     "text": [
      "D:\\LEGO Vision Datasets\\detection-synthetic-data\\positive\\0.bboxes.tsv\n",
      "D:\\LEGO Vision Datasets\\detection-synthetic-data\\positive\\1.bboxes.tsv\n",
      "D:\\LEGO Vision Datasets\\detection-synthetic-data\\positive\\10.bboxes.tsv\n",
      "D:\\LEGO Vision Datasets\\detection-synthetic-data\\positive\\11.bboxes.tsv\n",
      "D:\\LEGO Vision Datasets\\detection-synthetic-data\\positive\\12.bboxes.tsv\n",
      "D:\\LEGO Vision Datasets\\detection-synthetic-data\\positive\\13.bboxes.tsv\n",
      "D:\\LEGO Vision Datasets\\detection-synthetic-data\\positive\\14.bboxes.tsv\n",
      "D:\\LEGO Vision Datasets\\detection-synthetic-data\\positive\\15.bboxes.tsv\n",
      "D:\\LEGO Vision Datasets\\detection-synthetic-data\\positive\\2.bboxes.tsv\n",
      "D:\\LEGO Vision Datasets\\detection-synthetic-data\\positive\\3.bboxes.tsv\n",
      "D:\\LEGO Vision Datasets\\detection-synthetic-data\\positive\\4.bboxes.tsv\n",
      "D:\\LEGO Vision Datasets\\detection-synthetic-data\\positive\\5.bboxes.tsv\n",
      "D:\\LEGO Vision Datasets\\detection-synthetic-data\\positive\\6.bboxes.tsv\n",
      "D:\\LEGO Vision Datasets\\detection-synthetic-data\\positive\\7.bboxes.tsv\n",
      "D:\\LEGO Vision Datasets\\detection-synthetic-data\\positive\\8.bboxes.tsv\n",
      "D:\\LEGO Vision Datasets\\detection-synthetic-data\\positive\\9.bboxes.tsv\n"
     ]
    }
   ],
   "source": [
    "for bounding_box_file in glob.glob(os.path.join(base_directory, \"positive\", \"*.bboxes.tsv\")):\n",
    "    corrected_lines = []\n",
    "    with open(bounding_box_file) as bboxes:\n",
    "        print(bboxes.readlines())\n",
    "        for line in bboxes.readlines():\n",
    "            corrected_lines.append(correct_line(line))\n",
    "    print(corrected_lines)\n",
    "    "
   ]
  }
 ],
 "metadata": {
  "kernelspec": {
   "display_name": "Python 3",
   "language": "python",
   "name": "python3"
  },
  "language_info": {
   "codemirror_mode": {
    "name": "ipython",
    "version": 3
   },
   "file_extension": ".py",
   "mimetype": "text/x-python",
   "name": "python",
   "nbconvert_exporter": "python",
   "pygments_lexer": "ipython3",
   "version": "3.6.4"
  }
 },
 "nbformat": 4,
 "nbformat_minor": 2
}
