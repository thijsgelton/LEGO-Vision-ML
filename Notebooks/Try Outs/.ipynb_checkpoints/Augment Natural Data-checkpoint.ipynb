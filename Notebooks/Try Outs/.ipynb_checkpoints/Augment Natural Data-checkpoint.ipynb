{
 "cells": [
  {
   "cell_type": "code",
   "execution_count": 60,
   "metadata": {
    "scrolled": true
   },
   "outputs": [
    {
     "name": "stdout",
     "output_type": "stream",
     "text": [
      "Initialised with 11 image(s) found.\n",
      "Output directory set to D:\\LEGO Vision Datasets\\classification-natural-data\\2458-blue\\Original Photos\\..."
     ]
    },
    {
     "name": "stderr",
     "output_type": "stream",
     "text": [
      "Processing <PIL.Image.Image image mode=RGB size=256x256 at 0x144811CA198>: 100%|█| 3200/3200 [16:59<00:00,  3.14 Samples/s] \n"
     ]
    }
   ],
   "source": [
    "import Augmentor\n",
    "p = Augmentor.Pipeline(r\"D:\\LEGO Vision Datasets\\classification-natural-data\\2458-blue\\Original Photos\", output_directory=\"..\")\n",
    "\n",
    "p.rotate(probability=1.0, max_left_rotation=10, max_right_rotation=10)\n",
    "p.rotate_random_90(probability=1.0)\n",
    "p.flip_left_right(probability=0.8)\n",
    "p.flip_top_bottom(probability=0.3)\n",
    "p.zoom(probability=0.9, max_factor=2.9, min_factor=1.0)\n",
    "p.random_brightness(min_factor=.8, max_factor=1.2, probability=0.7)\n",
    "p.random_contrast(min_factor=.8, max_factor=1.2, probability=0.7)\n",
    "p.resize(height=256, width=256, probability=1.0)\n",
    "p.sample(3200)"
   ]
  },
  {
   "cell_type": "code",
   "execution_count": 59,
   "metadata": {
    "scrolled": true
   },
   "outputs": [
    {
     "name": "stdout",
     "output_type": "stream",
     "text": [
      "Initialised with 12 image(s) found.\n",
      "Output directory set to D:\\LEGO Vision Datasets\\classification-natural-data\\3003-yellow\\Original Photos\\..."
     ]
    },
    {
     "name": "stderr",
     "output_type": "stream",
     "text": [
      "Processing <PIL.Image.Image image mode=RGB size=256x256 at 0x14480CCD128>: 100%|█| 3200/3200 [17:03<00:00,  4.59 Samples/s]  \n"
     ]
    }
   ],
   "source": [
    "import Augmentor\n",
    "p = Augmentor.Pipeline(r\"D:\\LEGO Vision Datasets\\classification-natural-data\\3003-yellow\\Original Photos\", output_directory=\"..\")\n",
    "\n",
    "p.rotate(probability=1.0, max_left_rotation=10, max_right_rotation=10)\n",
    "p.rotate_random_90(probability=1.0)\n",
    "p.flip_left_right(probability=0.8)\n",
    "p.flip_top_bottom(probability=0.3)\n",
    "p.zoom(probability=0.9, max_factor=3.0, min_factor=1.0)\n",
    "p.random_brightness(min_factor=.8, max_factor=1.2, probability=0.7)\n",
    "p.random_contrast(min_factor=.8, max_factor=1.2, probability=0.7)\n",
    "p.resize(height=256, width=256, probability=1.0)\n",
    "p.sample(3200)"
   ]
  },
  {
   "cell_type": "code",
   "execution_count": 58,
   "metadata": {},
   "outputs": [
    {
     "name": "stdout",
     "output_type": "stream",
     "text": [
      "Initialised with 10 image(s) found.\n",
      "Output directory set to D:\\LEGO Vision Datasets\\classification-natural-data\\3020-red\\Original Photos\\..."
     ]
    },
    {
     "name": "stderr",
     "output_type": "stream",
     "text": [
      "Processing <PIL.Image.Image image mode=RGB size=256x256 at 0x144810E0710>: 100%|█| 3200/3200 [16:28<00:00,  3.24 Samples/s] \n"
     ]
    }
   ],
   "source": [
    "import Augmentor\n",
    "p = Augmentor.Pipeline(r\"D:\\LEGO Vision Datasets\\classification-natural-data\\3020-red\\Original Photos\", output_directory=\"..\")\n",
    "\n",
    "p.rotate(probability=1.0, max_left_rotation=10, max_right_rotation=10)\n",
    "p.rotate_random_90(probability=1.0)\n",
    "p.flip_left_right(probability=0.8)\n",
    "p.flip_top_bottom(probability=0.3)\n",
    "p.zoom(probability=0.9, max_factor=2.5, min_factor=1.0)\n",
    "p.random_brightness(min_factor=.8, max_factor=1.2, probability=0.7)\n",
    "p.random_contrast(min_factor=.8, max_factor=1.2, probability=0.7)\n",
    "p.resize(height=256, width=256, probability=1.0)\n",
    "p.sample(3200)"
   ]
  },
  {
   "cell_type": "code",
   "execution_count": 57,
   "metadata": {},
   "outputs": [
    {
     "name": "stdout",
     "output_type": "stream",
     "text": [
      "Initialised with 18 image(s) found.\n",
      "Output directory set to D:\\LEGO Vision Datasets\\classification-natural-data\\3039-trans-clear\\Original Photos\\..."
     ]
    },
    {
     "name": "stderr",
     "output_type": "stream",
     "text": [
      "Processing <PIL.Image.Image image mode=RGB size=256x256 at 0x144812DDAC8>: 100%|█| 3200/3200 [16:00<00:00,  3.33 Samples/s] \n"
     ]
    }
   ],
   "source": [
    "import Augmentor\n",
    "p = Augmentor.Pipeline(r\"D:\\LEGO Vision Datasets\\classification-natural-data\\3039-trans-clear\\Original Photos\", output_directory=\"..\")\n",
    "\n",
    "p.rotate(probability=1.0, max_left_rotation=10, max_right_rotation=10)\n",
    "p.rotate_random_90(probability=1.0)\n",
    "p.flip_left_right(probability=0.8)\n",
    "p.flip_top_bottom(probability=0.3)\n",
    "p.zoom(probability=0.9, max_factor=2.7, min_factor=1.0)\n",
    "p.random_brightness(min_factor=.8, max_factor=1.2, probability=0.7)\n",
    "p.random_contrast(min_factor=.8, max_factor=1.2, probability=0.7)\n",
    "p.resize(height=256, width=256, probability=1.0)\n",
    "p.sample(3200)"
   ]
  },
  {
   "cell_type": "code",
   "execution_count": 56,
   "metadata": {},
   "outputs": [
    {
     "name": "stdout",
     "output_type": "stream",
     "text": [
      "Initialised with 19 image(s) found.\n",
      "Output directory set to D:\\LEGO Vision Datasets\\classification-natural-data\\3298-yellow\\Original Photos\\..."
     ]
    },
    {
     "name": "stderr",
     "output_type": "stream",
     "text": [
      "Processing <PIL.Image.Image image mode=RGB size=256x256 at 0x144803256D8>: 100%|█| 3200/3200 [16:32<00:00,  3.22 Samples/s] \n"
     ]
    }
   ],
   "source": [
    "import Augmentor\n",
    "p = Augmentor.Pipeline(r\"D:\\LEGO Vision Datasets\\classification-natural-data\\3298-yellow\\Original Photos\", output_directory=\"..\")\n",
    "\n",
    "p.rotate(probability=1.0, max_left_rotation=10, max_right_rotation=10)\n",
    "p.rotate_random_90(probability=1.0)\n",
    "p.flip_left_right(probability=0.8)\n",
    "p.flip_top_bottom(probability=0.3)\n",
    "p.zoom(probability=0.9, max_factor=2.7, min_factor=1.0)\n",
    "p.random_brightness(min_factor=.8, max_factor=1.2, probability=0.7)\n",
    "p.random_contrast(min_factor=.8, max_factor=1.2, probability=0.7)\n",
    "p.resize(height=256, width=256, probability=1.0)\n",
    "p.sample(3200)"
   ]
  },
  {
   "cell_type": "code",
   "execution_count": 55,
   "metadata": {},
   "outputs": [
    {
     "name": "stdout",
     "output_type": "stream",
     "text": [
      "Initialised with 8 image(s) found.\n",
      "Output directory set to D:\\LEGO Vision Datasets\\classification-natural-data\\3710-red\\Original Photos\\..."
     ]
    },
    {
     "name": "stderr",
     "output_type": "stream",
     "text": [
      "Processing <PIL.Image.Image image mode=RGB size=256x256 at 0x14480CC1DA0>: 100%|█| 3200/3200 [16:48<00:00,  3.17 Samples/s] \n"
     ]
    }
   ],
   "source": [
    "import Augmentor\n",
    "p = Augmentor.Pipeline(r\"D:\\LEGO Vision Datasets\\classification-natural-data\\3710-red\\Original Photos\", output_directory=\"..\")\n",
    "\n",
    "p.rotate(probability=1.0, max_left_rotation=10, max_right_rotation=10)\n",
    "p.rotate_random_90(probability=1.0)\n",
    "p.flip_left_right(probability=0.8)\n",
    "p.flip_top_bottom(probability=0.3)\n",
    "p.zoom(probability=0.9, max_factor=2.9, min_factor=1.0)\n",
    "p.random_brightness(min_factor=.8, max_factor=1.2, probability=0.7)\n",
    "p.random_contrast(min_factor=.8, max_factor=1.2, probability=0.7)\n",
    "p.resize(height=256, width=256, probability=1.0)\n",
    "p.sample(3200)"
   ]
  },
  {
   "cell_type": "code",
   "execution_count": 54,
   "metadata": {
    "scrolled": true
   },
   "outputs": [
    {
     "name": "stdout",
     "output_type": "stream",
     "text": [
      "Initialised with 8 image(s) found.\n",
      "Output directory set to D:\\LEGO Vision Datasets\\classification-natural-data\\6041-yellow\\Original Photos\\..."
     ]
    },
    {
     "name": "stderr",
     "output_type": "stream",
     "text": [
      "Processing <PIL.Image.Image image mode=RGB size=256x256 at 0x144802ECDA0>: 100%|█| 3200/3200 [18:17<00:00,  2.92 Samples/s] \n"
     ]
    }
   ],
   "source": [
    "import Augmentor\n",
    "p = Augmentor.Pipeline(r\"D:\\LEGO Vision Datasets\\classification-natural-data\\6041-yellow\\Original Photos\", output_directory=\"..\")\n",
    "\n",
    "p.rotate(probability=1.0, max_left_rotation=10, max_right_rotation=10)\n",
    "p.rotate_random_90(probability=1.0)\n",
    "p.flip_left_right(probability=0.8)\n",
    "p.flip_top_bottom(probability=0.3)\n",
    "p.zoom(probability=0.9, max_factor=3.4, min_factor=1.0)\n",
    "p.random_brightness(min_factor=.8, max_factor=1.2, probability=0.7)\n",
    "p.random_contrast(min_factor=.8, max_factor=1.2, probability=0.7)\n",
    "p.resize(height=256, width=256, probability=1.0)\n",
    "p.sample(3200)"
   ]
  },
  {
   "cell_type": "code",
   "execution_count": 15,
   "metadata": {},
   "outputs": [
    {
     "name": "stdout",
     "output_type": "stream",
     "text": [
      "Initialised with 11 image(s) found.\n",
      "Output directory set to D:\\LEGO Vision Datasets\\classification-natural-data\\2458-blue\\Original Photos\\.."
     ]
    },
    {
     "name": "stderr",
     "output_type": "stream",
     "text": [
      "Processing <PIL.Image.Image image mode=RGB size=2448x2448 at 0x14495D93240>: 100%|█| 11/11 [00:00<00:00, 14.48 Samples/s]\n"
     ]
    },
    {
     "name": "stdout",
     "output_type": "stream",
     "text": [
      "Initialised with 12 image(s) found.\n",
      "Output directory set to D:\\LEGO Vision Datasets\\classification-natural-data\\3003-yellow\\Original Photos\\.."
     ]
    },
    {
     "name": "stderr",
     "output_type": "stream",
     "text": [
      "Processing <PIL.Image.Image image mode=RGB size=2448x2448 at 0x14481104BE0>: 100%|█| 12/12 [00:00<00:00, 13.49 Samples/s]\n"
     ]
    },
    {
     "name": "stdout",
     "output_type": "stream",
     "text": [
      "Initialised with 10 image(s) found.\n",
      "Output directory set to D:\\LEGO Vision Datasets\\classification-natural-data\\3020-red\\Original Photos\\.."
     ]
    },
    {
     "name": "stderr",
     "output_type": "stream",
     "text": [
      "Processing <PIL.Image.Image image mode=RGB size=2448x2448 at 0x144810EE908>: 100%|█| 10/10 [00:00<00:00, 14.88 Samples/s]\n"
     ]
    },
    {
     "name": "stdout",
     "output_type": "stream",
     "text": [
      "Initialised with 18 image(s) found.\n",
      "Output directory set to D:\\LEGO Vision Datasets\\classification-natural-data\\3039-trans-clear\\Original Photos\\.."
     ]
    },
    {
     "name": "stderr",
     "output_type": "stream",
     "text": [
      "Processing <PIL.Image.Image image mode=RGB size=2448x2448 at 0x144A62C9710>: 100%|█| 18/18 [00:02<00:00,  6.99 Samples/s]\n"
     ]
    },
    {
     "name": "stdout",
     "output_type": "stream",
     "text": [
      "Initialised with 19 image(s) found.\n",
      "Output directory set to D:\\LEGO Vision Datasets\\classification-natural-data\\3298-yellow\\Original Photos\\.."
     ]
    },
    {
     "name": "stderr",
     "output_type": "stream",
     "text": [
      "Processing <PIL.Image.Image image mode=RGB size=2448x2448 at 0x14493F42C18>: 100%|█| 19/19 [00:04<00:00,  3.99 Samples/s]\n"
     ]
    },
    {
     "name": "stdout",
     "output_type": "stream",
     "text": [
      "Initialised with 8 image(s) found.\n",
      "Output directory set to D:\\LEGO Vision Datasets\\classification-natural-data\\3710-red\\Original Photos\\.."
     ]
    },
    {
     "name": "stderr",
     "output_type": "stream",
     "text": [
      "Processing <PIL.Image.Image image mode=RGB size=2448x2448 at 0x14493F425F8>: 100%|█| 8/8 [00:00<00:00, 14.37 Samples/s]\n"
     ]
    },
    {
     "name": "stdout",
     "output_type": "stream",
     "text": [
      "Initialised with 8 image(s) found.\n",
      "Output directory set to D:\\LEGO Vision Datasets\\classification-natural-data\\6041-yellow\\Original Photos\\.."
     ]
    },
    {
     "name": "stderr",
     "output_type": "stream",
     "text": [
      "Processing <PIL.Image.Image image mode=RGB size=2448x2448 at 0x14493F42438>: 100%|█| 8/8 [00:00<00:00, 14.46 Samples/s]\n"
     ]
    }
   ],
   "source": [
    "import Augmentor, os\n",
    "\n",
    "for directory in list(os.walk(r\"D:\\LEGO Vision Datasets\\classification-natural-data\"))[0][1]:\n",
    "    p = Augmentor.Pipeline(f\"D:\\LEGO Vision Datasets\\classification-natural-data\\{directory}\\Original Photos\", output_directory=\".\")\n",
    "\n",
    "    p.crop_by_size(height=2448, width=2448, probability=1.0)\n",
    "    p.process()"
   ]
  },
  {
   "cell_type": "code",
   "execution_count": 17,
   "metadata": {},
   "outputs": [],
   "source": [
    "from Augmentor.Operations import Operation\n",
    "from skimage.color import rgb2gray\n",
    "from PIL import ImageOps\n",
    "\n",
    "# Create your new operation by inheriting from the Operation superclass:\n",
    "class ColorInsenstive(Operation):\n",
    "    # Here you can accept as many custom parameters as required:\n",
    "    def __init__(self, probability):\n",
    "        # Call the superclass's constructor (meaning you must\n",
    "        # supply a probability value):\n",
    "        Operation.__init__(self, probability)\n",
    "        # Set your custom operation's member variables here as required:\n",
    "\n",
    "    # Your class must implement the perform_operation method:\n",
    "    def perform_operation(self, images):\n",
    "        inverted_images = []\n",
    "        for image in images:            \n",
    "            grayed = image.convert(\"L\")\n",
    "            inverted_images.append(ImageOps.invert(grayed))\n",
    "        return inverted_images"
   ]
  },
  {
   "cell_type": "code",
   "execution_count": 29,
   "metadata": {},
   "outputs": [],
   "source": [
    "import os\n",
    "from PIL import ImageOps, Image\n",
    "\n",
    "base_dir = r\"D:\\LEGO Vision Datasets\\classification-synthetic-data\"\n",
    "\n",
    "for directory in list(os.walk(base_dir))[0][1]:    \n",
    "    new_directory = f\"D:\\LEGO Vision Datasets\\classification-synthetic-data-color-insensitive\\{directory}\"\n",
    "    if not os.path.exists(new_directory):\n",
    "        os.makedirs(new_directory)\n",
    "    for file in os.listdir(os.path.join(base_dir, directory)):\n",
    "        if file.endswith(('png', 'jpg')):\n",
    "            image = Image.open(os.path.join(base_dir, directory,file)).convert(\"L\")\n",
    "            inverted = ImageOps.invert(image)\n",
    "            inverted.save(os.path.join(new_directory, file.split('\\\\')[-1]))\n",
    "            "
   ]
  },
  {
   "cell_type": "code",
   "execution_count": 47,
   "metadata": {
    "scrolled": true
   },
   "outputs": [
    {
     "name": "stdout",
     "output_type": "stream",
     "text": [
      "(256, 256, 3)\n"
     ]
    }
   ],
   "source": [
    "%matplotlib inline\n",
    "import numpy as np\n",
    "import matplotlib.pyplot as plt\n",
    "image = Image.open(r\"D:\\LEGO Vision Datasets\\classification-natural-data-color-insensitive\\3003-yellow\\Original Photos_original_Original Photos_original_IMG_20181023_162038.jpg_2a145cfa-dcd6-469a-8985-118a14b09a37.jpg_0b79272d-ff23-42da-851a-080ef9c8cc77.jpg\")\n",
    "stacked_img = np.stack((image,)*3, axis=-1)\n",
    "# plt.imshow(image)\n",
    "print(np.asarray(stacked_img).shape)\n",
    "# np.reshape(np.asarray(image), (256,256,3)"
   ]
  },
  {
   "cell_type": "code",
   "execution_count": 55,
   "metadata": {},
   "outputs": [],
   "source": [
    "import os\n",
    "from PIL import ImageOps, Image\n",
    "\n",
    "base_dir = r\"D:\\LEGO Vision Datasets\\classification-synthetic-data-color-insensitive\"\n",
    "\n",
    "for directory in list(os.walk(base_dir))[0][1]:    \n",
    "    new_directory = f\"D:\\LEGO Vision Datasets\\classification-synthetic-data-color-insensitive-three-channels\\{directory}\"\n",
    "    if not os.path.exists(new_directory):\n",
    "        os.makedirs(new_directory)\n",
    "    for file in os.listdir(os.path.join(base_dir, directory)):\n",
    "        if file.endswith(('png', 'jpg')):\n",
    "            image = Image.open(os.path.join(base_dir, directory,file))\n",
    "            new_image = Image.fromarray(np.uint8(np.stack((image,)*3, axis=-1)))\n",
    "            new_image.save(os.path.join(new_directory, file.split('\\\\')[-1]))\n",
    "            \n",
    "            "
   ]
  },
  {
   "cell_type": "code",
   "execution_count": null,
   "metadata": {},
   "outputs": [],
   "source": [
    "import Augmentor, os\n",
    "\n",
    "for directory in list(os.walk(r\"D:\\Datasets\\Cycle GAN\\real2synthetic_lego\\trainB\\Original Images\"))[0][1]:\n",
    "    p = Augmentor.Pipeline(f\"D:\\LEGO Vision Datasets\\classification-natural-data\\{directory}\\Original Photos\", output_directory=\".\")\n",
    "\n",
    "    p.crop_by_size(height=2448, width=2448, probability=1.0)\n",
    "    p.process()"
   ]
  }
 ],
 "metadata": {
  "kernelspec": {
   "display_name": "Python 3",
   "language": "python",
   "name": "python3"
  },
  "language_info": {
   "codemirror_mode": {
    "name": "ipython",
    "version": 3
   },
   "file_extension": ".py",
   "mimetype": "text/x-python",
   "name": "python",
   "nbconvert_exporter": "python",
   "pygments_lexer": "ipython3",
   "version": "3.6.4"
  }
 },
 "nbformat": 4,
 "nbformat_minor": 2
}
