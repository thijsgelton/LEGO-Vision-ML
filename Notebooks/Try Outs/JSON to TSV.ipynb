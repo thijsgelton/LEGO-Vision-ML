{
 "cells": [
  {
   "cell_type": "code",
   "execution_count": 28,
   "metadata": {},
   "outputs": [],
   "source": [
    "import json, os\n",
    "from pprint import pprint\n",
    "import random\n",
    "from sklearn.model_selection import train_test_split\n",
    "from shutil import copyfile\n",
    "\n",
    "\n",
    "\n",
    "base_directory = r\"D:\\LEGO Vision Datasets\\Detection\\Natural Data\"\n",
    "supervisely_directory = r\"Augmented Images__LEGO Vision__ds\"\n",
    "output_directory = r\"D:\\LEGO Vision Datasets\\Detection\\Natural Data_output\""
   ]
  },
  {
   "cell_type": "code",
   "execution_count": 25,
   "metadata": {},
   "outputs": [],
   "source": [
    "def extract_coordinates(annotation):\n",
    "    coordinates = []\n",
    "    for x, y in annotation['points']['exterior']:\n",
    "        coordinates.append(str(x))\n",
    "        coordinates.append('\\t')\n",
    "        coordinates.append(str(y))\n",
    "        coordinates.append('\\t')\n",
    "    coordinates.append('\\n')\n",
    "    return ''.join(coordinates)"
   ]
  },
  {
   "cell_type": "code",
   "execution_count": 31,
   "metadata": {},
   "outputs": [],
   "source": [
    "json_files = os.listdir(os.path.join(base_directory, supervisely_directory, \"ann\"))\n",
    "random.shuffle(json_files)\n",
    "train_images, test_images = train_test_split(json_files, test_size=0.3)\n",
    "for json_file in train_images:\n",
    "    annotations = json.load(open(os.path.join(base_directory, supervisely_directory, \"ann\", json_file)))\n",
    "    copyfile(os.path.join(base_directory, supervisely_directory, \"img\", json_file.replace('json', 'jpg')),\n",
    "             os.path.join(output_directory, \"positive\", json_file.replace('json', 'jpg')))\n",
    "    with open(os.path.join(output_directory, \"positive\", json_file.strip('json') + 'bboxes.labels.tsv'), 'w') as labels:\n",
    "        with open(os.path.join(output_directory, \"positive\", json_file.strip('json') + 'bboxes.tsv'), 'w') as bboxes:\n",
    "            for annotation in annotations['objects']:\n",
    "                line = extract_coordinates(annotation)\n",
    "                labels.write(annotation['classTitle'] + \"\\n\")\n",
    "                bboxes.write(extract_coordinates(annotation))\n",
    "                \n",
    "for json_file in test_images:\n",
    "    annotations = json.load(open(os.path.join(base_directory, supervisely_directory, \"ann\", json_file)))\n",
    "    copyfile(os.path.join(base_directory, supervisely_directory, \"img\", json_file.replace('json', 'jpg')),\n",
    "             os.path.join(output_directory, \"testImages\", json_file.replace('json', 'jpg')))\n",
    "    with open(os.path.join(output_directory, \"testImages\", json_file.strip('json') + 'bboxes.labels.tsv'), 'w') as labels:\n",
    "        with open(os.path.join(output_directory, \"testImages\", json_file.strip('json') + 'bboxes.tsv'), 'w') as bboxes:\n",
    "            for annotation in annotations['objects']:\n",
    "                line = extract_coordinates(annotation)\n",
    "                labels.write(annotation['classTitle'] + \"\\n\")\n",
    "                bboxes.write(extract_coordinates(annotation))"
   ]
  }
 ],
 "metadata": {
  "kernelspec": {
   "display_name": "Python 3",
   "language": "python",
   "name": "python3"
  },
  "language_info": {
   "codemirror_mode": {
    "name": "ipython",
    "version": 3
   },
   "file_extension": ".py",
   "mimetype": "text/x-python",
   "name": "python",
   "nbconvert_exporter": "python",
   "pygments_lexer": "ipython3",
   "version": "3.6.4"
  }
 },
 "nbformat": 4,
 "nbformat_minor": 2
}
